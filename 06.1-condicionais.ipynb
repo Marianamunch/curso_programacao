{
 "cells": [
  {
   "cell_type": "markdown",
   "metadata": {},
   "source": [
    "# Condicionais (if, else, elif)"
   ]
  },
  {
   "cell_type": "markdown",
   "metadata": {},
   "source": [
    "A palavra chave `if` em Python nos permite fazer o computador executar ações específicas caso uma certa condição seja verdadeira (`condição == True`).\n",
    "\n",
    "Verbalmente, podemos imaginar que estamos dizendo ao computador:\n",
    "\n",
    "> Ei, se isso acontecer, execute essa ação.\n",
    "\n",
    "Podemos então expandir ainda mais a ideia com as instruções <code> elif </code> e <code> else </code>, que nos permitem dizer ao computador:\n",
    "\n",
    "> Ei, se esse caso acontecer, execute essa ação. <br> Caso contrário, se outro caso acontecer, execute essa outra ação. <br> Do contrário, se nenhum  dos casos acima acontecer, execute esta última ação.\"\n",
    "\n",
    "Vamos ver o formato de sintaxe das instruções ` if ` para ter uma ideia melhor disso:\n",
    "\n",
    "```\n",
    "if caso1: \n",
    "    bloco_de_código1    # Roda se caso1 == True\n",
    "elif caso2:\n",
    "    bloco_de_código2    # Roda se caso1 == False and caso2 == True\n",
    "elif caso3:\n",
    "    bloco_de_código3    # Roda se (caso1 == False and caso2 == False) and caso3 == True\n",
    "else:\n",
    "    bloco_de_código4    # Roda se todos os casos anteriores forem falsos \n",
    "```    \n",
    "\n",
    "OBS: A **indentação** dos blocos de código é importante.\n",
    "\n",
    "Vamos ver alguns exemplos:"
   ]
  },
  {
   "cell_type": "markdown",
   "metadata": {},
   "source": [
    "## `if`"
   ]
  },
  {
   "cell_type": "code",
   "execution_count": 3,
   "metadata": {},
   "outputs": [
    {
     "name": "stdout",
     "output_type": "stream",
     "text": [
      "Imprimindo texto condicional\n"
     ]
    }
   ],
   "source": [
    "# Código é executado quando if é seguido por True\n",
    "\n",
    "if True:\n",
    "    print(\"Imprimindo texto condicional\")"
   ]
  },
  {
   "cell_type": "code",
   "execution_count": 4,
   "metadata": {},
   "outputs": [],
   "source": [
    "# Código não é executado quando if é seguido por False\n",
    "\n",
    "if False:\n",
    "    print(\"Imprimindo texto condicional\")"
   ]
  },
  {
   "cell_type": "markdown",
   "metadata": {},
   "source": [
    "## `if/else`"
   ]
  },
  {
   "cell_type": "markdown",
   "metadata": {},
   "source": [
    "`if` pode ser seguido por variáveis, expressões ou resultados de funções. Adicionando `else`, definimos o que vai ser feito se a condição especificada no `if` for falsa:"
   ]
  },
  {
   "cell_type": "code",
   "execution_count": 3,
   "metadata": {},
   "outputs": [
    {
     "name": "stdout",
     "output_type": "stream",
     "text": [
      "x era falso\n"
     ]
    }
   ],
   "source": [
    "# if com variável:\n",
    "\n",
    "x = 5 + 5 == 11\n",
    "\n",
    "if x:\n",
    "    print('x era verdadeiro')\n",
    "else:\n",
    "    print('x era falso')"
   ]
  },
  {
   "cell_type": "code",
   "execution_count": 4,
   "metadata": {},
   "outputs": [
    {
     "name": "stdout",
     "output_type": "stream",
     "text": [
      "Expressão booleana falsa\n",
      "Expressão matemática verdadeira\n"
     ]
    }
   ],
   "source": [
    "# if com expressões:\n",
    "\n",
    "# Expressão booleana\n",
    "if False or not True:\n",
    "    print(\"Expressão booleana verdadeira\")\n",
    "else:\n",
    "    print(\"Expressão booleana falsa\")\n",
    "    \n",
    "# Expressão matemática\n",
    "if 5*3 == 15:\n",
    "    print(\"Expressão matemática verdadeira\")\n",
    "else:\n",
    "    print(\"Expressão matemática verdadeira\")"
   ]
  },
  {
   "cell_type": "code",
   "execution_count": 7,
   "metadata": {},
   "outputs": [
    {
     "name": "stdout",
     "output_type": "stream",
     "text": [
      "Função retornou True\n"
     ]
    }
   ],
   "source": [
    "# if com função\n",
    "    \n",
    "def return_bool():\n",
    "    return True\n",
    "\n",
    "if return_bool():\n",
    "    print(\"Função retornou True\")\n",
    "else:\n",
    "    print(\"Função retornou False\")"
   ]
  },
  {
   "cell_type": "markdown",
   "metadata": {},
   "source": [
    "## `if/elif/else`\n",
    "\n",
    "Vamos ver agora um exemplo de como usar as três palavras chave em um mesmo código.\n",
    "\n",
    "Isso é muito útil quando precisamo lidar com várias condições.\n",
    "\n",
    "Por exemplo, podemos querer escrever uma função que tome o dia da semana (segunda, terça...)que ela que ela que ela que ela que ela que ela que ela que ela  como parâmetro e mprima uma mensagem dependendo do dia:"
   ]
  },
  {
   "cell_type": "code",
   "execution_count": 9,
   "metadata": {},
   "outputs": [
    {
     "name": "stdout",
     "output_type": "stream",
     "text": [
      "Partiu trabalhar\n",
      "Partiu descanso\n",
      "Esse dia da semana (quarentena) não existe\n"
     ]
    }
   ],
   "source": [
    "def dia_da_semana(dia):\n",
    "    if dia in ['segunda', 'terça', 'quarta', 'quinta', 'sexta']:\n",
    "        print(\"Partiu trabalhar\")\n",
    "    elif dia in ['sábado', 'domingo']:\n",
    "        print(\"Partiu descanso\")\n",
    "    else:\n",
    "        print(\"Esse dia da semana ({}) não existe\".format(dia))\n",
    "\n",
    "dia_da_semana('terça')\n",
    "dia_da_semana('sábado')\n",
    "dia_da_semana('quarentena')"
   ]
  },
  {
   "cell_type": "markdown",
   "metadata": {},
   "source": [
    "## `if`'s aninhados\n",
    "\n",
    "Nós podemos adicionar condições dentro de condições para cobrir casos mais específicos.\n",
    "\n",
    "Por exemplo, se quiséssemos modificar nossa função para que ela imprimisse mensagens específicas para alguns dias da semana, faríamos o seguinte:"
   ]
  },
  {
   "cell_type": "code",
   "execution_count": 12,
   "metadata": {},
   "outputs": [
    {
     "name": "stdout",
     "output_type": "stream",
     "text": [
      "Putz, a semana tá só começando...\n",
      "Meio da semana e já tô morto de cansaço.\n",
      "Opa! Quase fds!\n",
      "Hoje fou fazer vários nadas\n",
      "Amanhã já é segunda de novo...\n",
      "Esse dia da semana (quarentena) não existe\n"
     ]
    }
   ],
   "source": [
    "def dia_da_semana(dia):\n",
    "    if dia in ['segunda', 'terça', 'quarta', 'quinta', 'sexta']:\n",
    "        if dia == 'segunda' or dia == 'terça':\n",
    "            print(\"Putz, a semana tá só começando...\")\n",
    "        elif dia == 'quarta':\n",
    "            print(\"Meio da semana e já tô morto de cansaço.\")\n",
    "        elif dia in ['quinta', 'sexta']: # Poderia ser else\n",
    "            print(\"Opa! Quase fds!\")\n",
    "    elif dia in ['sábado', 'domingo']:\n",
    "        if dia == 'sábado':\n",
    "            print(\"Hoje fou fazer vários nadas\")\n",
    "        elif dia == 'domingo': # Poderia ser else\n",
    "            print(\"Amanhã já é segunda de novo...\")\n",
    "    else:\n",
    "        print(\"Esse dia da semana ({}) não existe\".format(dia))\n",
    "\n",
    "dia_da_semana('segunda')\n",
    "dia_da_semana('quarta')\n",
    "dia_da_semana('sexta')\n",
    "dia_da_semana('sábado')\n",
    "dia_da_semana('domingo')\n",
    "dia_da_semana('quarentena')"
   ]
  },
  {
   "cell_type": "markdown",
   "metadata": {},
   "source": [
    "Podemos também escrever uma função que receba um integer como parâmetro e nos diga se ele é zero, positivo ou negativo:"
   ]
  },
  {
   "cell_type": "code",
   "execution_count": 11,
   "metadata": {},
   "outputs": [
    {
     "name": "stdout",
     "output_type": "stream",
     "text": [
      "Zero\n",
      "Número positivo\n",
      "Número negativo\n"
     ]
    }
   ],
   "source": [
    "def pos_neg_zero(num):\n",
    "    if num >= 0:\n",
    "        if num == 0:\n",
    "            print(\"Zero\")\n",
    "        else:\n",
    "            print(\"Número positivo\")\n",
    "    else:\n",
    "        print(\"Número negativo\")\n",
    "        \n",
    "pos_neg_zero(0)\n",
    "pos_neg_zero(3)\n",
    "pos_neg_zero(-1)"
   ]
  },
  {
   "cell_type": "markdown",
   "metadata": {},
   "source": [
    "Isso é tudo que precisamos saber sobre condicionais para esse curso. Apesar de úteis, o ideal é não abusar delas. Código com muitas codições e aninhamento das mesmas tende a ser menos legível e mais difícil de debugar."
   ]
  }
 ],
 "metadata": {
  "kernelspec": {
   "display_name": "Python 3",
   "language": "python",
   "name": "python3"
  },
  "language_info": {
   "codemirror_mode": {
    "name": "ipython",
    "version": 3
   },
   "file_extension": ".py",
   "mimetype": "text/x-python",
   "name": "python",
   "nbconvert_exporter": "python",
   "pygments_lexer": "ipython3",
   "version": "3.8.3"
  }
 },
 "nbformat": 4,
 "nbformat_minor": 4
}
