{
 "cells": [
  {
   "cell_type": "markdown",
   "metadata": {},
   "source": [
    "# Loops"
   ]
  },
  {
   "cell_type": "markdown",
   "metadata": {},
   "source": [
    "E se nós tivermos uma lista e quisermos fazer algo com cada um dos elementos presentes nela? Será que temos que fazer as modificações manualmente em cada elemento, um por vez?\n",
    "\n",
    "Como já era de se esperar, há uma maneira mais simples de se **iterar** (repetir uma ação) sobre cada um dos valores de um conjunto de dados.\n",
    "\n",
    "Essa repetição de uma ação sobre vários valores é chamada de ***loop*** e pode ser feita por meio de duas palavras-chave diferentes:\n",
    "  - *For*\n",
    "  - *While*"
   ]
  },
  {
   "cell_type": "markdown",
   "metadata": {},
   "source": [
    "## For loop"
   ]
  },
  {
   "cell_type": "code",
   "execution_count": null,
   "metadata": {},
   "outputs": [],
   "source": []
  }
 ],
 "metadata": {
  "kernelspec": {
   "display_name": "Python 3",
   "language": "python",
   "name": "python3"
  },
  "language_info": {
   "codemirror_mode": {
    "name": "ipython",
    "version": 3
   },
   "file_extension": ".py",
   "mimetype": "text/x-python",
   "name": "python",
   "nbconvert_exporter": "python",
   "pygments_lexer": "ipython3",
   "version": "3.8.3"
  }
 },
 "nbformat": 4,
 "nbformat_minor": 4
}
