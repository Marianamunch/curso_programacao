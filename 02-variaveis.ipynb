{
 "cells": [
  {
   "cell_type": "markdown",
   "metadata": {},
   "source": [
    "# Variáveis"
   ]
  },
  {
   "cell_type": "markdown",
   "metadata": {},
   "source": [
    "Já pensou o quão chato é ter que ficar repetindo um valor o tempo todo, especialmente se você estiver trabalhando com vários valores ao mesmo tempo (o que é geralmente o caso)?\n",
    "\n",
    "Mais do que isso, o que é mais fácil lembrar: um nome (compras_semanais) ou um valor (75,63)?\n",
    "\n",
    "Nessa aula, vamos aprender como 'nomear' valores usando **variáveis** e usar esses nomes para chamar esses valores quando for necessário ou conveniente."
   ]
  },
  {
   "cell_type": "markdown",
   "metadata": {},
   "source": [
    "## Regras para nomes de variáveis\n",
    "  - Não pode começar com um número\n",
    "  - Não pode conter espaços. Use underscore `_`\n",
    "  - Não podem conter nenhum desses símbolos:\n",
    "  \n",
    "  :'\",<>/?|\\!@#%^&*~-+\n",
    "  - É recomendado que nomes sejam em minúscula com underscore ([PEP8](https://www.python.org/dev/peps/pep-0008/#function-and-variable-names))\n",
    "  - Evite usar palavras chave ou funções do python como `int` ou `str`\n",
    "  - Seu nome de variável idealmente deve te lembrar qual valor ela contém"
   ]
  },
  {
   "cell_type": "markdown",
   "metadata": {},
   "source": [
    "## Criando variáveis\n",
    "\n",
    "Mais corretamente: **Atribuindo valores a uma variável.**\n",
    "\n",
    "**Variável**: Rótulo a um pedaço da memória RAM ao qual vai ser atribuído um valor (objeto)."
   ]
  },
  {
   "cell_type": "markdown",
   "metadata": {},
   "source": [
    "Para criar (atribuir valor a) uma variável, nós precisamos usar o **operador de atribuição** `=` da seguinte forma:\n",
    "\n",
    "    nome_da_variavel = valor\n",
    "\n",
    "Por exemplo, vamos criar uma variável chamada `a` que receba o valor 10:"
   ]
  },
  {
   "cell_type": "code",
   "execution_count": 5,
   "metadata": {},
   "outputs": [],
   "source": [
    "a = 10"
   ]
  },
  {
   "cell_type": "markdown",
   "metadata": {},
   "source": [
    "Pronto! A variável acaba de ser criada.\n",
    "\n",
    "Daqui pra frente, não precisamos lembrar o **valor** em si, só o **nome da variável** que o contém. O computador vai lembrar do valor para nós.\n",
    "\n",
    "Agora, nós podemos recuperar esse valor simplesmente digitando o nome da variável."
   ]
  },
  {
   "cell_type": "code",
   "execution_count": 6,
   "metadata": {},
   "outputs": [
    {
     "data": {
      "text/plain": [
       "10"
      ]
     },
     "execution_count": 6,
     "metadata": {},
     "output_type": "execute_result"
    }
   ],
   "source": [
    "a"
   ]
  },
  {
   "cell_type": "markdown",
   "metadata": {},
   "source": [
    "Não só isso, como podemos também usar a variável em funções. Por exemplo, podemos:"
   ]
  },
  {
   "cell_type": "code",
   "execution_count": 7,
   "metadata": {},
   "outputs": [
    {
     "data": {
      "text/plain": [
       "int"
      ]
     },
     "execution_count": 7,
     "metadata": {},
     "output_type": "execute_result"
    }
   ],
   "source": [
    "# Checar o tipo do valor contido na variável (tipo da variável)\n",
    "type(a)"
   ]
  },
  {
   "cell_type": "code",
   "execution_count": 11,
   "metadata": {},
   "outputs": [
    {
     "name": "stdout",
     "output_type": "stream",
     "text": [
      "14\n",
      "20\n",
      "True\n",
      "pão pão pão pão pão pão pão pão pão pão \n"
     ]
    }
   ],
   "source": [
    "# Usar a variável em operações:\n",
    "print(a + 4)\n",
    "print(a + a)\n",
    "print(a + a != 15)\n",
    "print(\"pão \"*a)"
   ]
  },
  {
   "cell_type": "markdown",
   "metadata": {},
   "source": [
    "Repare que, apesar de ser um nome, a variável não deve ser envolvida por aspas. As aspas são usadas apenas na criação de novos objetos do tipo `string`. Se eu escrever `\"a\"` em vez de `a`:"
   ]
  },
  {
   "cell_type": "code",
   "execution_count": 12,
   "metadata": {},
   "outputs": [
    {
     "data": {
      "text/plain": [
       "'a'"
      ]
     },
     "execution_count": 12,
     "metadata": {},
     "output_type": "execute_result"
    }
   ],
   "source": [
    "\"a\""
   ]
  },
  {
   "cell_type": "markdown",
   "metadata": {},
   "source": [
    "Não vamos obter o valor esperado. Isso ocorre porque o Python não está buscando o valor da variável a, ele está criando um novo objeto (do tipo string) que contem a letra a. Se digitarmos sem as aspas:"
   ]
  },
  {
   "cell_type": "code",
   "execution_count": 13,
   "metadata": {},
   "outputs": [
    {
     "data": {
      "text/plain": [
       "10"
      ]
     },
     "execution_count": 13,
     "metadata": {},
     "output_type": "execute_result"
    }
   ],
   "source": [
    "a"
   ]
  },
  {
   "cell_type": "markdown",
   "metadata": {},
   "source": [
    "Voltamos a obter o valor esperado."
   ]
  },
  {
   "cell_type": "markdown",
   "metadata": {},
   "source": [
    "Apesar de termos trabalhado com valores numéricos até aqui, uma variável pode conter qualquer tipo de dado. Por exemplo:"
   ]
  },
  {
   "cell_type": "code",
   "execution_count": 30,
   "metadata": {},
   "outputs": [
    {
     "data": {
      "text/plain": [
       "'gabriel'"
      ]
     },
     "execution_count": 30,
     "metadata": {},
     "output_type": "execute_result"
    }
   ],
   "source": [
    "# Uma variável com uma string\n",
    "nome = 'gabriel'\n",
    "nome"
   ]
  },
  {
   "cell_type": "code",
   "execution_count": 31,
   "metadata": {},
   "outputs": [
    {
     "data": {
      "text/plain": [
       "True"
      ]
     },
     "execution_count": 31,
     "metadata": {},
     "output_type": "execute_result"
    }
   ],
   "source": [
    "# Uma variável com um valor booleano\n",
    "aula_de_programacao = True\n",
    "aula_de_programacao"
   ]
  },
  {
   "cell_type": "markdown",
   "metadata": {},
   "source": [
    "## Reatribuindo variáveis\n",
    "\n",
    "Como o próprio nome dá a entender, variáveis podem ser mudadas. O processo de atribuir um novo valor a uma variável preexistente se chama **reatribuição**.\n",
    "\n",
    "Fazer uma reatribuição é praticamente idêntico a criar uma nova variável:\n",
    "            \n",
    "            variavel_existente = novo valor\n",
    "\n",
    "Por exemplo, para reatribuir o valor da variável `a`, fazemos o seguinte:"
   ]
  },
  {
   "cell_type": "code",
   "execution_count": 32,
   "metadata": {},
   "outputs": [],
   "source": [
    "a = 42"
   ]
  },
  {
   "cell_type": "markdown",
   "metadata": {},
   "source": [
    "Com isso, o valor de a mudou, como podemos perceber ao chamar a variável:"
   ]
  },
  {
   "cell_type": "code",
   "execution_count": 33,
   "metadata": {},
   "outputs": [
    {
     "data": {
      "text/plain": [
       "42"
      ]
     },
     "execution_count": 33,
     "metadata": {},
     "output_type": "execute_result"
    }
   ],
   "source": [
    "a"
   ]
  },
  {
   "cell_type": "markdown",
   "metadata": {},
   "source": [
    "Podemos mudar o valor de uma variável quantas vezes quisermos:\n"
   ]
  },
  {
   "cell_type": "code",
   "execution_count": 34,
   "metadata": {},
   "outputs": [
    {
     "name": "stdout",
     "output_type": "stream",
     "text": [
      "42\n",
      "45\n",
      "156\n",
      "1024\n"
     ]
    }
   ],
   "source": [
    "print(a)\n",
    "a = 45\n",
    "print(a)\n",
    "a = 156\n",
    "print(a)\n",
    "a = 1024\n",
    "print(a)"
   ]
  },
  {
   "cell_type": "markdown",
   "metadata": {},
   "source": [
    "Mais do que isso, é possível mudar o tipo da variável ao se designar um novo valor para ela. Essa característica faz do python uma linguagem dita **dinamicamente tipada**.\n",
    "\n",
    "* **Tipagem dinâmica**: Característica de algumas linguagens de programação. Nas linguagens dinamicamente tipadas, não é necessário explicitar qual o tipo de uma variável ao criá-la. Logo, uma variável pode também acomodar valores de qualquer tipo.\n",
    "\n",
    "* **Tipagem estática**: Nas linguagens estaticamente tipadas, as variáveis devem ter seu tipo definido explicitamente e só acomodam valores daquele tipo.\n",
    "\n",
    "Pense em uma garrafa, que pode conter diferentes conteúdos (água, leite ou suco). A variável é como uma garrafa, podendo conter diferentes tipos de dados (str, int, bool).\n",
    "\n",
    "Em uma linguagem estaticamente tipada, a variável só pode acomodar dados do seu tipo. É como se nós tivéssemos uma garrafa e só pudéssemos usar ela para guardar um tipo de líquido.\n",
    "\n",
    "Em uma linguagem dinamicamente tipada, a variável não tem um tipo específico e pode, portanto, acomodar dados de qualquer tipo. Nesse caso, a variável é como uma garrafa que pode em um momento armazenar leite, em outro suco e em outro água.\n",
    "  \n",
    "Há vantagens e desvantagens em ambas as abordagens.\n",
    "  \n",
    "Mas o importante aqui é que **o Python permite mudar o tipo das variáveis na reatribuição**. Por exemplo:  "
   ]
  },
  {
   "cell_type": "code",
   "execution_count": 35,
   "metadata": {},
   "outputs": [
    {
     "name": "stdout",
     "output_type": "stream",
     "text": [
      "<class 'int'>\n",
      "<class 'str'>\n",
      "<class 'float'>\n",
      "<class 'bool'>\n"
     ]
    }
   ],
   "source": [
    "# Começamos com um integer\n",
    "variavel = 10\n",
    "print(type(variavel))\n",
    "# Então vamos para uma string\n",
    "variavel = \"bolo\"\n",
    "print(type(variavel))\n",
    "# Daí para um float\n",
    "variavel = 57.78\n",
    "print(type(variavel))\n",
    "# E, finalmente, para um valor booleano\n",
    "variavel = False\n",
    "print(type(variavel))"
   ]
  },
  {
   "cell_type": "markdown",
   "metadata": {},
   "source": [
    "## Exemplo - Leitura de código"
   ]
  },
  {
   "cell_type": "markdown",
   "metadata": {},
   "source": [
    "Uma das maiores vantagens em se usar variáveis para se guardar valores é o ganho na **legibilidade do código**. Por exemplo, se tivéssemos o seguinte código:"
   ]
  },
  {
   "cell_type": "code",
   "execution_count": 36,
   "metadata": {},
   "outputs": [
    {
     "data": {
      "text/plain": [
       "10.0"
      ]
     },
     "execution_count": 36,
     "metadata": {},
     "output_type": "execute_result"
    }
   ],
   "source": [
    "100 * 0.1"
   ]
  },
  {
   "cell_type": "markdown",
   "metadata": {},
   "source": [
    "Nós teríamos um valor, mas não faríamos idéia do que ele significa. Se nomearmos esse valor, colocand-o em uma variável, temos:"
   ]
  },
  {
   "cell_type": "code",
   "execution_count": 37,
   "metadata": {},
   "outputs": [
    {
     "data": {
      "text/plain": [
       "10.0"
      ]
     },
     "execution_count": 37,
     "metadata": {},
     "output_type": "execute_result"
    }
   ],
   "source": [
    "impostos = 100 * 0.1\n",
    "impostos"
   ]
  },
  {
   "cell_type": "markdown",
   "metadata": {},
   "source": [
    "E agora sabemos que esse valor corresponde a algum imposto pago. Mas o que significam os valores que estão sendo multiplicados? Para deixar o código mais legível, podemos nomear esses dois valores também:"
   ]
  },
  {
   "cell_type": "code",
   "execution_count": 48,
   "metadata": {},
   "outputs": [
    {
     "data": {
      "text/plain": [
       "10.0"
      ]
     },
     "execution_count": 48,
     "metadata": {},
     "output_type": "execute_result"
    }
   ],
   "source": [
    "# Declarando variável salario\n",
    "salario = 100\n",
    "# Declarando variável taxa \n",
    "taxa = 0.1\n",
    "# Declarando variável impostos em função de salario e taxa \n",
    "impostos = salario * taxa\n",
    "# Obtendo o valor da variável impostos\n",
    "impostos"
   ]
  },
  {
   "cell_type": "markdown",
   "metadata": {},
   "source": [
    "Muito mais legível, não é? \n",
    "\n",
    "Numa situação otimista, na qual o salário aumente, teríamos então o seguinte:"
   ]
  },
  {
   "cell_type": "code",
   "execution_count": 49,
   "metadata": {},
   "outputs": [
    {
     "data": {
      "text/plain": [
       "25.0"
      ]
     },
     "execution_count": 49,
     "metadata": {},
     "output_type": "execute_result"
    }
   ],
   "source": [
    "# Reatribuindo o salário\n",
    "salario = 250\n",
    "# Recalculando os impostos com o novo salário\n",
    "impostos = salario * taxa\n",
    "# Obtendo o valor da variável impostos\n",
    "impostos"
   ]
  },
  {
   "cell_type": "markdown",
   "metadata": {},
   "source": [
    "Observe que tivemos que repetir a declaração da variável `impostos` para reajustar seu valor graças à mudança da variável `salario`.\n",
    "\n",
    "De maneira geral, repetição de código é algo temido e evitado por programadores. Torna o código menos legível e difícil de debugar. Para além disso, é amplamente vista como uma afronta à elegância e bons costumes da nobre arte de escrever código, como fica claro no [\"The Zen of Python\"](https://www.python.org/dev/peps/pep-0020/):"
   ]
  },
  {
   "cell_type": "code",
   "execution_count": 1,
   "metadata": {},
   "outputs": [
    {
     "name": "stdout",
     "output_type": "stream",
     "text": [
      "The Zen of Python, by Tim Peters\n",
      "\n",
      "Beautiful is better than ugly.\n",
      "Explicit is better than implicit.\n",
      "Simple is better than complex.\n",
      "Complex is better than complicated.\n",
      "Flat is better than nested.\n",
      "Sparse is better than dense.\n",
      "Readability counts.\n",
      "Special cases aren't special enough to break the rules.\n",
      "Although practicality beats purity.\n",
      "Errors should never pass silently.\n",
      "Unless explicitly silenced.\n",
      "In the face of ambiguity, refuse the temptation to guess.\n",
      "There should be one-- and preferably only one --obvious way to do it.\n",
      "Although that way may not be obvious at first unless you're Dutch.\n",
      "Now is better than never.\n",
      "Although never is often better than *right* now.\n",
      "If the implementation is hard to explain, it's a bad idea.\n",
      "If the implementation is easy to explain, it may be a good idea.\n",
      "Namespaces are one honking great idea -- let's do more of those!\n"
     ]
    }
   ],
   "source": [
    "import this"
   ]
  },
  {
   "cell_type": "markdown",
   "metadata": {},
   "source": [
    "<br>\n",
    "\n",
    "Por mais que tudo isso pareça chatice ou nerdice à primeira vista, escrever código limpo, com nomes de variáveis autoexplicativos e sem repetição é extremamente importante. Especialmente quando você está lidando com centenas ou milhares de linhas de código.\n",
    "\n",
    "Então, agora que aprendemos como dar bons nomes para nossas variáveis, será que existe alguma forma de lidar melhor com a repetição de código?\n",
    "\n",
    "A resposta é sim, e nós vamos ver isso melhor na próxima aula, que tratará de **funções**. Até lá :)"
   ]
  }
 ],
 "metadata": {
  "kernelspec": {
   "display_name": "Python 3",
   "language": "python",
   "name": "python3"
  },
  "language_info": {
   "codemirror_mode": {
    "name": "ipython",
    "version": 3
   },
   "file_extension": ".py",
   "mimetype": "text/x-python",
   "name": "python",
   "nbconvert_exporter": "python",
   "pygments_lexer": "ipython3",
   "version": "3.8.3"
  }
 },
 "nbformat": 4,
 "nbformat_minor": 4
}
