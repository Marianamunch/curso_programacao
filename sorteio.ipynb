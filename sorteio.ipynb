{
 "cells": [
  {
   "cell_type": "code",
   "execution_count": 54,
   "metadata": {},
   "outputs": [],
   "source": [
    "import random # Módulo para gerar numeros aleatórios\n",
    "\n",
    "def sorteio_grupos(): # Definindo a função\n",
    "    orientadores = [\"Fabiana\", \"Vivian\", \"Bruna\", \"Tayná\", \"Gileno\", \"Larissa\"] # Lista de nomes dos orientadores\n",
    "    num_grupo = 1 # Número do grupo\n",
    "    while orientadores: # Enquanto a lista de orientadores tiver pelo menos um nome, execute isso\n",
    "        print(\"Grupo {}: {}\".format(num_grupo, orientadores.pop(random.randint(0, len(orientadores) - 1)))) # Imprimir na tela o grupo e sortear um orientador para ele. O nome daquele orientador vai ser removido da lista\n",
    "        num_grupo = num_grupo + 1 # Número do grupo muda a cada loop"
   ]
  },
  {
   "cell_type": "code",
   "execution_count": 91,
   "metadata": {},
   "outputs": [
    {
     "name": "stdout",
     "output_type": "stream",
     "text": [
      "Grupo 1: Larissa\n",
      "Grupo 2: Vivian\n",
      "Grupo 3: Tayná\n",
      "Grupo 4: Bruna\n",
      "Grupo 5: Gileno\n",
      "Grupo 6: Fabiana\n"
     ]
    }
   ],
   "source": [
    "sorteio_grupos() # Chamando função para sortear os grupos"
   ]
  },
  {
   "cell_type": "code",
   "execution_count": null,
   "metadata": {},
   "outputs": [],
   "source": []
  }
 ],
 "metadata": {
  "kernelspec": {
   "display_name": "Python 3",
   "language": "python",
   "name": "python3"
  },
  "language_info": {
   "codemirror_mode": {
    "name": "ipython",
    "version": 3
   },
   "file_extension": ".py",
   "mimetype": "text/x-python",
   "name": "python",
   "nbconvert_exporter": "python",
   "pygments_lexer": "ipython3",
   "version": "3.8.3"
  }
 },
 "nbformat": 4,
 "nbformat_minor": 4
}
