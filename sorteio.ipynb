{
  "nbformat": 4,
  "nbformat_minor": 0,
  "metadata": {
    "kernelspec": {
      "display_name": "Python 3",
      "language": "python",
      "name": "python3"
    },
    "language_info": {
      "codemirror_mode": {
        "name": "ipython",
        "version": 3
      },
      "file_extension": ".py",
      "mimetype": "text/x-python",
      "name": "python",
      "nbconvert_exporter": "python",
      "pygments_lexer": "ipython3",
      "version": "3.8.3"
    },
    "colab": {
      "name": "sorteio.ipynb",
      "provenance": []
    }
  },
  "cells": [
    {
      "cell_type": "code",
      "metadata": {
        "id": "R1h47zK6ZiTG",
        "colab_type": "code",
        "colab": {}
      },
      "source": [
        "import random # Módulo para gerar numeros aleatórios\n",
        "\n",
        "def sorteio_grupos(): # Definindo a função\n",
        "    orientadores = [\"Fabiana\", \"Vivian\", \"Bruna\", \"Tayná\", \"Gileno\", \"Larissa\"] # Lista de nomes dos orientadores\n",
        "    num_grupo = 1 # Número do grupo\n",
        "    while orientadores: # Enquanto a lista de orientadores tiver pelo menos um nome, execute isso\n",
        "        print(\"Grupo {}: {}\".format(num_grupo, orientadores.pop(random.randint(0, len(orientadores) - 1)))) # Imprimir na tela o grupo e sortear um orientador para ele. O nome daquele orientador vai ser removido da lista\n",
        "        num_grupo = num_grupo + 1 # Número do grupo muda a cada loop"
      ],
      "execution_count": null,
      "outputs": []
    },
    {
      "cell_type": "code",
      "metadata": {
        "id": "ZjAAAQOWZiTM",
        "colab_type": "code",
        "colab": {},
        "outputId": "da1e567e-4c00-4a68-b212-25182c886b42"
      },
      "source": [
        "sorteio_grupos() # Chamando função para sortear os grupos"
      ],
      "execution_count": null,
      "outputs": [
        {
          "output_type": "stream",
          "text": [
            "Grupo 1: Larissa\n",
            "Grupo 2: Vivian\n",
            "Grupo 3: Tayná\n",
            "Grupo 4: Bruna\n",
            "Grupo 5: Gileno\n",
            "Grupo 6: Fabiana\n"
          ],
          "name": "stdout"
        }
      ]
    },
    {
      "cell_type": "code",
      "metadata": {
        "id": "3W2NVU_KZiTR",
        "colab_type": "code",
        "colab": {}
      },
      "source": [
        "import random # Módulo para gerar numeros aleatórios\n",
        "\n",
        "def sorteio_especies(): # Definindo a função\n",
        "    especies = [\"Btimberlakei\", \"Sbicolor\", \"Asimoni\", \"Pamabilis\", \"Cmorschi\"] # lista de espécies\n",
        "    projetiners = [\"luizscheffer\", \"jurizzo\", \"joaoc-ramalho\", \"marianamunch\", \"renan-r-f\", \"manubfsouza\", \"juliamarinatto\"] # Lista de projetiners\n",
        "    while projetiners: # Enquanto a lista de projetiners tiver pelo menos um nome, execute isso\n",
        "        if especies == []: # Se a lista ficar sem espécies\n",
        "          especies = [\"Btimberlakei\", \"Sbicolor\", \"Asimoni\", \"Pamabilis\", \"Cmorschi\"] # Recrie a lista de espécies\n",
        "        print(\"{}:\\t{}\".format(projetiners.pop(0), especies.pop(random.randint(0, len(especies) - 1)))) # Imprimir na tela um projetiner e sortear aleatoriamente uma espécie para ele. O nome do projeiner vai ser removido da lista"
      ],
      "execution_count": 17,
      "outputs": []
    },
    {
      "cell_type": "code",
      "metadata": {
        "id": "-6J0g0TshN5s",
        "colab_type": "code",
        "colab": {
          "base_uri": "https://localhost:8080/",
          "height": 134
        },
        "outputId": "d6e4cb86-f00e-416b-d6e7-88f669dcdb04"
      },
      "source": [
        "sorteio_especies()"
      ],
      "execution_count": 16,
      "outputs": [
        {
          "output_type": "stream",
          "text": [
            "luizscheffer:\t\tBtimberlakei\n",
            "jurizzo:\t\tPamabilis\n",
            "joaoc-ramalho:\t\tSbicolor\n",
            "marianamunch:\t\tAsimoni\n",
            "renan-r-f:\t\tCmorschi\n",
            "manubfsouza:\t\tAsimoni\n",
            "juliamarinatto:\t\tBtimberlakei\n"
          ],
          "name": "stdout"
        }
      ]
    },
    {
      "cell_type": "code",
      "metadata": {
        "id": "Q-WjhfQKlcvF",
        "colab_type": "code",
        "colab": {}
      },
      "source": [
        "import random # Módulo para gerar numeros aleatórios\n",
        "\n",
        "def sorteio_especies3(): # Definindo a função\n",
        "    especies = [\"Btimberlakei\", \"Sbicolor\", \"Asimoni\", \"Pamabilis\"] # lista de espécies\n",
        "    projetiners = [\"marianamunch\", \"renan-r-f\", \"manubfsouza\"] # Lista de projetiners\n",
        "    while projetiners: # Enquanto a lista de projetiners tiver pelo menos um nome, execute isso\n",
        "        print(\"{}:\\t{}\".format(projetiners.pop(0), especies.pop(random.randint(0, len(especies) - 1)))) # Imprimir na tela um projetiner e sortear aleatoriamente uma espécie para ele. O nome do projeiner vai ser removido da lista"
      ],
      "execution_count": 19,
      "outputs": []
    },
    {
      "cell_type": "code",
      "metadata": {
        "id": "xBNfk2NPnipY",
        "colab_type": "code",
        "colab": {
          "base_uri": "https://localhost:8080/",
          "height": 67
        },
        "outputId": "3cf90e16-38aa-4e7b-b9bb-541f8704d2fa"
      },
      "source": [
        "sorteio_especies3()"
      ],
      "execution_count": 23,
      "outputs": [
        {
          "output_type": "stream",
          "text": [
            "marianamunch:\tSbicolor\n",
            "renan-r-f:\tBtimberlakei\n",
            "manubfsouza:\tAsimoni\n"
          ],
          "name": "stdout"
        }
      ]
    },
    {
      "cell_type": "code",
      "metadata": {
        "id": "t-ImKuMJnoA8",
        "colab_type": "code",
        "colab": {}
      },
      "source": [
        ""
      ],
      "execution_count": null,
      "outputs": []
    }
  ]
}