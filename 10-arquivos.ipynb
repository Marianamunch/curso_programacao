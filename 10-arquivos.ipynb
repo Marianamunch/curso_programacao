{
  "nbformat": 4,
  "nbformat_minor": 0,
  "metadata": {
    "kernelspec": {
      "display_name": "Python 3",
      "language": "python",
      "name": "python3"
    },
    "language_info": {
      "codemirror_mode": {
        "name": "ipython",
        "version": 3
      },
      "file_extension": ".py",
      "mimetype": "text/x-python",
      "name": "python",
      "nbconvert_exporter": "python",
      "pygments_lexer": "ipython3",
      "version": "3.8.3"
    },
    "colab": {
      "name": "10-arquivos.ipynb",
      "provenance": []
    }
  },
  "cells": [
    {
      "cell_type": "code",
      "metadata": {
        "id": "977A5ranpvz7",
        "colab_type": "code",
        "colab": {}
      },
      "source": [
        "## Não se preocupem com essa célula. Ela é só pra essa aula funcionar no Google Colab\n",
        "## Se estiver rodando isso no Colab, Descomente e rode o código abaixo:\n",
        "\n",
        "#!git clone https://github.com/gavieira/curso_programacao\n",
        "\n",
        "#import os\n",
        "#os.chdir('/content/curso_programacao')\n",
        "#!git pull"
      ],
      "execution_count": null,
      "outputs": []
    },
    {
      "cell_type": "markdown",
      "metadata": {
        "id": "d7cexPdtpv0B",
        "colab_type": "text"
      },
      "source": [
        "# Manipulação de arquivos"
      ]
    },
    {
      "cell_type": "markdown",
      "metadata": {
        "id": "iH_A7YzRpv0C",
        "colab_type": "text"
      },
      "source": [
        "Muitas vezes, precisamos transferir o arquivo para \"dentro\" do nosso programa para que seu conteúdo seja manipulado.\n",
        "\n",
        "A forma mais comum de se trabalhar com arquivos em Python é usar a função `open()`. Sua sintaxe é:\n",
        "\n",
        "     open(arquivo, modo)\n",
        "\n",
        "- **arquivo**: caminho/nome do arquivo que se quer abrir\n",
        "- **modo**: string definindo o modo de abertura do arquivo\n",
        "  - **\"r\"** - Read (Padrão) - Abre arquivo para leitura. Erro se o aqruivo não existir.\n",
        "  - **\"a\"** - Append - Abre arquivo para *appending* (adicionar conteúdo a partir da última linha). Cria arquivo se o mesmo não existir.\n",
        "  - **\"w\"** - Write - Abre arquivo para escrita. Sobrescreve arquivo já existente. Cria novo arquivo se o mesmo não existir.\n",
        "  - **\"x\"** - Create - Cria o arquivo. Erro se o arquivo existir\n",
        "- Além desses 4 modos, é possível especificar se o arquivo aberto será em formato binário ou de texto (**não será tão útil aqui**):\n",
        "  - **\"t\"** - Text (Padrão) - Arquivos de texto (.txt, .fasta, .genbank, .html, .ipynb)\n",
        "  - **\"b\"** - Binário - Imagens, por exemplo."
      ]
    },
    {
      "cell_type": "markdown",
      "metadata": {
        "id": "SLxAu4pkpv0D",
        "colab_type": "text"
      },
      "source": [
        "A função `open()` retorna um objeto (chamado *file object*), que possui vários métodos associados à leitura do conteúdo do arquivo:"
      ]
    },
    {
      "cell_type": "code",
      "metadata": {
        "id": "enlHg-tDpv0E",
        "colab_type": "code",
        "colab": {},
        "outputId": "8890f516-528a-4d2e-e021-8e8507f5161e"
      },
      "source": [
        "# Criando file object\n",
        "open('arquivos/arquivo_texto.txt') # Default mode: 'r'"
      ],
      "execution_count": null,
      "outputs": [
        {
          "output_type": "execute_result",
          "data": {
            "text/plain": [
              "<_io.TextIOWrapper name='arquivos/arquivo_texto.txt' mode='r' encoding='UTF-8'>"
            ]
          },
          "metadata": {
            "tags": []
          },
          "execution_count": 3
        }
      ]
    },
    {
      "cell_type": "markdown",
      "metadata": {
        "id": "TMuBRfw1pv0K",
        "colab_type": "text"
      },
      "source": [
        "Não especificamos o modo para mostrar que o valor padrão é `r` (`rt`, para ser mais exato), mas passaremos a declarar explicitamente o modo daqui pra frente por ser uma boa prática."
      ]
    },
    {
      "cell_type": "code",
      "metadata": {
        "id": "08GTFj0Ipv0L",
        "colab_type": "code",
        "colab": {},
        "outputId": "915350f1-0d8b-4df3-b91d-8ecc69c35fe7"
      },
      "source": [
        "type(open('arquivos/arquivo_texto.txt', 'r'))"
      ],
      "execution_count": null,
      "outputs": [
        {
          "output_type": "execute_result",
          "data": {
            "text/plain": [
              "_io.TextIOWrapper"
            ]
          },
          "metadata": {
            "tags": []
          },
          "execution_count": 4
        }
      ]
    },
    {
      "cell_type": "markdown",
      "metadata": {
        "id": "5Mhv5ohKpv0P",
        "colab_type": "text"
      },
      "source": [
        "## Métodos do *file object*"
      ]
    },
    {
      "cell_type": "code",
      "metadata": {
        "id": "drLwC7oOpv0Q",
        "colab_type": "code",
        "colab": {},
        "outputId": "52ee41df-102f-491f-9f04-7eee6a0a8903"
      },
      "source": [
        "# Métodos associados ao file object\n",
        "print(dir(open('arquivos/arquivo_texto.txt', 'r')))"
      ],
      "execution_count": null,
      "outputs": [
        {
          "output_type": "stream",
          "text": [
            "['_CHUNK_SIZE', '__class__', '__del__', '__delattr__', '__dict__', '__dir__', '__doc__', '__enter__', '__eq__', '__exit__', '__format__', '__ge__', '__getattribute__', '__gt__', '__hash__', '__init__', '__init_subclass__', '__iter__', '__le__', '__lt__', '__ne__', '__new__', '__next__', '__reduce__', '__reduce_ex__', '__repr__', '__setattr__', '__sizeof__', '__str__', '__subclasshook__', '_checkClosed', '_checkReadable', '_checkSeekable', '_checkWritable', '_finalizing', 'buffer', 'close', 'closed', 'detach', 'encoding', 'errors', 'fileno', 'flush', 'isatty', 'line_buffering', 'mode', 'name', 'newlines', 'read', 'readable', 'readline', 'readlines', 'reconfigure', 'seek', 'seekable', 'tell', 'truncate', 'writable', 'write', 'write_through', 'writelines']\n"
          ],
          "name": "stdout"
        }
      ]
    },
    {
      "cell_type": "markdown",
      "metadata": {
        "id": "UNVa-ofJpv0U",
        "colab_type": "text"
      },
      "source": [
        "### `read()` e `seek()`\n",
        "\n",
        "Agora, vamos passar a salvar o *file object* em variáveis para começar a brincar com ele.\n",
        "\n",
        "Primeiramente, iremos ler todo o conteúdo do arquivo com o método `read()`:"
      ]
    },
    {
      "cell_type": "code",
      "metadata": {
        "id": "gx_ni-Rvpv0V",
        "colab_type": "code",
        "colab": {},
        "outputId": "bee09be7-0791-49e2-c530-8014224e65e3"
      },
      "source": [
        "# Botando file object em variável\n",
        "arquivo_texto = open('arquivos/arquivo_texto.txt', 'r')\n",
        "\n",
        "#Imprimindo linhas do arquivo\n",
        "print(arquivo_texto.read())"
      ],
      "execution_count": null,
      "outputs": [
        {
          "output_type": "stream",
          "text": [
            "Olá!\n",
            "Esse é um arquivo de texto para o curso de programação em Python.\n",
            "Ele tem só algumas linhas.\n",
            "Que vão ser mostradas na aula sobre manipulação de arquivos.\n"
          ],
          "name": "stdout"
        }
      ]
    },
    {
      "cell_type": "markdown",
      "metadata": {
        "id": "u9nnRJnjpv0a",
        "colab_type": "text"
      },
      "source": [
        "Se tentarmos imprimir novamente o conteúdo do arquivo com o método `read()`, nada será impresso:"
      ]
    },
    {
      "cell_type": "code",
      "metadata": {
        "id": "LdRBEM8bpv0a",
        "colab_type": "code",
        "colab": {},
        "outputId": "3a725176-eaec-4a6a-99dd-3d0bfbd163ef"
      },
      "source": [
        "print(arquivo_texto.read())"
      ],
      "execution_count": null,
      "outputs": [
        {
          "output_type": "stream",
          "text": [
            "\n"
          ],
          "name": "stdout"
        }
      ]
    },
    {
      "cell_type": "markdown",
      "metadata": {
        "id": "g8ncfwhUpv0f",
        "colab_type": "text"
      },
      "source": [
        "Isso acontece porque há um contador em *file objects* que indicam até onde nós lemos o seu conteúdo. Esse contador não é resetado ao chegar no fim do arquivo. É comum dizer nesse caso que o objeto foi **exaurido**.\n",
        "\n",
        "Para resolver isso, podemos:\n",
        "  - Recriar o objeto\n",
        "  - Resetar a posição do contador com o método seek()\n",
        "  - Salvando o conteúdo de `arquivo_texto.read()` em uma variável, que pode ser acessada quantas vezes se quiser (mas gasta mais memória)."
      ]
    },
    {
      "cell_type": "code",
      "metadata": {
        "id": "N5xadUkwpv0g",
        "colab_type": "code",
        "colab": {},
        "outputId": "9c3d9863-accd-42b5-91c6-090b8a93adb9"
      },
      "source": [
        "# Recriando o objeto e imprimindo conteúdo\n",
        "arquivo_texto = open('arquivos/arquivo_texto.txt', 'r')\n",
        "print(arquivo_texto.read())"
      ],
      "execution_count": null,
      "outputs": [
        {
          "output_type": "stream",
          "text": [
            "Olá!\n",
            "Esse é um arquivo de texto para o curso de programação em Python.\n",
            "Ele tem só algumas linhas.\n",
            "Que vão ser mostradas na aula sobre manipulação de arquivos.\n"
          ],
          "name": "stdout"
        }
      ]
    },
    {
      "cell_type": "code",
      "metadata": {
        "id": "vL7R1I27pv0k",
        "colab_type": "code",
        "colab": {},
        "outputId": "b1bc66d2-9aa5-40f0-f92c-1ae967b7c39d"
      },
      "source": [
        "print(\"Antes de resetar contador:\\n\", arquivo_texto.read()) # Não vai imprimir nada\n",
        "\n",
        "# Usando método seek() para resetar a posição de leitura do objeto\n",
        "\n",
        "arquivo_texto.seek(0) # Voltando pra posição 0 (início do arquivo)\n",
        "print(\"Depois de resetar contador:\\n\", arquivo_texto.read())"
      ],
      "execution_count": null,
      "outputs": [
        {
          "output_type": "stream",
          "text": [
            "Antes de resetar contador:\n",
            " \n",
            "Depois de resetar contador:\n",
            " Olá!\n",
            "Esse é um arquivo de texto para o curso de programação em Python.\n",
            "Ele tem só algumas linhas.\n",
            "Que vão ser mostradas na aula sobre manipulação de arquivos.\n"
          ],
          "name": "stdout"
        }
      ]
    },
    {
      "cell_type": "code",
      "metadata": {
        "id": "hymsMnPEpv0o",
        "colab_type": "code",
        "colab": {},
        "outputId": "6c006f53-6908-488f-97aa-70385bffedb7"
      },
      "source": [
        "# Salvando conteúdo do arquivo em variável\n",
        "# Cuidado! Gasta mais memória. Não recomendável para arquivos grandes\n",
        "\n",
        "arquivo_texto.seek(0)\n",
        "conteúdo = arquivo_texto.read()\n",
        "\n",
        "print(conteúdo + '\\n')\n",
        "print(conteúdo + '\\n')\n",
        "print(conteúdo + '\\n')\n",
        "print(conteúdo + '\\n')\n",
        "print(conteúdo + '\\n')\n",
        "print(conteúdo + '\\n')\n",
        "print(conteúdo + '\\n')\n",
        "print(conteúdo + '\\n')"
      ],
      "execution_count": null,
      "outputs": [
        {
          "output_type": "stream",
          "text": [
            "Olá!\n",
            "Esse é um arquivo de texto para o curso de programação em Python.\n",
            "Ele tem só algumas linhas.\n",
            "Que vão ser mostradas na aula sobre manipulação de arquivos.\n",
            "\n",
            "Olá!\n",
            "Esse é um arquivo de texto para o curso de programação em Python.\n",
            "Ele tem só algumas linhas.\n",
            "Que vão ser mostradas na aula sobre manipulação de arquivos.\n",
            "\n",
            "Olá!\n",
            "Esse é um arquivo de texto para o curso de programação em Python.\n",
            "Ele tem só algumas linhas.\n",
            "Que vão ser mostradas na aula sobre manipulação de arquivos.\n",
            "\n",
            "Olá!\n",
            "Esse é um arquivo de texto para o curso de programação em Python.\n",
            "Ele tem só algumas linhas.\n",
            "Que vão ser mostradas na aula sobre manipulação de arquivos.\n",
            "\n",
            "Olá!\n",
            "Esse é um arquivo de texto para o curso de programação em Python.\n",
            "Ele tem só algumas linhas.\n",
            "Que vão ser mostradas na aula sobre manipulação de arquivos.\n",
            "\n",
            "Olá!\n",
            "Esse é um arquivo de texto para o curso de programação em Python.\n",
            "Ele tem só algumas linhas.\n",
            "Que vão ser mostradas na aula sobre manipulação de arquivos.\n",
            "\n",
            "Olá!\n",
            "Esse é um arquivo de texto para o curso de programação em Python.\n",
            "Ele tem só algumas linhas.\n",
            "Que vão ser mostradas na aula sobre manipulação de arquivos.\n",
            "\n",
            "Olá!\n",
            "Esse é um arquivo de texto para o curso de programação em Python.\n",
            "Ele tem só algumas linhas.\n",
            "Que vão ser mostradas na aula sobre manipulação de arquivos.\n",
            "\n"
          ],
          "name": "stdout"
        }
      ]
    },
    {
      "cell_type": "markdown",
      "metadata": {
        "id": "DsfhwWDypv0s",
        "colab_type": "text"
      },
      "source": [
        "Essa característica do `file object` de possuir um contador que não é resetado automaticamente e eventualmente acabar exaurido é muito comum em uma classe de iteráveis chamados de *generators*.\n",
        "\n",
        "Esses objetos infelizmente não serão abordados aqui, mas são muito importantes em momentos nos quais precisamos iterar sobre objetos muito grandes e ao mesmo tempo otimizar o consumo de RAM."
      ]
    },
    {
      "cell_type": "markdown",
      "metadata": {
        "id": "VQoh7-VRpv0t",
        "colab_type": "text"
      },
      "source": [
        "Voltando aos métodos de `file objects`, temos que o método `read()` pode receber um parâmetro numérico que especifica quantos caracteres devem ser retornados:"
      ]
    },
    {
      "cell_type": "code",
      "metadata": {
        "id": "hH6vexdspv0u",
        "colab_type": "code",
        "colab": {},
        "outputId": "e208f455-7ed4-4e3d-d1f6-cd07e0028a29"
      },
      "source": [
        "# Resetando a posição do objeto:\n",
        "arquivo_texto.seek(0)\n",
        "\n",
        "# Retornando os primeiros 20 caracteres:\n",
        "print(arquivo_texto.read(20))\n",
        "\n",
        "# Retornando os próximos 5 caracteres:\n",
        "print(arquivo_texto.read(5))"
      ],
      "execution_count": null,
      "outputs": [
        {
          "output_type": "stream",
          "text": [
            "Olá!\n",
            "Esse é um arqui\n",
            "vo de\n"
          ],
          "name": "stdout"
        }
      ]
    },
    {
      "cell_type": "markdown",
      "metadata": {
        "id": "pxoLzOQ9pv0y",
        "colab_type": "text"
      },
      "source": [
        "### `readline()`\n",
        "\n",
        "Se quisermos ler uma única linha do arquivo de texto, podemos usar o método `readline()`:"
      ]
    },
    {
      "cell_type": "code",
      "metadata": {
        "id": "F-gQZAmPpv0z",
        "colab_type": "code",
        "colab": {}
      },
      "source": [
        "arquivo_texto = open('arquivos/arquivo_texto.txt', 'r')"
      ],
      "execution_count": null,
      "outputs": []
    },
    {
      "cell_type": "code",
      "metadata": {
        "id": "uKTZJlL6pv03",
        "colab_type": "code",
        "colab": {},
        "outputId": "9ca81305-6856-4696-9783-699276bd72c2"
      },
      "source": [
        "# Rode essa célula múltiplas vezes\n",
        "# Eventualmente, o objeto será exaurido\n",
        "\n",
        "print(arquivo_texto.readline())"
      ],
      "execution_count": null,
      "outputs": [
        {
          "output_type": "stream",
          "text": [
            "Olá!\n",
            "\n"
          ],
          "name": "stdout"
        }
      ]
    },
    {
      "cell_type": "markdown",
      "metadata": {
        "id": "ZJPszf3Zpv06",
        "colab_type": "text"
      },
      "source": [
        "#### OBS: `for` loop para ler linhas em arquivo\n",
        "\n",
        "Também é possível usar um **for loop** para ler o arquivo inteiro, linha por linha:"
      ]
    },
    {
      "cell_type": "code",
      "metadata": {
        "id": "BdToutWDpv07",
        "colab_type": "code",
        "colab": {},
        "outputId": "684d3cb5-41e4-43f0-a0c1-8457162e9716"
      },
      "source": [
        "arquivo_texto = open('arquivos/arquivo_texto.txt', 'r')\n",
        "for linha in arquivo_texto:\n",
        "    print(linha)"
      ],
      "execution_count": null,
      "outputs": [
        {
          "output_type": "stream",
          "text": [
            "Olá!\n",
            "\n",
            "Esse é um arquivo de texto para o curso de programação em Python.\n",
            "\n",
            "Ele tem só algumas linhas.\n",
            "\n",
            "Que vão ser mostradas na aula sobre manipulação de arquivos.\n"
          ],
          "name": "stdout"
        }
      ]
    },
    {
      "cell_type": "markdown",
      "metadata": {
        "id": "UJHJ4ybppv0_",
        "colab_type": "text"
      },
      "source": [
        "### `write()`\n",
        "\n",
        "Como o nome dá a entender, o método `write()` recebe um parâmetro que é escrito em um arquivo que foi previamente aberto (no modo 'w' ou 'a'):"
      ]
    },
    {
      "cell_type": "code",
      "metadata": {
        "id": "_T4URvI8pv1A",
        "colab_type": "code",
        "colab": {}
      },
      "source": [
        "arquivo_novo = open(\"arquivos/arquivo_novo.txt\", \"w\")\n",
        "for num in range(10):\n",
        "    arquivo_novo.write(\"Linha {}\\n\".format(num))\n",
        "\n",
        "# Checar se arquivo saiu como o esperado...\n",
        "\n",
        "# ...e se descomentar a linha abaixo? Funciona?\n",
        "#arquivo_texto.close() # Spoilers do próximo método..."
      ],
      "execution_count": null,
      "outputs": []
    },
    {
      "cell_type": "markdown",
      "metadata": {
        "id": "J-HCcLKNpv1D",
        "colab_type": "text"
      },
      "source": [
        "### `close()` "
      ]
    },
    {
      "cell_type": "markdown",
      "metadata": {
        "id": "iLziIRC8pv1H",
        "colab_type": "text"
      },
      "source": [
        "É considerada boa prática **fechar** o arquivo aberto pela função `open()` após terminar de manuseá-lo. Para isso, basta usar o método `close()`.\n",
        "\n",
        "As mudanças em um arquivo só aparecerão no mesmo após seu fechamento. Logo, esquecer de fechar um arquivo é particularmente ruim para arquivos que estamos querendo modificar.\n",
        "\n",
        "Mas, por via das dúvidas, **SEMPRE** feche o arquivo."
      ]
    },
    {
      "cell_type": "code",
      "metadata": {
        "id": "nOyvDdNbpv1I",
        "colab_type": "code",
        "colab": {},
        "outputId": "e361b4b2-045a-49da-d608-b6940747e087"
      },
      "source": [
        "arquivo_texto = open('arquivos/arquivo_texto.txt', 'r')\n",
        "for linha in arquivo_texto:\n",
        "    print(linha)\n",
        "arquivo_texto.close() # SEMPRE fechar o arquivo. Mudanças no mesmo só aparecerão após fechá-lo."
      ],
      "execution_count": null,
      "outputs": [
        {
          "output_type": "stream",
          "text": [
            "Olá!\n",
            "\n",
            "Esse é um arquivo de texto para o curso de programação em Python.\n",
            "\n",
            "Ele tem só algumas linhas.\n",
            "\n",
            "Que vão ser mostradas na aula sobre manipulação de arquivos.\n"
          ],
          "name": "stdout"
        }
      ]
    },
    {
      "cell_type": "markdown",
      "metadata": {
        "id": "X26Ep3w2pv1N",
        "colab_type": "text"
      },
      "source": [
        "### Usando `with` em conjunto com `open()`\n",
        "\n",
        "Uma maneira de evitar a burocracia de gerenciar a abertura e fechamento de arquivos, salvar `file objects` em variáveis e afins  a palavra-chave `with`. Com ela, a sintaxe para abrir um arquivo muda um pouco:\n",
        "\n",
        "        with open(arquivo, modo) as nome_de_variável:\n",
        "            bloco_de_codigo_manipulando_arquivo\n",
        "            \n",
        "Com isso, já definimos o nome da variável que vai receber o objeto. Também é possível abrir mais de um objeto de uma vez assim. Mas talvez o mais importante seja que, após a execução do bloco de código, o arquivo será fechado automaticamente. Logo, **não precisamos nos preocupar com o fechamento de arquivos**."
      ]
    },
    {
      "cell_type": "code",
      "metadata": {
        "id": "LgS8CNKwpv1O",
        "colab_type": "code",
        "colab": {},
        "outputId": "30583b0c-c593-4c3a-91d4-8f46f66362ff"
      },
      "source": [
        "with open(\"arquivos/arquivo_texto.txt\", \"r\") as arquivo_texto:\n",
        "    for linha in arquivo_texto:\n",
        "        print(\"Linha lida: {}\".format(linha))\n",
        "    print(\"\\nEu não precisarei fechar esse arquivo!\")"
      ],
      "execution_count": null,
      "outputs": [
        {
          "output_type": "stream",
          "text": [
            "Linha lida: Olá!\n",
            "\n",
            "Linha lida: Esse é um arquivo de texto para o curso de programação em Python.\n",
            "\n",
            "Linha lida: Ele tem só algumas linhas.\n",
            "\n",
            "Linha lida: Que vão ser mostradas na aula sobre manipulação de arquivos.\n",
            "\n",
            "Eu não precisarei fechar esse arquivo!\n"
          ],
          "name": "stdout"
        }
      ]
    },
    {
      "cell_type": "markdown",
      "metadata": {
        "id": "pZ9Y62c4pv1R",
        "colab_type": "text"
      },
      "source": [
        "## Exemplo: arquivos fasta -  conversão DNA para RNA\n",
        "\n",
        "Os arquivos fasta possuem a seguinte estrutura:\n",
        "\n",
        "- Cabeçalho: Linha sempre iniciada por '>'. Identifica a sequência.\n",
        "- Sequência: Linhas com a sequência (de nucleotídeos ou aminoácidos).\n",
        "\n",
        "Um arquivo com extensão .fasta ou .fa pode conter uma ou múltiplas sequências. No segundo caso, o arquivo é chamado de **multifasta**.\n",
        "\n",
        "Vamos ver alguns exemplos:"
      ]
    },
    {
      "cell_type": "code",
      "metadata": {
        "id": "UsLOQA9qpv1S",
        "colab_type": "code",
        "colab": {},
        "outputId": "514b7062-e7f2-4307-a7ab-9a95fee4f5d6"
      },
      "source": [
        "with open(\"arquivos/seq1.fasta\", \"r\") as fasta:\n",
        "    for linha in fasta:\n",
        "        print(linha, end=\"\") # Parâmetro 'end' usado para evitar newlines"
      ],
      "execution_count": null,
      "outputs": [
        {
          "output_type": "stream",
          "text": [
            ">seq1\n",
            "ATGTTGAGTCTTCAGATCTGATTTAAGCCT\n",
            "AGTTCAGCTACGATCCGACTACGACTCGAA\n",
            "TCGACTCGATCAGCCATACGACTCGCAGAG\n",
            "TGCGTCGATCGGTCTTTAGCGTCAGCTACT\n",
            "GCTACGATCAGCTACGACGTACACGATAAA\n",
            "TCAGCTACA"
          ],
          "name": "stdout"
        }
      ]
    },
    {
      "cell_type": "code",
      "metadata": {
        "id": "V1iB9JvJpv1V",
        "colab_type": "code",
        "colab": {},
        "outputId": "99669b83-8b42-48e7-cd76-030c21324e0d"
      },
      "source": [
        "with open(\"arquivos/multifasta.fasta\", \"r\") as multifasta:\n",
        "    for linha in multifasta:\n",
        "        print(linha, end=\"\")"
      ],
      "execution_count": null,
      "outputs": [
        {
          "output_type": "stream",
          "text": [
            ">seq1\n",
            "ATGTTGAGTCTTCAGATCTGATTTAAGCCT\n",
            "AGTTCAGCTACGATCCGACTACGACTCGAA\n",
            "TCGACTCGATCAGCCATACGACTCGCAGAG\n",
            "TGCGTCGATCGGTCTTTAGCGTCAGCTACT\n",
            "GCTACGATCAGCTACGACGTACACGATAAA\n",
            "TCAGCTACA\n",
            ">seq2\n",
            "ATGGATCGATCAGCTACGACTACGACTACA\n",
            "TCAGCTACGACTAGCACTCAGCATCATCAG\n",
            "TCAGCTACGACGATCCGATCACGATCAGAT\n",
            "CTACGACATCGCATCACGACTACTCAGCAA\n",
            "TCAGCAACTCAGCATCAGCATCAGCACATG\n",
            "TCAGCTACGCATCGCATCAGACCTACGATT\n",
            "TCAGCCTAAGCCGATCATCACATCATCAGG\n",
            "TCACGACATCAGCATCAGACTCAGCAGACG\n",
            "CACACHACYACTCAGCCAGCATCAGTAGCA\n",
            "GTCAGCTACGCATCAGCACTACAGCATCAA\n",
            "AAACTCAGCTCACGACATCACAGACTCAGT\n",
            "CTACAGCATCAGGACCTACAGCATCAGCAT\n",
            "CTACGCATCAGACCTACATCACAGTTAAAT\n",
            "TCG\n",
            ">seq3\n",
            "GCTAGCATCTAGCATGCTAGCTACGTACGT\n",
            "TCAGCATCAGCATCAGCATCAGCAACTCAG\n",
            "ACACACTATACGTACGCATCAGACTCAGTC\n",
            "GAGCTACGATCAGCATACTACGACCATCAT\n",
            "TACGCT"
          ],
          "name": "stdout"
        }
      ]
    },
    {
      "cell_type": "markdown",
      "metadata": {
        "id": "b1tIWlrypv1Y",
        "colab_type": "text"
      },
      "source": [
        "Vamos criar uma função que converta sequências de DNA em RNA, ou seja, substitua T (timina) por U (uracila):"
      ]
    },
    {
      "cell_type": "code",
      "metadata": {
        "id": "SdZsapofpv1Z",
        "colab_type": "code",
        "colab": {}
      },
      "source": [
        "def dna_para_rna(arquivo_fasta):\n",
        "    conteudo = ''\n",
        "    with open(arquivo_fasta, 'r') as fasta:\n",
        "        for linha in fasta:\n",
        "            if linha.startswith('>'):\n",
        "                conteudo = conteudo + linha\n",
        "            else:\n",
        "                conteudo = conteudo + linha.replace(\"T\", \"U\")\n",
        "        return conteudo"
      ],
      "execution_count": null,
      "outputs": []
    },
    {
      "cell_type": "code",
      "metadata": {
        "id": "fl7_5Pespv1c",
        "colab_type": "code",
        "colab": {},
        "outputId": "45559f6e-f023-40d5-d0bc-72015545f745"
      },
      "source": [
        "print(dna_para_rna(\"arquivos/seq1.fasta\"))"
      ],
      "execution_count": null,
      "outputs": [
        {
          "output_type": "stream",
          "text": [
            ">seq1\n",
            "AUGUUGAGUCUUCAGAUCUGAUUUAAGCCU\n",
            "AGUUCAGCUACGAUCCGACUACGACUCGAA\n",
            "UCGACUCGAUCAGCCAUACGACUCGCAGAG\n",
            "UGCGUCGAUCGGUCUUUAGCGUCAGCUACU\n",
            "GCUACGAUCAGCUACGACGUACACGAUAAA\n",
            "UCAGCUACA\n"
          ],
          "name": "stdout"
        }
      ]
    },
    {
      "cell_type": "code",
      "metadata": {
        "id": "DgIGsHNrpv1f",
        "colab_type": "code",
        "colab": {},
        "outputId": "60695c4a-476b-49e7-9dc4-db9ea01b1dfa"
      },
      "source": [
        "print(dna_para_rna(\"arquivos/multifasta.fasta\"))"
      ],
      "execution_count": null,
      "outputs": [
        {
          "output_type": "stream",
          "text": [
            ">seq1\n",
            "AUGUUGAGUCUUCAGAUCUGAUUUAAGCCU\n",
            "AGUUCAGCUACGAUCCGACUACGACUCGAA\n",
            "UCGACUCGAUCAGCCAUACGACUCGCAGAG\n",
            "UGCGUCGAUCGGUCUUUAGCGUCAGCUACU\n",
            "GCUACGAUCAGCUACGACGUACACGAUAAA\n",
            "UCAGCUACA\n",
            ">seq2\n",
            "AUGGAUCGAUCAGCUACGACUACGACUACA\n",
            "UCAGCUACGACUAGCACUCAGCAUCAUCAG\n",
            "UCAGCUACGACGAUCCGAUCACGAUCAGAU\n",
            "CUACGACAUCGCAUCACGACUACUCAGCAA\n",
            "UCAGCAACUCAGCAUCAGCAUCAGCACAUG\n",
            "UCAGCUACGCAUCGCAUCAGACCUACGAUU\n",
            "UCAGCCUAAGCCGAUCAUCACAUCAUCAGG\n",
            "UCACGACAUCAGCAUCAGACUCAGCAGACG\n",
            "CACACHACYACUCAGCCAGCAUCAGUAGCA\n",
            "GUCAGCUACGCAUCAGCACUACAGCAUCAA\n",
            "AAACUCAGCUCACGACAUCACAGACUCAGU\n",
            "CUACAGCAUCAGGACCUACAGCAUCAGCAU\n",
            "CUACGCAUCAGACCUACAUCACAGUUAAAU\n",
            "UCG\n",
            ">seq3\n",
            "GCUAGCAUCUAGCAUGCUAGCUACGUACGU\n",
            "UCAGCAUCAGCAUCAGCAUCAGCAACUCAG\n",
            "ACACACUAUACGUACGCAUCAGACUCAGUC\n",
            "GAGCUACGAUCAGCAUACUACGACCAUCAU\n",
            "UACGCU\n"
          ],
          "name": "stdout"
        }
      ]
    },
    {
      "cell_type": "markdown",
      "metadata": {
        "id": "43Ed9PLupv1i",
        "colab_type": "text"
      },
      "source": [
        "Isso é o bastante sobre manipulação de arquivos, um tópico extremamente útil e importante dentro e fora da bioinformática.\n",
        "\n",
        "Até a próxima aula!"
      ]
    }
  ]
}