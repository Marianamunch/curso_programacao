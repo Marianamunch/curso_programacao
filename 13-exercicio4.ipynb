{
 "cells": [
  {
   "cell_type": "code",
   "execution_count": 1,
   "metadata": {},
   "outputs": [],
   "source": [
    "## Não se preocupem com essa célula. Ela é só pra essa aula funcionar no Google Colab\n",
    "## Se estiver rodando isso no Colab, Descomente e rode o código abaixo:\n",
    "\n",
    "#!git clone https://github.com/gavieira/curso_programacao\n",
    "\n",
    "#import os\n",
    "#os.chdir('/content/curso_programacao')\n",
    "#!git pull\n",
    "#!pip install biopython"
   ]
  },
  {
   "cell_type": "markdown",
   "metadata": {},
   "source": [
    "# Exercícios"
   ]
  },
  {
   "cell_type": "markdown",
   "metadata": {},
   "source": [
    "## 1\n",
    "Reescrever as funções dos dois exercícios da lista anterior que lidam com fasta, mas dessa vez usando biopython:"
   ]
  },
  {
   "cell_type": "code",
   "execution_count": null,
   "metadata": {},
   "outputs": [],
   "source": []
  },
  {
   "cell_type": "markdown",
   "metadata": {},
   "source": [
    "## 2\n",
    "Escrever um script que converta um arquivo genbank em um arquivo fasta:"
   ]
  },
  {
   "cell_type": "code",
   "execution_count": null,
   "metadata": {},
   "outputs": [],
   "source": []
  }
 ],
 "metadata": {
  "kernelspec": {
   "display_name": "Python 3",
   "language": "python",
   "name": "python3"
  },
  "language_info": {
   "codemirror_mode": {
    "name": "ipython",
    "version": 3
   },
   "file_extension": ".py",
   "mimetype": "text/x-python",
   "name": "python",
   "nbconvert_exporter": "python",
   "pygments_lexer": "ipython3",
   "version": "3.8.3"
  }
 },
 "nbformat": 4,
 "nbformat_minor": 4
}
