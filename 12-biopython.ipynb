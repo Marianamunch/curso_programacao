{
  "nbformat": 4,
  "nbformat_minor": 0,
  "metadata": {
    "kernelspec": {
      "display_name": "Python 3",
      "language": "python",
      "name": "python3"
    },
    "language_info": {
      "codemirror_mode": {
        "name": "ipython",
        "version": 3
      },
      "file_extension": ".py",
      "mimetype": "text/x-python",
      "name": "python",
      "nbconvert_exporter": "python",
      "pygments_lexer": "ipython3",
      "version": "3.8.3"
    },
    "colab": {
      "name": "12-biopython.ipynb",
      "provenance": []
    }
  },
  "cells": [
    {
      "cell_type": "code",
      "metadata": {
        "id": "H7orBDbQmHDz",
        "colab_type": "code",
        "colab": {}
      },
      "source": [
        "## Não se preocupem com essa célula. Ela é só pra essa aula funcionar no Google Colab\n",
        "## Se estiver rodando isso no Colab, Descomente e rode o código abaixo:\n",
        "\n",
        "#!git clone https://github.com/gavieira/curso_programacao\n",
        "\n",
        "#import os\n",
        "#os.chdir('/content/curso_programacao')\n",
        "#!git pull\n",
        "#!pip install biopython"
      ],
      "execution_count": null,
      "outputs": []
    },
    {
      "cell_type": "markdown",
      "metadata": {
        "id": "JGj_8_f2mHD5",
        "colab_type": "text"
      },
      "source": [
        "# Biopython"
      ]
    },
    {
      "cell_type": "markdown",
      "metadata": {
        "id": "Fa2OdoGVmHD6",
        "colab_type": "text"
      },
      "source": [
        "## Importando módulos\n",
        "\n",
        "**Módulos** são arquivos que contém funções/métodos geralmente não estão disponíveis por padrão no python. Os módulos podem ser carregados e usados no seu código (e te salvar muito tempo).\n",
        "\n",
        "Para carregar um módulo, usamos a palavra-chave **import**:"
      ]
    },
    {
      "cell_type": "code",
      "metadata": {
        "id": "UOsAPBSCmHD7",
        "colab_type": "code",
        "colab": {
          "base_uri": "https://localhost:8080/",
          "height": 89
        },
        "outputId": "8ca8a061-73a4-46cd-930e-493406e52f02"
      },
      "source": [
        "# Importando módulo 'math'\n",
        "\n",
        "import math\n",
        "print(dir(math))\n",
        "print(math.sqrt(25)) # Raiz quadrada\n",
        "print(math.factorial(3)) # Fatorial"
      ],
      "execution_count": 4,
      "outputs": [
        {
          "output_type": "stream",
          "text": [
            "['__doc__', '__loader__', '__name__', '__package__', '__spec__', 'acos', 'acosh', 'asin', 'asinh', 'atan', 'atan2', 'atanh', 'ceil', 'copysign', 'cos', 'cosh', 'degrees', 'e', 'erf', 'erfc', 'exp', 'expm1', 'fabs', 'factorial', 'floor', 'fmod', 'frexp', 'fsum', 'gamma', 'gcd', 'hypot', 'inf', 'isclose', 'isfinite', 'isinf', 'isnan', 'ldexp', 'lgamma', 'log', 'log10', 'log1p', 'log2', 'modf', 'nan', 'pi', 'pow', 'radians', 'sin', 'sinh', 'sqrt', 'tan', 'tanh', 'tau', 'trunc']\n",
            "5.0\n",
            "6\n"
          ],
          "name": "stdout"
        }
      ]
    },
    {
      "cell_type": "markdown",
      "metadata": {
        "id": "fCljM_rUmHEA",
        "colab_type": "text"
      },
      "source": [
        "Adicionamente, podemos usar duas palavras-chave combinadas com o **import**:\n",
        "\n",
        "- **from**: Nos permite carregar apenas um ou alguns métodos/funções do módulo.\n",
        "- **as**: Nos permite renomear o módulo o funções/métodos importados"
      ]
    },
    {
      "cell_type": "code",
      "metadata": {
        "id": "5lgffPMDmHEB",
        "colab_type": "code",
        "colab": {}
      },
      "source": [
        "# Importando apenas método 'sqrt' do módulo 'math'\n",
        "\n",
        "from math import sqrt   # E se adicionarmos o método 'factorial' ao import?\n",
        "\n",
        "print(sqrt(25))\n",
        "print(factorial(3))"
      ],
      "execution_count": null,
      "outputs": []
    },
    {
      "cell_type": "code",
      "metadata": {
        "id": "oNaaul_TmHEF",
        "colab_type": "code",
        "colab": {}
      },
      "source": [
        "# Importando módulo 'math' com nome customizado\n",
        "\n",
        "import math as matematica\n",
        "\n",
        "print(matematica.sqrt(25))\n",
        "print(matematica.factorial(3))"
      ],
      "execution_count": null,
      "outputs": []
    },
    {
      "cell_type": "code",
      "metadata": {
        "id": "ncNbJM9RmHEJ",
        "colab_type": "code",
        "colab": {}
      },
      "source": [
        "# Importando métodos com nome customizado\n",
        "\n",
        "from math import sqrt as raiz_quadrada, factorial as fatorial\n",
        "\n",
        "print(raiz_quadrada(25))\n",
        "print(fatorial(3))"
      ],
      "execution_count": null,
      "outputs": []
    },
    {
      "cell_type": "markdown",
      "metadata": {
        "id": "Ld5BuONhmHEN",
        "colab_type": "text"
      },
      "source": [
        "## Manipulação de sequências de DNA sem módulos\n",
        "\n",
        "Obviamente, como sequências de DNA são strings, podemos fazer várias operações sobre elas usando apenas os recursos básicos do Python:"
      ]
    },
    {
      "cell_type": "code",
      "metadata": {
        "id": "UXgW8zWzmHEO",
        "colab_type": "code",
        "colab": {}
      },
      "source": [
        "# Salvando uma sequência à variável \"seq\"\n",
        "seq = \"ATGGTATAA\""
      ],
      "execution_count": null,
      "outputs": []
    },
    {
      "cell_type": "code",
      "metadata": {
        "id": "R73VCwPLmHET",
        "colab_type": "code",
        "colab": {}
      },
      "source": [
        "# Imprimindo o tamanho da sequência\n",
        "print(\"Essa sequencia tem {} nucleotídeos.\".format(len(seq)))"
      ],
      "execution_count": null,
      "outputs": []
    },
    {
      "cell_type": "code",
      "metadata": {
        "id": "olPyo-tvmHEX",
        "colab_type": "code",
        "colab": {}
      },
      "source": [
        "# Podemos pegar cada um dos nucleotídeos e o manusear como quisermos:\n",
        "for nt in range(len(seq)):\n",
        "    print(\"Index: {}: {}\".format(nt, seq[nt]))"
      ],
      "execution_count": null,
      "outputs": []
    },
    {
      "cell_type": "code",
      "metadata": {
        "id": "xqvYOpaImHEb",
        "colab_type": "code",
        "colab": {}
      },
      "source": [
        "# Podemos também separa a sequência em trincas (códons):\n",
        "contador = 0\n",
        "for nt in range(0, len(seq), 3):\n",
        "    contador += 1\n",
        "    print(\"Trinca {}: {}\".format(contador, seq[nt:nt+3]))"
      ],
      "execution_count": null,
      "outputs": []
    },
    {
      "cell_type": "markdown",
      "metadata": {
        "id": "79psCkAamHEi",
        "colab_type": "text"
      },
      "source": [
        "Entretanto, há várias outras operações mais avançadas (como traduzir uma sequência de nucleotídeos em uma de aminoácidos) que são facilitadas por um módulo específico: o **Biopython**."
      ]
    },
    {
      "cell_type": "markdown",
      "metadata": {
        "id": "nqhi4Y5MmHEi",
        "colab_type": "text"
      },
      "source": [
        "## Biopython"
      ]
    },
    {
      "cell_type": "markdown",
      "metadata": {
        "id": "uj7MwDXImHEj",
        "colab_type": "text"
      },
      "source": [
        "[**Biopython**](https://biopython.org/) é um módulo que possui várias ferramentas prontas para o manuseio de dados biológicos."
      ]
    },
    {
      "cell_type": "markdown",
      "metadata": {
        "id": "3oHFQH4LmHEk",
        "colab_type": "text"
      },
      "source": [
        "### Objeto `Seq`\n",
        "\n",
        "O objeto mais simples em Biopython é o objeto Seq, que possui vários métodos interessantes:"
      ]
    },
    {
      "cell_type": "code",
      "metadata": {
        "id": "7TXJK5mmmHEl",
        "colab_type": "code",
        "colab": {}
      },
      "source": [
        "# Primeiro, vamos importar o que precisamos\n",
        "from Bio.Seq import Seq\n",
        "\n",
        "# E agora, criar nosso objeto Seq\n",
        "dnaseq = Seq(\"ATGGTATAA\")\n",
        "\n",
        "print(type(dnaseq))\n",
        "print(dir(dnaseq))"
      ],
      "execution_count": null,
      "outputs": []
    },
    {
      "cell_type": "markdown",
      "metadata": {
        "id": "EEmY6NnkmHEp",
        "colab_type": "text"
      },
      "source": [
        "Com um objeto `Seq`, podemos, dentre outras coisas:"
      ]
    },
    {
      "cell_type": "code",
      "metadata": {
        "id": "1NqHdHY0mHEq",
        "colab_type": "code",
        "colab": {}
      },
      "source": [
        "# Gerar o reverso complementar da sequência\n",
        "print(\"DNA original: {}\".format(dnaseq))\n",
        "print(\"Reverso complementar: {}\".format(dnaseq.reverse_complement()))"
      ],
      "execution_count": null,
      "outputs": []
    },
    {
      "cell_type": "code",
      "metadata": {
        "id": "2zPb2-exmHEv",
        "colab_type": "code",
        "colab": {}
      },
      "source": [
        "# Podemos transcrevê-la ou mesmo retrotranscrevê-la\n",
        "\n",
        "rnaseq = dnaseq.transcribe()\n",
        "\n",
        "print(\"RNA transcrito a partir desse DNA: {}\".format(rnaseq))\n",
        "print(\"Retrotranscrevendo o RNA: {}\".format(rnaseq.back_transcribe()))"
      ],
      "execution_count": null,
      "outputs": []
    },
    {
      "cell_type": "code",
      "metadata": {
        "id": "XKji508bmHEz",
        "colab_type": "code",
        "colab": {}
      },
      "source": [
        "# A tradução pode ser feita tanto a partir de DNA quanto de RNA\n",
        "\n",
        "print(\"Proteína traduzida a partir de DNA: {}\".format(dnaseq.translate()))\n",
        "print(\"Proteína traduzida a partir de RNA: {}\".format(rnaseq.translate()))"
      ],
      "execution_count": null,
      "outputs": []
    },
    {
      "cell_type": "code",
      "metadata": {
        "id": "rLcwyFc8mHE3",
        "colab_type": "code",
        "colab": {}
      },
      "source": [
        "# Podemos também obter o tamanho das sequências (DNA, RNA ou proteína)\n",
        "\n",
        "# Gerando objeto com sequencia de aa\n",
        "aaseq = dnaseq.translate()\n",
        "\n",
        "print(\"Tamanho da sequência de DNA: {}\".format(len(dnaseq)))\n",
        "print(\"Tamanho da sequência de RNA: {}\".format(len(rnaseq)))\n",
        "print(\"Tamanho da sequência de proteína: {}\".format(len(aaseq))) #OBS: Inclui stop codon!!"
      ],
      "execution_count": null,
      "outputs": []
    },
    {
      "cell_type": "markdown",
      "metadata": {
        "id": "4KfBrFWcmHE7",
        "colab_type": "text"
      },
      "source": [
        "Será que conseguimos converter a informação da proteína para dna que nem na retrotranscrição do RNA? Vamos tentar!"
      ]
    },
    {
      "cell_type": "code",
      "metadata": {
        "id": "XW1ky2kzmHE8",
        "colab_type": "code",
        "colab": {}
      },
      "source": [
        "# Tentando retrotraduzir a sequência.\n",
        "# Como não há um método back_translate(), iremos tentar com o back_transcribe()\n",
        "print(aaseq.back_transcribe())"
      ],
      "execution_count": null,
      "outputs": []
    },
    {
      "cell_type": "markdown",
      "metadata": {
        "id": "PMP6dThXmHE_",
        "colab_type": "text"
      },
      "source": [
        "#### Não conseguimos retrotraduzir?\n",
        "\n",
        "Por que deu erro?\n",
        "\n",
        "O código genético é **degenerado**: Mais de um códon traduz para um mesmo aminoácido.\n",
        "\n",
        "Ou seja, na ida da informação do DNA para proteína, só há uma tradução possível. Na volta para o DNA, há múltiplas."
      ]
    },
    {
      "cell_type": "markdown",
      "metadata": {
        "id": "_8of0D0CmHE_",
        "colab_type": "text"
      },
      "source": [
        "### CodonTable\n",
        "\n",
        "Para entender melhor a questão da degeneração do DNA, podemos acessar o código genético, que está disponível dentro do Biopython:"
      ]
    },
    {
      "cell_type": "code",
      "metadata": {
        "id": "cg1Q96IGmHFA",
        "colab_type": "code",
        "colab": {}
      },
      "source": [
        "from Bio.Data import CodonTable\n",
        "print(CodonTable.unambiguous_dna_by_id.get(1)) # É um dicionário"
      ],
      "execution_count": null,
      "outputs": []
    },
    {
      "cell_type": "markdown",
      "metadata": {
        "id": "IEMRQAlQmHFF",
        "colab_type": "text"
      },
      "source": [
        "#### Código genético é universal?\n",
        "\n",
        "A maioria dos pesquisadores trabalham com genes codificados pelo Código Padrão (*Standard - Genetic Codon Table* 1). Mas há inúmeras variações do código dito \"universal\"."
      ]
    },
    {
      "cell_type": "code",
      "metadata": {
        "collapsed": true,
        "jupyter": {
          "outputs_hidden": true
        },
        "id": "jRQZeO7VmHFG",
        "colab_type": "code",
        "colab": {}
      },
      "source": [
        "for tabela in CodonTable.unambiguous_dna_by_id.values():\n",
        "    print(tabela)"
      ],
      "execution_count": null,
      "outputs": []
    },
    {
      "cell_type": "markdown",
      "metadata": {
        "id": "WTuWSqORmHFJ",
        "colab_type": "text"
      },
      "source": [
        "Até agora, nós brincamos somente com dados já presentes no Biopython ou com sequências curtas de DNA criadas na hora por nós mesmos.\n",
        "\n",
        "Mas ao se trabalhar com bioinformática, precisamos ler arquivos que possuem sequências reais de organismos. Essas sequências geralmente são bem grandes (milhares de nt's) e podem possuir outras informações associadas (anotação de genes).\n",
        "\n",
        "Vamos ver agora como trabalhar com sequências presentes em arquivos."
      ]
    },
    {
      "cell_type": "markdown",
      "metadata": {
        "id": "-96GOI33mHFK",
        "colab_type": "text"
      },
      "source": [
        "### SeqIO\n",
        "\n",
        "Iremos agora aprender um pouco sobre o [**SeqIO**](https://biopython.org/wiki/SeqIO), um conjunto de ferramentas do Biopython que permite a leitura e `parsing` (extração das informações) dos mais diversos tipos de arquivos em bioinformática.\n",
        "\n",
        "Aqui, focaremos em usar o **SeqIO para a análise de um arquivo *genbank***. Um arquivo genbank é muito mais complexo que um fasta, sendo dividido em 3 partes:\n",
        "\n",
        "- **Header**: metadados sobre a sequência\n",
        "- **Feature Table**: Anotações (no nosso caso, de genes)\n",
        "- **Sequência**: Sequência de DNA\n",
        "\n",
        "Vamos dar uma olhada nesse tipo de arquivo:"
      ]
    },
    {
      "cell_type": "code",
      "metadata": {
        "collapsed": true,
        "jupyter": {
          "outputs_hidden": true
        },
        "id": "K0j0-VGzmHFK",
        "colab_type": "code",
        "colab": {}
      },
      "source": [
        "# Abrindo arquivo genbank\n",
        "\n",
        "with open(\"arquivos/pgracilis_mitocondria.gb\", \"r\") as genbank:\n",
        "    for line in genbank:\n",
        "        print(line, end='')"
      ],
      "execution_count": null,
      "outputs": []
    },
    {
      "cell_type": "markdown",
      "metadata": {
        "id": "qErQxdmImHFN",
        "colab_type": "text"
      },
      "source": [
        "Sendo um arquivo complexo, é mais difícil extrair informação de um genbank do que de um fasta, por exemplo. \n",
        "\n",
        "Mas o SeqIO consegue 'quebrar' o genbank em cada uma de suas informações ([*parsing* ou análise sintática](https://pt.wikipedia.org/wiki/An%C3%A1lise_sint%C3%A1tica_(computa%C3%A7%C3%A3o))), que podem ser acessadas individualmete. Isso facilita muito o uso desses arquivos.\n",
        "\n",
        "Vamos ver isso com mais calma a seguir:"
      ]
    },
    {
      "cell_type": "markdown",
      "metadata": {
        "id": "RuQLvG4AmHFO",
        "colab_type": "text"
      },
      "source": [
        "### `SeqIO`\n",
        "\n",
        "Obviamente, para usar o SeqIO, precisamos primeiro importá-lo:"
      ]
    },
    {
      "cell_type": "code",
      "metadata": {
        "id": "W5fDoMBxmHFP",
        "colab_type": "code",
        "colab": {}
      },
      "source": [
        "from Bio import SeqIO"
      ],
      "execution_count": null,
      "outputs": []
    },
    {
      "cell_type": "markdown",
      "metadata": {
        "id": "G7MmEexzmHFS",
        "colab_type": "text"
      },
      "source": [
        "Para ler um arquivo genbank (ou qualquer outro arquivo suportado, na verdade), precisamos criar um **objeto SeqIO**. Para isso, precisamos usar o método `SeqIO.parse()`:"
      ]
    },
    {
      "cell_type": "code",
      "metadata": {
        "id": "1sloKWhAmHFS",
        "colab_type": "code",
        "colab": {}
      },
      "source": [
        "genbank = SeqIO.parse(\"arquivos/pgracilis_mitocondria.gb\", \"genbank\")\n",
        "print(genbank)"
      ],
      "execution_count": null,
      "outputs": []
    },
    {
      "cell_type": "markdown",
      "metadata": {
        "id": "LVa4NdKSmHFW",
        "colab_type": "text"
      },
      "source": [
        "Como podemos ver, esse objeto é na verdade um **gerador**. Um gerador é um **iterável**, ou seja, um tipo de dado no qual podemos usar loops para acessar todos os seus elementos, um por vez. Além disso, o gerador é **exaurível**, então iremos recriar o objeto toda vez que formos precisar dele.\n",
        "\n",
        "Iterando sobre o objeto (que no caso possui apenas um elemento, já que o genbank continha apenas uma sequência), obtemos muita informação sobre o arquivo:"
      ]
    },
    {
      "cell_type": "code",
      "metadata": {
        "id": "op_Shg94mHFW",
        "colab_type": "code",
        "colab": {}
      },
      "source": [
        "for record in SeqIO.parse(\"arquivos/pgracilis_mitocondria.gb\", \"genbank\"):\n",
        "    print(record)"
      ],
      "execution_count": null,
      "outputs": []
    },
    {
      "cell_type": "markdown",
      "metadata": {
        "id": "EGj28WyUmHFb",
        "colab_type": "text"
      },
      "source": [
        "Podemos notar que toda a informação já está categorizada em campos como `ID` ou `Description`. Ou seja, o método `SeqIO.parse()` faz o *parsing* do arquivo ao mesmo tempo em que cria o objeto SeqIO.\n",
        "\n",
        "Note que esse objeto é muito mais complexo que o objeto `Seq`, o qual continha basicamente uma sequência de DNA, RNA ou proteína."
      ]
    },
    {
      "cell_type": "markdown",
      "metadata": {
        "id": "Avz-KkpBmHFb",
        "colab_type": "text"
      },
      "source": [
        "Vamos agora olhar para os **atributos** (logo falamos mais sobre o que é isso) e **métodos** desse objeto. Muitos desses nos permitem acesso direto aos dados do arquivo genbank:"
      ]
    },
    {
      "cell_type": "code",
      "metadata": {
        "id": "m9lzSanfmHFc",
        "colab_type": "code",
        "colab": {}
      },
      "source": [
        "for record in SeqIO.parse(\"arquivos/pgracilis_mitocondria.gb\", \"genbank\"):\n",
        "    print(dir(record))"
      ],
      "execution_count": null,
      "outputs": []
    },
    {
      "cell_type": "markdown",
      "metadata": {
        "id": "N2KFIAzPmHFg",
        "colab_type": "text"
      },
      "source": [
        "Vamos começar com o atributo `seq`, que contém a sequência nucleotídica do arquivo genbank:"
      ]
    },
    {
      "cell_type": "code",
      "metadata": {
        "collapsed": true,
        "jupyter": {
          "outputs_hidden": true
        },
        "id": "ms1g_YnOmHFh",
        "colab_type": "code",
        "colab": {}
      },
      "source": [
        "for record in SeqIO.parse(\"arquivos/pgracilis_mitocondria.gb\", \"genbank\"):\n",
        "    print(record.seq)"
      ],
      "execution_count": null,
      "outputs": []
    },
    {
      "cell_type": "markdown",
      "metadata": {
        "id": "mS4dPRWUmHFl",
        "colab_type": "text"
      },
      "source": [
        "#### Adendo: Atributos\n",
        "\n",
        "Repare que na segunda linha da célula anterior\n",
        "\n",
        "    print(record.seq)\n",
        "    \n",
        "`record.seq` não especifica um método, pois não tem os parênteses típicos da sintaxe de uma função/método. Em vez disso, ele especifica um **atributo**.\n",
        "\n",
        "Da mesma forma que um método é uma função associada a um objeto, **um atributo é uma variável associada a um objeto**. Ela não modifica valores, apenas os guarda."
      ]
    },
    {
      "cell_type": "markdown",
      "metadata": {
        "id": "vVnbhqnEmHFl",
        "colab_type": "text"
      },
      "source": [
        "Se imprimirmos o atributo **\"annotation\"**, nós obteremos um **dicionário**, que pode ser usado para obter informações específicas:"
      ]
    },
    {
      "cell_type": "code",
      "metadata": {
        "id": "6Jxs9ZnZmHFm",
        "colab_type": "code",
        "colab": {}
      },
      "source": [
        "for record in SeqIO.parse(\"arquivos/pgracilis_mitocondria.gb\", \"genbank\"):\n",
        "    print(record.annotations) # Não é um método\n",
        "    print(type(record.annotations))"
      ],
      "execution_count": null,
      "outputs": []
    },
    {
      "cell_type": "markdown",
      "metadata": {
        "id": "3kWGJt14mHFp",
        "colab_type": "text"
      },
      "source": [
        "Se nós quisermos obter o nome da espécie, por exemplo, teremos que retirá-lo daí. \"Organism\" é uma chave nesse dicionário, e seu valor é o nome da espécie. Logo, podemos extrair essa informação usando o método `get()`:"
      ]
    },
    {
      "cell_type": "code",
      "metadata": {
        "id": "UwgxaeXUmHFq",
        "colab_type": "code",
        "colab": {}
      },
      "source": [
        "for record in SeqIO.parse(\"arquivos/pgracilis_mitocondria.gb\", \"genbank\"):\n",
        "    print(record.annotations.get(\"organism\"))"
      ],
      "execution_count": null,
      "outputs": []
    },
    {
      "cell_type": "markdown",
      "metadata": {
        "id": "mcUIpIEQmHFt",
        "colab_type": "text"
      },
      "source": [
        "Nós também podemos usar a função `len()` no objeto SeqIO. Nesse caso, obteremos o tamanho do atributo `seq`. Ou seja, obteremos o tamanho da sequência."
      ]
    },
    {
      "cell_type": "code",
      "metadata": {
        "id": "0VNcM_8SmHFt",
        "colab_type": "code",
        "colab": {}
      },
      "source": [
        "for record in SeqIO.parse(\"arquivos/pgracilis_mitocondria.gb\", \"genbank\"):\n",
        "    print(len(record))\n",
        "    print(\"O mitogenoma da formiga Pseudomyrmex gracilis possui {} nucleotídeos\".format(len(record)))"
      ],
      "execution_count": null,
      "outputs": []
    },
    {
      "cell_type": "markdown",
      "metadata": {
        "id": "OFNGPNXzmHFy",
        "colab_type": "text"
      },
      "source": [
        "Também podemos usar o método `format()` para converter o genbank em fasta:"
      ]
    },
    {
      "cell_type": "code",
      "metadata": {
        "collapsed": true,
        "jupyter": {
          "outputs_hidden": true
        },
        "id": "TNKVv1ssmHFy",
        "colab_type": "code",
        "colab": {}
      },
      "source": [
        "for record in SeqIO.parse(\"arquivos/pgracilis_mitocondria.gb\", \"genbank\"):\n",
        "    print(record.format(\"fasta\"))"
      ],
      "execution_count": null,
      "outputs": []
    },
    {
      "cell_type": "markdown",
      "metadata": {
        "id": "A5nMDJqemHF5",
        "colab_type": "text"
      },
      "source": [
        "Ou obter o reverso complementar da sequência com o método `reverse_complement()`:"
      ]
    },
    {
      "cell_type": "code",
      "metadata": {
        "id": "BO2wdO5NmHF5",
        "colab_type": "code",
        "colab": {}
      },
      "source": [
        "for record in SeqIO.parse(\"arquivos/pgracilis_mitocondria.gb\", \"genbank\"):\n",
        "    print(record.reverse_complement()) # Precisa usar o atributo seq\n",
        "    print()\n",
        "    print(\"Fita genbank:\\n 5' {} 3'\\n\".format(record.seq[-10:])) # Fim da fita do genbank\n",
        "    print(\"Reverso complementar:\\n 5' {} 3'\".format(record.reverse_complement().seq[:10])) # Começo da fita reversa"
      ],
      "execution_count": null,
      "outputs": []
    },
    {
      "cell_type": "markdown",
      "metadata": {
        "id": "l4ppvh8vmHF8",
        "colab_type": "text"
      },
      "source": [
        "Com um pouco mais de esforço, podemos obter o reverso complementar em formato fasta:"
      ]
    },
    {
      "cell_type": "code",
      "metadata": {
        "id": "VxutepQ5mHF9",
        "colab_type": "code",
        "colab": {}
      },
      "source": [
        "for record in SeqIO.parse(\"arquivos/pgracilis_mitocondria.gb\", \"genbank\"):\n",
        "    print(\">{} (REVERSE COMPLEMENT)\\n{}\".format(record.description, record.seq[:500])) # Só os primeiros 500 nts"
      ],
      "execution_count": null,
      "outputs": []
    },
    {
      "cell_type": "markdown",
      "metadata": {
        "id": "depgBZExmHGA",
        "colab_type": "text"
      },
      "source": [
        "Além disso, podemos procurar por genes específicos dentro do arquivo genbank acessando o atributo `features` (que armazena uma lista de objetos chamados `objetos SeqFeature`):"
      ]
    },
    {
      "cell_type": "code",
      "metadata": {
        "collapsed": true,
        "jupyter": {
          "outputs_hidden": true
        },
        "id": "uBeh0MzZmHGB",
        "colab_type": "code",
        "colab": {}
      },
      "source": [
        "for record in SeqIO.parse(\"arquivos/pgracilis_mitocondria.gb\", \"genbank\"):\n",
        "    print(type(record.features))\n",
        "    print(record.features)"
      ],
      "execution_count": null,
      "outputs": []
    },
    {
      "cell_type": "markdown",
      "metadata": {
        "id": "wk5bgLcNmHGE",
        "colab_type": "text"
      },
      "source": [
        "Com isso podemos, por exemplo, ver as informações associadas a todos os genes de rRNA presentes no genbank:"
      ]
    },
    {
      "cell_type": "code",
      "metadata": {
        "id": "7Bh0RmTRmHGF",
        "colab_type": "code",
        "colab": {}
      },
      "source": [
        "for record in SeqIO.parse(\"arquivos/pgracilis_mitocondria.gb\", \"genbank\"):\n",
        "    for gene in record.features: # Há vários genes (features), cada um em um objeto SeqFeature\n",
        "        if gene.type == \"rRNA\":\n",
        "            print(gene)"
      ],
      "execution_count": null,
      "outputs": []
    },
    {
      "cell_type": "markdown",
      "metadata": {
        "id": "nF_JQAPVmHGI",
        "colab_type": "text"
      },
      "source": [
        "Cada um dos objetos SeqFeature possui tanto o nome quanto a extensão dos genes. Sabendo isso, podemos imprimir todos os genes em formato fasta:"
      ]
    },
    {
      "cell_type": "code",
      "metadata": {
        "collapsed": true,
        "jupyter": {
          "outputs_hidden": true
        },
        "id": "PfHL5wb5mHGI",
        "colab_type": "code",
        "colab": {}
      },
      "source": [
        "for record in SeqIO.parse(\"arquivos/pgracilis_mitocondria.gb\", \"genbank\"):\n",
        "    for gene in record.features: # Há vários genes (features), cada um em um objeto SeqFeature\n",
        "        if gene.type in [\"rRNA\", \"CDS\", \"tRNA\"]:\n",
        "            cabecalho = gene.qualifiers.get('product')[0] # Extraindo nomes dos genes\n",
        "            sequencia = gene.location.extract(record.seq) # Extraindo as sequências dos genes\n",
        "            print(\">{}\\n{}\\n\".format(cabecalho, sequencia)) # Imprimindo o fasta na tela"
      ],
      "execution_count": null,
      "outputs": []
    },
    {
      "cell_type": "markdown",
      "metadata": {
        "id": "nnqCwgX7mHGL",
        "colab_type": "text"
      },
      "source": [
        "Também podemos imprimir os genes como sequências de RNA, usando o método `transcribe()`:"
      ]
    },
    {
      "cell_type": "code",
      "metadata": {
        "id": "AkWLFq6wmHGM",
        "colab_type": "code",
        "colab": {}
      },
      "source": [
        "for record in SeqIO.parse(\"arquivos/pgracilis_mitocondria.gb\", \"genbank\"):\n",
        "    for gene in record.features: # Há vários genes (features), cada um em um objeto SeqFeature\n",
        "        if gene.type in [\"rRNA\", \"CDS\", \"tRNA\"]:\n",
        "            cabecalho = gene.qualifiers.get('product')[0] # Extraindo nomes dos genes\n",
        "            sequencia = gene.location.extract(record.seq).transcribe() # Extraindo as sequências dos genes e transcrevendo-as\n",
        "            print(\">{}\\n{}\\n\".format(cabecalho, sequencia)) # Imprimindo o fasta na tela"
      ],
      "execution_count": null,
      "outputs": []
    },
    {
      "cell_type": "markdown",
      "metadata": {
        "id": "ek3B3N-3mHGP",
        "colab_type": "text"
      },
      "source": [
        "Por último, genes codificadores de proteínas (*Coding Sequences* ou CDS) podem ser traduzidos usando o método `translate()`:\n",
        "\n",
        "> Bloco com recuo\n",
        "\n"
      ]
    },
    {
      "cell_type": "code",
      "metadata": {
        "id": "dNeScuXemHGP",
        "colab_type": "code",
        "colab": {}
      },
      "source": [
        "for record in SeqIO.parse(\"arquivos/pgracilis_mitocondria.gb\", \"genbank\"):\n",
        "    for gene in record.features: # Há vários genes (features), cada um em um objeto SeqFeature\n",
        "        if gene.type == \"CDS\":\n",
        "            cabecalho = gene.qualifiers.get('product')[0] # Extraindo nomes dos genes\n",
        "            sequencia = gene.location.extract(record.seq).translate(5) # Extraindo as sequências dos genes e traduzindo para o código genético 5 (mitocondria de invertebrados)\n",
        "            print(\">{}\\n{}\\n\".format(cabecalho, sequencia)) # Imprimindo o fasta na tela"
      ],
      "execution_count": null,
      "outputs": []
    },
    {
      "cell_type": "markdown",
      "metadata": {
        "id": "q6MK_jy8mHGV",
        "colab_type": "text"
      },
      "source": [
        "Isso é o bastante sobre o SeqIO aplicado a arquivos genbank. Vale lembrar que o método `SeqIO.parse()` também pode ser usado para arquivos fasta:"
      ]
    },
    {
      "cell_type": "code",
      "metadata": {
        "id": "i9MuXU4gmHGW",
        "colab_type": "code",
        "colab": {}
      },
      "source": [
        "for record in SeqIO.parse(\"arquivos/multifasta.fasta\", \"fasta\"):\n",
        "    print(record) # Multifasta. Logo, há vários records diferentes\n",
        "    print()"
      ],
      "execution_count": null,
      "outputs": []
    },
    {
      "cell_type": "markdown",
      "metadata": {
        "id": "qS9lor6DmHGa",
        "colab_type": "text"
      },
      "source": [
        "Vários dos métodos/funcionalidades encontrados para os arquivos genbank e objetos Seq também são válidos aqui, como: `len()`, `reverse_complement()`, `transcribe()` e `translate()`."
      ]
    },
    {
      "cell_type": "markdown",
      "metadata": {
        "id": "A8cQrXjbmHGa",
        "colab_type": "text"
      },
      "source": [
        "Isso é tudo, pessoal!\n",
        "\n",
        "Espero que tenham curtido aprender um pouco sobre programação em si e como ela pode ser aplicada para lidar com dados biológicos.\n",
        "\n",
        "Forte abraço e tudo de bom! ;)"
      ]
    }
  ]
}