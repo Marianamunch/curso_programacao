{
 "cells": [
  {
   "cell_type": "markdown",
   "metadata": {},
   "source": [
    "# Funções"
   ]
  },
  {
   "cell_type": "code",
   "execution_count": 1,
   "metadata": {},
   "outputs": [
    {
     "name": "stdout",
     "output_type": "stream",
     "text": [
      "The Zen of Python, by Tim Peters\n",
      "\n",
      "Beautiful is better than ugly.\n",
      "Explicit is better than implicit.\n",
      "Simple is better than complex.\n",
      "Complex is better than complicated.\n",
      "Flat is better than nested.\n",
      "Sparse is better than dense.\n",
      "Readability counts.\n",
      "Special cases aren't special enough to break the rules.\n",
      "Although practicality beats purity.\n",
      "Errors should never pass silently.\n",
      "Unless explicitly silenced.\n",
      "In the face of ambiguity, refuse the temptation to guess.\n",
      "There should be one-- and preferably only one --obvious way to do it.\n",
      "Although that way may not be obvious at first unless you're Dutch.\n",
      "Now is better than never.\n",
      "Although never is often better than *right* now.\n",
      "If the implementation is hard to explain, it's a bad idea.\n",
      "If the implementation is easy to explain, it may be a good idea.\n",
      "Namespaces are one honking great idea -- let's do more of those!\n"
     ]
    }
   ],
   "source": [
    "import this"
   ]
  },
  {
   "cell_type": "markdown",
   "metadata": {},
   "source": [
    "<br>\n",
    "\n",
    "O \"Zen of Python\", de forma geral, diz que o código deve ser o mais simples e limpo possível. \n",
    "\n",
    "**Funções** são uma maneira de se organizar e evitar a repetição desnecessária de código. Funções são basicamente segmentos reaproveitáveis de código que podem ser executados mais de uma vez.\n",
    "\n",
    "**Classes** são uma forma mais avançada de se organizar código. Elas consistem na criação de tipos de dados com novas funcionalidades, agrupando atributos, funções e/ou métodos."
   ]
  },
  {
   "cell_type": "markdown",
   "metadata": {},
   "source": [
    "**OBS: Não abordaremos classes nesse curso.**"
   ]
  },
  {
   "cell_type": "markdown",
   "metadata": {},
   "source": [
    "## Quando usar funções?\n",
    "\n",
    "Basicamente, quando você precisar usar o mesmo código múltiplas vezes. Em vez de reescrever o código, você só precisará chamar a função.\n",
    "\n",
    "Funções se tornarão cada vez mais úteis à medida que seu código for se tornando mais complexo."
   ]
  },
  {
   "cell_type": "markdown",
   "metadata": {},
   "source": [
    "[ToC]"
   ]
  },
  {
   "cell_type": "markdown",
   "metadata": {},
   "source": [
    "## Tópicos \n",
    "* [def *keyword*](#def-keyword)\n",
    "* [Exemplo de função](#exemplo-de-função)\n",
    "* [Chamando uma função](#chamando-uma-funcao)\n",
    "* [Aceitando parâmetros](#aceitando-parametros)\n",
    "* print e return\n",
    "* Trabalhando com valores booleanos em uma função\n",
    "* Interações entre funções"
   ]
  },
  {
   "cell_type": "markdown",
   "metadata": {},
   "source": [
    "### "
   ]
  },
  {
   "cell_type": "code",
   "execution_count": null,
   "metadata": {},
   "outputs": [],
   "source": []
  },
  {
   "cell_type": "code",
   "execution_count": null,
   "metadata": {},
   "outputs": [],
   "source": []
  },
  {
   "cell_type": "code",
   "execution_count": null,
   "metadata": {},
   "outputs": [],
   "source": []
  },
  {
   "cell_type": "code",
   "execution_count": null,
   "metadata": {},
   "outputs": [],
   "source": []
  },
  {
   "cell_type": "code",
   "execution_count": null,
   "metadata": {},
   "outputs": [],
   "source": []
  },
  {
   "cell_type": "code",
   "execution_count": null,
   "metadata": {},
   "outputs": [],
   "source": []
  },
  {
   "cell_type": "code",
   "execution_count": null,
   "metadata": {},
   "outputs": [],
   "source": []
  },
  {
   "cell_type": "code",
   "execution_count": null,
   "metadata": {},
   "outputs": [],
   "source": []
  },
  {
   "cell_type": "code",
   "execution_count": null,
   "metadata": {},
   "outputs": [],
   "source": []
  },
  {
   "cell_type": "markdown",
   "metadata": {},
   "source": [
    "### def *keyword*"
   ]
  },
  {
   "cell_type": "markdown",
   "metadata": {},
   "source": [
    "Vamos ver como construir a sintaxe de uma função em Python. Possui a seguinte forma"
   ]
  },
  {
   "cell_type": "code",
   "execution_count": null,
   "metadata": {},
   "outputs": [],
   "source": [
    "def name_of_function(arg1,arg2):\n",
    "    '''\n",
    "    This is where the function's Document String (docstring) goes.\n",
    "    When you call help() on your function it will be printed out.\n",
    "    '''\n",
    "    # Do stuff here\n",
    "    # Return desired result"
   ]
  },
  {
   "cell_type": "markdown",
   "metadata": {},
   "source": [
    "Começamos com def e, em seguida, um espaço seguido do nome da função. Tente manter os nomes relevantes, por exemplo len () é um bom nome para uma função length (). Também tome cuidado com os nomes, você não gostaria de chamar uma função com o mesmo nome de uma função embutida no Python (como len).\n",
    "\n",
    "Em seguida, vem um par de parênteses com vários argumentos separados por uma vírgula. Esses argumentos são as entradas para sua função. Você poderá usar essas entradas em sua função e referenciá-las. Depois disso, você coloca dois pontos.\n",
    "\n",
    "Agora, aqui está a etapa importante, você deve indentar para começar o código dentro de sua função corretamente. Python faz uso de * espaços em branco * para organizar o código. Muitas outras linguagens de programação não fazem isso, então tenha isso em mente.\n",
    "\n",
    "Em seguida, você verá a docstring, onde você escreve uma descrição básica da função. Usando os Notebooks Jupyter e Jupyter, você poderá ler essas docstrings pressionando Shift + Tab após o nome de uma função. As docstrings não são necessárias para funções simples, mas é uma boa prática colocá-las para que você ou outras pessoas possam entender facilmente o código que você escreve.\n",
    "\n",
    "Depois de tudo isso, você começa a escrever o código que deseja executar.\n",
    "\n",
    "A melhor maneira de aprender funções é examinando exemplos. Então, vamos tentar examinar exemplos que se relacionam com os vários objetos e estruturas de dados que aprendemos antes.\n"
   ]
  },
  {
   "cell_type": "markdown",
   "metadata": {},
   "source": [
    "### exemplo de função"
   ]
  },
  {
   "cell_type": "markdown",
   "metadata": {},
   "source": [
    "kdjfsaklfjksadfsdkfklsaljfkas"
   ]
  },
  {
   "cell_type": "markdown",
   "metadata": {},
   "source": [
    "### Chamando uma função"
   ]
  },
  {
   "cell_type": "markdown",
   "metadata": {},
   "source": [
    "klsdajlfksadlfkjsadfkjsalkjfd"
   ]
  },
  {
   "cell_type": "markdown",
   "metadata": {},
   "source": [
    "### Aceitando parâmetros"
   ]
  },
  {
   "cell_type": "markdown",
   "metadata": {},
   "source": [
    "laksdjfklsdaklfjlksajfdlkjsda\n",
    "klsdjfljasdfkj"
   ]
  },
  {
   "cell_type": "markdown",
   "metadata": {},
   "source": [
    "skjkfsdlakjf"
   ]
  },
  {
   "cell_type": "markdown",
   "metadata": {},
   "source": [
    "### *print* e *return*"
   ]
  },
  {
   "cell_type": "markdown",
   "metadata": {},
   "source": [
    "jsdkafsakljfljsdak"
   ]
  },
  {
   "cell_type": "markdown",
   "metadata": {},
   "source": [
    "### Trabalhando com valores *booleanos* em uma função"
   ]
  },
  {
   "cell_type": "markdown",
   "metadata": {},
   "source": [
    "sajfdlksadjfkjsajfklsadfjl"
   ]
  },
  {
   "cell_type": "markdown",
   "metadata": {},
   "source": [
    "## Tópicos \n",
    "* [def *keyword*](#def-keyword)\n",
    "* [Exemplo de função](#exemplo-de-funcao)\n",
    "* Chamando uma função\n",
    "* Aceitando parâmetros\n",
    "* print e return\n",
    "* Trabalhando com valores booleanos em uma função\n",
    "* Interações entre funções"
   ]
  },
  {
   "cell_type": "code",
   "execution_count": null,
   "metadata": {},
   "outputs": [],
   "source": []
  }
 ],
 "metadata": {
  "kernelspec": {
   "display_name": "Python 3",
   "language": "python",
   "name": "python3"
  },
  "language_info": {
   "codemirror_mode": {
    "name": "ipython",
    "version": 3
   },
   "file_extension": ".py",
   "mimetype": "text/x-python",
   "name": "python",
   "nbconvert_exporter": "python",
   "pygments_lexer": "ipython3",
   "version": "3.8.3"
  }
 },
 "nbformat": 4,
 "nbformat_minor": 4
}
