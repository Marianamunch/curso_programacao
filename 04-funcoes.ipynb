{
 "cells": [
  {
   "cell_type": "markdown",
   "metadata": {},
   "source": [
    "# Funções"
   ]
  },
  {
   "cell_type": "code",
   "execution_count": 1,
   "metadata": {},
   "outputs": [
    {
     "name": "stdout",
     "output_type": "stream",
     "text": [
      "The Zen of Python, by Tim Peters\n",
      "\n",
      "Beautiful is better than ugly.\n",
      "Explicit is better than implicit.\n",
      "Simple is better than complex.\n",
      "Complex is better than complicated.\n",
      "Flat is better than nested.\n",
      "Sparse is better than dense.\n",
      "Readability counts.\n",
      "Special cases aren't special enough to break the rules.\n",
      "Although practicality beats purity.\n",
      "Errors should never pass silently.\n",
      "Unless explicitly silenced.\n",
      "In the face of ambiguity, refuse the temptation to guess.\n",
      "There should be one-- and preferably only one --obvious way to do it.\n",
      "Although that way may not be obvious at first unless you're Dutch.\n",
      "Now is better than never.\n",
      "Although never is often better than *right* now.\n",
      "If the implementation is hard to explain, it's a bad idea.\n",
      "If the implementation is easy to explain, it may be a good idea.\n",
      "Namespaces are one honking great idea -- let's do more of those!\n"
     ]
    }
   ],
   "source": [
    "import this"
   ]
  },
  {
   "cell_type": "markdown",
   "metadata": {},
   "source": [
    "<br>\n",
    "\n",
    "O \"Zen of Python\", de forma geral, diz que o código deve ser o mais simples e limpo possível. \n",
    "\n",
    "**Funções** são uma maneira de se organizar e evitar a repetição desnecessária de código. Funções são basicamente segmentos reaproveitáveis de código que podem ser executados mais de uma vez.\n",
    "\n",
    "**Métodos** são segmentos reaproveitáveis de código incorporados a objetos de um determinado tipo. Em outras palavras, são funções associadas a um valor. Ex: `str.format()`\n",
    "\n",
    "**Classes** são uma forma mais avançada de se organizar código. Elas consistem na criação de tipos de dados com novas funcionalidades, agrupando atributos, funções e/ou métodos. Strings, Integers, Floats e Booleanos são classes. \n",
    "\n",
    "**Classe e tipo podem ser considerados sinônimos para facilitar o aprendizado nesse curso**."
   ]
  },
  {
   "cell_type": "markdown",
   "metadata": {},
   "source": [
    "**OBS: Não abordaremos classes ou Programação Orientada a Objetos (OOP) nesse curso.**"
   ]
  },
  {
   "cell_type": "markdown",
   "metadata": {},
   "source": [
    "## Quando usar funções?\n",
    "\n",
    "Basicamente, quando você precisar usar o mesmo código múltiplas vezes. Em vez de reescrever o código, você só precisará chamar a função.\n",
    "\n",
    "Funções se tornarão cada vez mais úteis à medida que seu código for se tornando mais complexo."
   ]
  },
  {
   "cell_type": "markdown",
   "metadata": {},
   "source": [
    "## def keyword"
   ]
  },
  {
   "cell_type": "markdown",
   "metadata": {},
   "source": [
    "A sintaxe de uma função em python é a seguinte:"
   ]
  },
  {
   "cell_type": "code",
   "execution_count": 4,
   "metadata": {},
   "outputs": [],
   "source": [
    "def nome_da_funcao(arg1,arg2):\n",
    "    '''\n",
    "    Descrição básica da função (docstring) - opcional.\n",
    "    O texto escrito aqui irá ser imprimido na tela quando você usar a função help()\n",
    "    Ex: help(nome_da_funcao)\n",
    "    '''\n",
    "    # Faça algo aqui\n",
    "    # Retorne um valor aqui"
   ]
  },
  {
   "cell_type": "markdown",
   "metadata": {},
   "source": [
    "A palavra-chave do python `def` é usada para iniciar a *definir* uma função. Seguida a ela, temos um espaço e então o **nome da função**. O nome da função, assim como das variáveis, deve ser tão autoexplicativo quanto possível (ex: \"soma\" para uma função que some dois números).\n",
    "\n",
    "Em seguida, vem um par de parênteses com um ou mais **argumentos** separados por uma vírgula. Esses argumentos são os valores/variáveis que entrarão na sua função para serem lidos/usados/manipulados. No caso de uma função de soma de dois valores, os argumentos seriam dois números ou duas variáveis que contenham números.\n",
    "\n",
    "A primeira linha de definição de uma função sempre termina com dois pontos `:`.\n",
    "\n",
    "Após a ocorrência desse `:`, devemos **indentar** para começar o código dentro de sua função corretamente. Indentar significa basicamente adicionar espaços à linha de código. A identação pode ser feita adicionando manualmente espaços ou usando a tecla [TAB](https://www.google.com/search?q=TAB+key&tbm=isch&ved=2ahUKEwj73vXu1JbrAhV0MLkGHa1hBc8Q2-cCegQIABAA&oq=TAB+key&gs_lcp=CgNpbWcQAzIECAAQQzICCAAyAggAMgIIADICCAAyAggAMgIIADICCAAyAggAMgIIAFCQKFiaMGDgM2gAcAB4AIABkgKIAdgIkgEFMC4xLjSYAQCgAQGqAQtnd3Mtd2l6LWltZ8ABAQ&sclient=img&ei=SmY0X_uRO_Tg5OUPrcOV-Aw&bih=656&biw=675#imgrc=sftDnhqI9SAczM). Geralmente o jupyter notebook indenta seus blocos de código automaticamente, seja dentro de uma definição de função, seja em condicionais ou loops, como veremos depois.\n",
    "\n",
    "O Python faz uso desses espaços em branco (*whitespace*) para organizar o código em blocos, logo o uso da indentação é obrigatório nele. Em várias outras linguagens de programação isso é opcional. Entretanto, esse aspecto do Python nos obriga a escrever código de forma mais organizada e legível, apesar de dar dor de cabeça às vezes (um erro comum, e bem difícil de diagnosticar, ocorre quando há mistura tabs e espaços na identação).\n",
    "\n",
    "Na próxima linha, temos a **docstring**, que é uma descrição básica da função. As docstrings são parecidas com os comentários, mas possuem algumas diferenças:\n",
    "  - São iniciadas e finalizadas por conjuntos de 3 aspas simples `'`\n",
    "  - Podem possuir múltiplas linhas\n",
    "  - São parte da documentação de uma função (ou classe), aparecendo ao se usar a função help(nome_da_funcao)"
   ]
  },
  {
   "cell_type": "code",
   "execution_count": 5,
   "metadata": {},
   "outputs": [
    {
     "name": "stdout",
     "output_type": "stream",
     "text": [
      "Help on function nome_da_funcao in module __main__:\n",
      "\n",
      "nome_da_funcao(arg1, arg2)\n",
      "    Descrição básica da função (docstring).\n",
      "    O texto escrito aqui irá ser imprimido na tela quando você usar a função help()\n",
      "    Ex: help(nome_da_funcao)\n",
      "\n"
     ]
    }
   ],
   "source": [
    "help(nome_da_funcao)"
   ]
  },
  {
   "cell_type": "markdown",
   "metadata": {},
   "source": [
    "<br>\n",
    "\n",
    "Usando os Notebooks Jupyter e Jupyter, você poderá ler essas docstrings pressionando Shift + Tab após o nome de uma função. **As docstrings são opcionais** e geralmente não são necessárias para funções simples, mas é uma boa prática colocá-las em funções mais complexas para que você ou outras pessoas possam entender facilmente o código que você escreve. Vale lembrar que a maioria das funções possuem docstrings, que podem ser consultadas em caso de dúvidas.\n",
    "\n",
    "Depois de tudo isso, é só começar a escrever o código que deseja executar. A função pode retornar valores com a palavra-chave **return**, mas veremos mais sobre isso depois.\n",
    "\n",
    "A melhor maneira de aprender funções é  escrevendo algumas e examinando exemplos. Então, vamos lá!"
   ]
  },
  {
   "cell_type": "markdown",
   "metadata": {},
   "source": [
    "## Exemplo de função"
   ]
  },
  {
   "cell_type": "markdown",
   "metadata": {},
   "source": [
    "Uma das funções mais simples possíveis é aquela que possui apenas:\n",
    "  - Uma linha de definição contendo seu nome\n",
    "  - Uma chamada à função `print` para escrever algo na tela \n",
    "\n",
    "E sim, **funções podem chamar outras funções** (e geralmente o fazem)."
   ]
  },
  {
   "cell_type": "code",
   "execution_count": 7,
   "metadata": {},
   "outputs": [],
   "source": [
    "def diz_oi():\n",
    "    print('Oi') "
   ]
  },
  {
   "cell_type": "markdown",
   "metadata": {},
   "source": [
    "## Chamando uma função"
   ]
  },
  {
   "cell_type": "markdown",
   "metadata": {},
   "source": [
    "A função é chamada usando parênteses `()`:"
   ]
  },
  {
   "cell_type": "code",
   "execution_count": 8,
   "metadata": {},
   "outputs": [
    {
     "name": "stdout",
     "output_type": "stream",
     "text": [
      "oi\n"
     ]
    }
   ],
   "source": [
    "diz_oi()"
   ]
  },
  {
   "cell_type": "markdown",
   "metadata": {},
   "source": [
    "Como esperado, a função `diz_oi` cumpre exatamente o que promete: imprime a string \"oi\" na tela. \n",
    "\n",
    "Se não especificarmos os parênteses, o Python irá simplesmente dizer que `diz_oi` é uma função:"
   ]
  },
  {
   "cell_type": "code",
   "execution_count": 10,
   "metadata": {},
   "outputs": [
    {
     "data": {
      "text/plain": [
       "<function __main__.diz_oi()>"
      ]
     },
     "execution_count": 10,
     "metadata": {},
     "output_type": "execute_result"
    }
   ],
   "source": [
    "diz_oi"
   ]
  },
  {
   "cell_type": "markdown",
   "metadata": {},
   "source": [
    "Então, por enquanto devemos lembrar de **chamar funções usando ()**."
   ]
  },
  {
   "cell_type": "markdown",
   "metadata": {},
   "source": [
    "## Aceitando parâmetros (argumentos)"
   ]
  },
  {
   "cell_type": "markdown",
   "metadata": {},
   "source": [
    "Parâmetros (ou argumentos) são valores que são passados a uma função para que ela manipule de alguma forma. \n",
    "\n",
    "Uma função não precisa ter argumentos, como a `diz_oi`. \n",
    "\n",
    "Mas passar argumentos pode tornar uma função mais útil. Por exemplo, podemos criar uma função que diga oi para uma pessoa específica:"
   ]
  },
  {
   "cell_type": "code",
   "execution_count": 13,
   "metadata": {},
   "outputs": [],
   "source": [
    "def oi_vc(nome):\n",
    "    print(\"Oi {}!\".format(nome))"
   ]
  },
  {
   "cell_type": "markdown",
   "metadata": {},
   "source": [
    "Para chamar essa função, temos que usar novamente os parênteses, que dessa vez vão conter um argumento (o nome da pessoa que se quer cumprimentar): "
   ]
  },
  {
   "cell_type": "code",
   "execution_count": 14,
   "metadata": {},
   "outputs": [
    {
     "name": "stdout",
     "output_type": "stream",
     "text": [
      "Oi Maria!\n"
     ]
    }
   ],
   "source": [
    "oi_vc(\"Maria\")"
   ]
  },
  {
   "cell_type": "markdown",
   "metadata": {},
   "source": [
    "Se eu quiser usar essa função para cumprimentar outra pessoa, eu não preciso reescrever a linha de código contendo o `print`. Eu só preciso chamar a função de novo passando outro nome como argumento:"
   ]
  },
  {
   "cell_type": "code",
   "execution_count": 16,
   "metadata": {},
   "outputs": [
    {
     "name": "stdout",
     "output_type": "stream",
     "text": [
      "Oi José!\n"
     ]
    }
   ],
   "source": [
    "oi_vc(\"José\")"
   ]
  },
  {
   "cell_type": "markdown",
   "metadata": {},
   "source": [
    "Ou seja, eu estou **reutilizando** o código da função. \n",
    "\n",
    "Pode parecer indiferente em uma função tão simples, mas funções mais complexas evitam a repetição de muitas linhas de código, tornando o programa muito mais simples de se entender e debugar."
   ]
  },
  {
   "cell_type": "markdown",
   "metadata": {},
   "source": [
    "**OBS**: A função oi_vc usa um **método** pertencente a objetos da classe string. Esse método se chama `format()` e substitui chaves `{}` na string por um parâmetro determinado entre parênteses (no caso, o nome que foi passado para a função)."
   ]
  },
  {
   "cell_type": "code",
   "execution_count": 20,
   "metadata": {},
   "outputs": [
    {
     "name": "stdout",
     "output_type": "stream",
     "text": [
      "Oi Pedro.\n",
      "Como vai você, Antônia?\n",
      "E a sua família, Marcela\n"
     ]
    }
   ],
   "source": [
    "# Substituindo chaves por nomes em várias sentenças com o método str.format()\n",
    "print(\"Oi {}.\\nComo vai você, {}?\\nE a sua família, {}\".format(\"Pedro\", \"Antônia\", \"Marcela\"))"
   ]
  },
  {
   "cell_type": "markdown",
   "metadata": {},
   "source": [
    "Se isso estiver confuso, não se preocupem. Vamos ver melhor como usar métodos ainda nessa aula e nos aprofundaremos em alguns métodos da classe string em uma aula posterior."
   ]
  },
  {
   "cell_type": "markdown",
   "metadata": {},
   "source": [
    "## return keyword"
   ]
  },
  {
   "cell_type": "markdown",
   "metadata": {},
   "source": [
    "Até agora, nós utilizamos somente a função print() para mostrar os resultados das nossas funções, mas se nós quisermos salvar o resultado de uma função em uma variável, nós precisamos usar a palavra-chave `return`.\n",
    "\n",
    "Como o próprio nome diz, o `return` faz com que a função **retorne um valor** que pode então ser **salvo em uma variável** ou usado de alguma outra forma.\n",
    "\n",
    "Vamos ver isso em um exemplo de uma função que some dois valores:"
   ]
  },
  {
   "cell_type": "code",
   "execution_count": 58,
   "metadata": {},
   "outputs": [],
   "source": [
    "# Definindo a função\n",
    "def soma(num1, num2):\n",
    "    return num1 + num2"
   ]
  },
  {
   "cell_type": "code",
   "execution_count": 26,
   "metadata": {},
   "outputs": [
    {
     "data": {
      "text/plain": [
       "25"
      ]
     },
     "execution_count": 26,
     "metadata": {},
     "output_type": "execute_result"
    }
   ],
   "source": [
    "# Chamando a função\n",
    "soma(10, 15)"
   ]
  },
  {
   "cell_type": "code",
   "execution_count": 36,
   "metadata": {},
   "outputs": [],
   "source": [
    "# Como usamos return, podemos salvar em variáveis\n",
    "resultado1 = soma(10, 15)\n",
    "resultado2 = soma(20, 22)"
   ]
  },
  {
   "cell_type": "code",
   "execution_count": 37,
   "metadata": {},
   "outputs": [
    {
     "name": "stdout",
     "output_type": "stream",
     "text": [
      "25\n",
      "42\n"
     ]
    }
   ],
   "source": [
    "print(resultado1)\n",
    "print(resultado2)"
   ]
  },
  {
   "cell_type": "code",
   "execution_count": 39,
   "metadata": {},
   "outputs": [
    {
     "name": "stdout",
     "output_type": "stream",
     "text": [
      "67\n"
     ]
    }
   ],
   "source": [
    "# Podemos também passar variáveis como argumentos:\n",
    "resultado3 = soma(resultado1, resultado2)\n",
    "print(resultado3)"
   ]
  },
  {
   "cell_type": "code",
   "execution_count": 32,
   "metadata": {},
   "outputs": [
    {
     "data": {
      "text/plain": [
       "'mamão papaia'"
      ]
     },
     "execution_count": 32,
     "metadata": {},
     "output_type": "execute_result"
    }
   ],
   "source": [
    "# Lebrando que strings também podem ser somadas:\n",
    "soma(\"mamão\", \" papaia\")"
   ]
  },
  {
   "cell_type": "markdown",
   "metadata": {},
   "source": [
    "### print vs return"
   ]
  },
  {
   "cell_type": "markdown",
   "metadata": {},
   "source": [
    "**Return**: Te permite salvar o resultado em uma variável para ser usado depois.\n",
    "\n",
    "**print()**: Função que apenas imprime um valor na tela, mas não permite salvá-lo para uso posterior.\n",
    "\n",
    "Vamos explorar essa questão com mais calma:"
   ]
  },
  {
   "cell_type": "code",
   "execution_count": 42,
   "metadata": {},
   "outputs": [],
   "source": [
    "# Definindo função que usa print\n",
    "def print_soma(num1, num2):\n",
    "    print(num1 + num2)\n",
    "\n",
    "# Definindo função que usa return\n",
    "def return_soma(num1, num2):\n",
    "    return num1 + num2"
   ]
  },
  {
   "cell_type": "code",
   "execution_count": 46,
   "metadata": {},
   "outputs": [
    {
     "name": "stdout",
     "output_type": "stream",
     "text": [
      "20\n"
     ]
    }
   ],
   "source": [
    "# Atribuindo resultado de função à variáveis para:\n",
    "\n",
    "# Função return\n",
    "return_result = return_soma(7, 13)\n",
    "\n",
    "# Função print (observe que a atribuição irá imprimir o resultado na tela)\n",
    "print_result = print_soma(7, 13)"
   ]
  },
  {
   "cell_type": "markdown",
   "metadata": {},
   "source": [
    "Agora, iremos acessar os valores contidos nas variáveis:\n"
   ]
  },
  {
   "cell_type": "code",
   "execution_count": 47,
   "metadata": {},
   "outputs": [
    {
     "data": {
      "text/plain": [
       "20"
      ]
     },
     "execution_count": 47,
     "metadata": {},
     "output_type": "execute_result"
    }
   ],
   "source": [
    "# Função return\n",
    "return_result"
   ]
  },
  {
   "cell_type": "code",
   "execution_count": 50,
   "metadata": {},
   "outputs": [
    {
     "data": {
      "text/plain": [
       "int"
      ]
     },
     "execution_count": 50,
     "metadata": {},
     "output_type": "execute_result"
    }
   ],
   "source": [
    "# Tipo(classe) do dado guardado:\n",
    "type(return_result)"
   ]
  },
  {
   "cell_type": "markdown",
   "metadata": {},
   "source": [
    "Como era de se esperar, a função return_soma salvou seu resultado na variável..."
   ]
  },
  {
   "cell_type": "code",
   "execution_count": 52,
   "metadata": {},
   "outputs": [],
   "source": [
    "# Função print\n",
    "print_result"
   ]
  },
  {
   "cell_type": "code",
   "execution_count": 53,
   "metadata": {},
   "outputs": [
    {
     "data": {
      "text/plain": [
       "NoneType"
      ]
     },
     "execution_count": 53,
     "metadata": {},
     "output_type": "execute_result"
    }
   ],
   "source": [
    "# Tipo(classe) do dado guardado:\n",
    "type(print_result)"
   ]
  },
  {
   "cell_type": "markdown",
   "metadata": {},
   "source": [
    "...e a função print_soma não conseguiu salvar seu resultado na variável. Em vez disso, a variável permaneceu vazia (NoneType)."
   ]
  },
  {
   "cell_type": "markdown",
   "metadata": {},
   "source": [
    "## Interações entre funções"
   ]
  },
  {
   "cell_type": "markdown",
   "metadata": {},
   "source": [
    "É muito comum que funções usem resultados de outras funções.\n",
    "\n",
    "Vamos tentar ilustrar isso no exemplo a seguir. Vamos criar uma função que:\n",
    "  - Tenha como parâmetros dois números\n",
    "  - Some os dois números\n",
    "  - Obtenha o quadrado dessa soma\n",
    "  - Retorne esse valor (quadrado da soma)"
   ]
  },
  {
   "cell_type": "markdown",
   "metadata": {},
   "source": [
    "Nós poderíamos criar uma função única que execute todo o processo, mas já temos a função de soma definida lá em cima, lembram?\n",
    "\n",
    "```\n",
    "# Definindo a função\n",
    "def soma(num1, num2):\n",
    "    return num1 + num2\n",
    "```\n",
    "\n",
    "Então só precisamos criar uma função que pegue o resultado da soma, obtenha seu quadrado, e retorne esse valor.\n",
    "\n",
    "Entretanto, uma recomendação quanto a funções é que ela **façam apenas uma coisa**, pois elas podem ser reutilizadas com mais facilidade dessa forma.\n",
    "\n",
    "Vamos então quebrar o problema em 3 pedaços menores, e criar uma função para resolver cada pedaço:\n",
    "  1. Somar dois números \n",
    "  2. Obter o quadrado de um número\n",
    "  3. Retornar o quadrado da soma\n",
    "\n",
    "Já temos uma função que soma dois números (`soma()`), o que dá conta do problema 1. Então precisamos criar duas novas funções: uma para resolver o problema 2 e outra para o 3.\n",
    "\n",
    "Mãos à obra:"
   ]
  },
  {
   "cell_type": "code",
   "execution_count": 61,
   "metadata": {},
   "outputs": [],
   "source": [
    "def quadrado(num):\n",
    "    return num * num\n",
    "\n",
    "def quadrado_da_soma(num1, num2):\n",
    "    soma_de_dois = soma(num1, num2)\n",
    "    return quadrado(soma_de_dois)"
   ]
  },
  {
   "cell_type": "markdown",
   "metadata": {},
   "source": [
    "Criamos então uma função que obtém o quadrado de um número e outra, que:\n",
    " - recebe dois argumentos (num1, num2)\n",
    " - salva a soma (resultado da função `soma(num1, num2)`) em uma variável \n",
    " - passa essa soma como argumento para a funçao `quadrado` e retorna então o quadrado da soma.\n",
    " \n",
    "Vamos ver se funciona?"
   ]
  },
  {
   "cell_type": "code",
   "execution_count": 62,
   "metadata": {},
   "outputs": [
    {
     "data": {
      "text/plain": [
       "100"
      ]
     },
     "execution_count": 62,
     "metadata": {},
     "output_type": "execute_result"
    }
   ],
   "source": [
    "quadrado_da_soma(4,6)"
   ]
  },
  {
   "cell_type": "code",
   "execution_count": 63,
   "metadata": {},
   "outputs": [
    {
     "data": {
      "text/plain": [
       "True"
      ]
     },
     "execution_count": 63,
     "metadata": {},
     "output_type": "execute_result"
    }
   ],
   "source": [
    "# Vamos conferir isso:\n",
    "(4 + 6) ** 2 == 100"
   ]
  },
  {
   "cell_type": "markdown",
   "metadata": {},
   "source": [
    "Aparente, a função funciona! Perceba que, ao quebrar o problema em 3 partes, nós temos 3 funções que fazem coisas distintas:\n",
    "  1. Somar dois números\n",
    "  2. Obter o quadrado de um número\n",
    "  3. Obter o quadrado da soma de dois números\n",
    "  \n",
    "Todas elas funcionam independemente:  "
   ]
  },
  {
   "cell_type": "code",
   "execution_count": 64,
   "metadata": {},
   "outputs": [
    {
     "name": "stdout",
     "output_type": "stream",
     "text": [
      "9\n",
      "25\n",
      "81\n"
     ]
    }
   ],
   "source": [
    "#Função soma:\n",
    "print(soma(4, 5))\n",
    "\n",
    "#Função quadrado:\n",
    "print(quadrado(5))\n",
    "\n",
    "#Função quadrado da soma:\n",
    "print(quadrado_da_soma(4, 5))"
   ]
  },
  {
   "cell_type": "markdown",
   "metadata": {},
   "source": [
    "Se tivéssemos feito apenas uma função, só teríamos a possibilidade de obter o quadrado da soma. Ao quebrar o problema, temos outras duas funções (soma e quadrado) que podem ser usadas na construção de tantas outras funções.\n",
    "\n",
    "Ou seja, **quanto mais focadas as funções, maior a reusabilidade do código**.\n",
    "\n",
    "Então, sempre que possível, usem a estratégia do \"dividir para conquistar\": quebrem os problemas que querem resolver em problemas menores, e criem funções específicas para cada sub-problema."
   ]
  },
  {
   "cell_type": "markdown",
   "metadata": {},
   "source": [
    "## Métodos"
   ]
  },
  {
   "cell_type": "markdown",
   "metadata": {},
   "source": [
    "Métodos são **funções incorporadas a objetos**. Assim como funções, métodos também aceitam argumentos.\n",
    "\n",
    "Cada classe (`str`, `int`, etc...) possui seu próprio repertório de métodos.\n",
    "\n",
    "A sintaxe para se utilizar métodos é a seguinte:\n",
    "\n",
    "    objeto.metodo(arg1, arg2, ..., argN)"
   ]
  },
  {
   "cell_type": "markdown",
   "metadata": {},
   "source": [
    "Nós já vimos um exemplo de método nessa aula: o método `str.format()`:\n",
    "\n",
    "```\n",
    "print(\"Oi {}.\\nComo vai você, {}?\\nE a sua família, {}\".format(\"Pedro\", \"Antônia\", \"Marcela\"))\n",
    "```"
   ]
  },
  {
   "cell_type": "markdown",
   "metadata": {},
   "source": [
    "### Descobrindo os métodos disponíveis para um objeto\n",
    "\n",
    "Para ver os métodos associados a um objeto, usamos a função `dir()`. Por exemplo:"
   ]
  },
  {
   "cell_type": "code",
   "execution_count": 4,
   "metadata": {},
   "outputs": [
    {
     "name": "stdout",
     "output_type": "stream",
     "text": [
      "['__add__', '__class__', '__contains__', '__delattr__', '__dir__', '__doc__', '__eq__', '__format__', '__ge__', '__getattribute__', '__getitem__', '__getnewargs__', '__gt__', '__hash__', '__init__', '__init_subclass__', '__iter__', '__le__', '__len__', '__lt__', '__mod__', '__mul__', '__ne__', '__new__', '__reduce__', '__reduce_ex__', '__repr__', '__rmod__', '__rmul__', '__setattr__', '__sizeof__', '__str__', '__subclasshook__', 'capitalize', 'casefold', 'center', 'count', 'encode', 'endswith', 'expandtabs', 'find', 'format', 'format_map', 'index', 'isalnum', 'isalpha', 'isascii', 'isdecimal', 'isdigit', 'isidentifier', 'islower', 'isnumeric', 'isprintable', 'isspace', 'istitle', 'isupper', 'join', 'ljust', 'lower', 'lstrip', 'maketrans', 'partition', 'replace', 'rfind', 'rindex', 'rjust', 'rpartition', 'rsplit', 'rstrip', 'split', 'splitlines', 'startswith', 'strip', 'swapcase', 'title', 'translate', 'upper', 'zfill']\n"
     ]
    }
   ],
   "source": [
    "# Métodos da classe str\n",
    "print(dir(\"Este é um objeto da classe string!\"))"
   ]
  },
  {
   "cell_type": "code",
   "execution_count": 5,
   "metadata": {},
   "outputs": [
    {
     "name": "stdout",
     "output_type": "stream",
     "text": [
      "['__abs__', '__add__', '__and__', '__bool__', '__ceil__', '__class__', '__delattr__', '__dir__', '__divmod__', '__doc__', '__eq__', '__float__', '__floor__', '__floordiv__', '__format__', '__ge__', '__getattribute__', '__getnewargs__', '__gt__', '__hash__', '__index__', '__init__', '__init_subclass__', '__int__', '__invert__', '__le__', '__lshift__', '__lt__', '__mod__', '__mul__', '__ne__', '__neg__', '__new__', '__or__', '__pos__', '__pow__', '__radd__', '__rand__', '__rdivmod__', '__reduce__', '__reduce_ex__', '__repr__', '__rfloordiv__', '__rlshift__', '__rmod__', '__rmul__', '__ror__', '__round__', '__rpow__', '__rrshift__', '__rshift__', '__rsub__', '__rtruediv__', '__rxor__', '__setattr__', '__sizeof__', '__str__', '__sub__', '__subclasshook__', '__truediv__', '__trunc__', '__xor__', 'as_integer_ratio', 'bit_length', 'conjugate', 'denominator', 'from_bytes', 'imag', 'numerator', 'real', 'to_bytes']\n"
     ]
    }
   ],
   "source": [
    "# Métodos da classe int\n",
    "print(dir(45))"
   ]
  },
  {
   "cell_type": "markdown",
   "metadata": {},
   "source": [
    "A função dir() retorna uma **lista** contendo todo o repertório de métodos disponíveis para um objeto.\n"
   ]
  },
  {
   "cell_type": "code",
   "execution_count": 8,
   "metadata": {},
   "outputs": [
    {
     "data": {
      "text/plain": [
       "list"
      ]
     },
     "execution_count": 8,
     "metadata": {},
     "output_type": "execute_result"
    }
   ],
   "source": [
    "type(dir(45))"
   ]
  },
  {
   "cell_type": "markdown",
   "metadata": {},
   "source": [
    "**OBS1**: **Lista** é uma classe em Python que guarda vários valores em um mesmo objeto. A estudaremos com mais calma posteriormente.\n",
    "\n",
    "**OBS2**: Usamos a função `print()` antes da função `dir()` para que o output fosse mais fácil de ler. Tente usar `dir()` sozinha para ver como o output fica formatado.\n",
    "\n",
    "**OBS3**: Os métodos delimitados por underscore duplo (como o `__add__`) são internos ao python e geralmente é uma boa idéia não mexer com eles."
   ]
  },
  {
   "cell_type": "markdown",
   "metadata": {},
   "source": [
    "Observe que objetos pertencentes à classe `str` e `int` possuem diferentes métodos, que definem boa parte das manipulações que podem ser feitas com esses objetos. \n",
    "\n",
    "De maneira geral, a classe `str` possui mais métodos e eles são mais úteis que os da classe `int`. Iremos ver mais sobre esse métodos na aula de manipulação de strings."
   ]
  },
  {
   "cell_type": "markdown",
   "metadata": {},
   "source": [
    "### Usando métodos"
   ]
  },
  {
   "cell_type": "markdown",
   "metadata": {},
   "source": [
    "Os métodos aceitam tanto objetos criados na hora quanto aqueles contidos em variáveis. Vamos ver um exemplo com o método str.format()"
   ]
  },
  {
   "cell_type": "code",
   "execution_count": 17,
   "metadata": {},
   "outputs": [
    {
     "data": {
      "text/plain": [
       "'Hoje é um dia chuvoso'"
      ]
     },
     "execution_count": 17,
     "metadata": {},
     "output_type": "execute_result"
    }
   ],
   "source": [
    "# Formatando objeto do tipo str criado na hora\n",
    "\"Hoje é um dia {}\".format(\"chuvoso\")"
   ]
  },
  {
   "cell_type": "code",
   "execution_count": 16,
   "metadata": {},
   "outputs": [
    {
     "data": {
      "text/plain": [
       "'Hoje é um dia chuvoso'"
      ]
     },
     "execution_count": 16,
     "metadata": {},
     "output_type": "execute_result"
    }
   ],
   "source": [
    "# Formatando objeto do tipo str guardado em variável\n",
    "texto = \"Hoje é um dia {}\"\n",
    "texto.format(\"chuvoso\")"
   ]
  },
  {
   "cell_type": "code",
   "execution_count": 18,
   "metadata": {},
   "outputs": [
    {
     "data": {
      "text/plain": [
       "'Hoje é um dia chuvoso'"
      ]
     },
     "execution_count": 18,
     "metadata": {},
     "output_type": "execute_result"
    }
   ],
   "source": [
    "# O argumento do método também pode estar guardado em uma variável\n",
    "texto = \"Hoje é um dia {}\"\n",
    "estado_do_dia = \"chuvoso\"\n",
    "texto.format(estado_do_dia)"
   ]
  },
  {
   "cell_type": "markdown",
   "metadata": {},
   "source": [
    "Isso é a tudo que precisamos saber sobre métodos por enquanto. Iremos um pouco mais fundo nesse tópico quando estudarmos manipulação de strings.\n",
    "\n",
    "Até a próxima aula!"
   ]
  }
 ],
 "metadata": {
  "kernelspec": {
   "display_name": "Python 3",
   "language": "python",
   "name": "python3"
  },
  "language_info": {
   "codemirror_mode": {
    "name": "ipython",
    "version": 3
   },
   "file_extension": ".py",
   "mimetype": "text/x-python",
   "name": "python",
   "nbconvert_exporter": "python",
   "pygments_lexer": "ipython3",
   "version": "3.8.3"
  }
 },
 "nbformat": 4,
 "nbformat_minor": 4
}
