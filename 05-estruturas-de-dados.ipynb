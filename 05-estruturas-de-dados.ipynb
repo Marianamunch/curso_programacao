{
 "cells": [
  {
   "cell_type": "markdown",
   "metadata": {},
   "source": [
    "# Estruturas de dados"
   ]
  },
  {
   "cell_type": "markdown",
   "metadata": {},
   "source": [
    "Como vimos na primeira aula, o Python possui 4 tipos de dados básicos ou **primitivos**:\n",
    "   - `str`\n",
    "   - `int`\n",
    "   - `float`\n",
    "   - `bool`\n",
    "\n",
    "Mas há outros tipos de dados derivados desses primitivos, e novos são criados com frequência.\n",
    "\n",
    "Dentre esses outros tipos, nós temos alguns bem importantes que já vem incorporados ao Python:\n",
    "   - list (classe `list`)\n",
    "   - dicionário (classe `dict`)\n",
    "   - conjunto (classe `set`)\n",
    "   - tupla (classe `tuple`)\n",
    "   \n",
    "Esses tipos são usados para guardar uma coleção de valores em vez de um único valor. Como esses tipos são estruturas que mantêm alguns dados juntos, eles são comumente chamados de ***data structures***."
   ]
  },
  {
   "cell_type": "markdown",
   "metadata": {},
   "source": [
    "Nesse curso, nos focaremos apenas nas **listas**. Elas são mais simples de usar e compreender, e geralmente são o bastante para resolver a maior parte dos problemas que envolvam guardar e fazer opeações sobre um conjunto de valores."
   ]
  },
  {
   "cell_type": "markdown",
   "metadata": {},
   "source": [
    "## Listas"
   ]
  },
  {
   "cell_type": "markdown",
   "metadata": {},
   "source": [
    "### Criando listas"
   ]
  },
  {
   "cell_type": "markdown",
   "metadata": {},
   "source": [
    "Listas podem ser criadas usando:\n",
    "   - Colchetes, que delimitam a lista\n",
    "   - Vírgulas, que separam cada um dos elementos da listas\n",
    "\n",
    "Vamos ver isso na prática:"
   ]
  },
  {
   "cell_type": "code",
   "execution_count": 22,
   "metadata": {},
   "outputs": [],
   "source": [
    "# Criando lista com colchetes e vírgulas e atribuindo à variável 'minha_lista'\n",
    "primeira_lista = [1, 2, 3]"
   ]
  },
  {
   "cell_type": "code",
   "execution_count": 20,
   "metadata": {},
   "outputs": [
    {
     "name": "stdout",
     "output_type": "stream",
     "text": [
      "[1, 2, 3]\n",
      "<class 'list'>\n"
     ]
    }
   ],
   "source": [
    "# Imprimindo lista...\n",
    "print(primeira_lista)\n",
    "# ..e a sua classe\n",
    "print(type(primeira_lista))"
   ]
  },
  {
   "cell_type": "markdown",
   "metadata": {},
   "source": [
    "Uma lista pode reunir elementos de diferentes tipos: str, int, bool, outras listas, etc.\n",
    "\n",
    "Por exemplo:"
   ]
  },
  {
   "cell_type": "code",
   "execution_count": 31,
   "metadata": {},
   "outputs": [
    {
     "data": {
      "text/plain": [
       "[0, False, 145.0, 'palavra', ['elemento1', 2, 3.0], [1, 2, 3]]"
      ]
     },
     "execution_count": 31,
     "metadata": {},
     "output_type": "execute_result"
    }
   ],
   "source": [
    "lista_diversa = [0, False, 145.0, \"palavra\", [\"elemento1\", 2, 3.0], primeira_lista]\n",
    "lista_diversa"
   ]
  },
  {
   "cell_type": "markdown",
   "metadata": {},
   "source": [
    "A variável `lista_diversa` possui elementos de diferentes tipos:\n",
    " - Integer - 0\n",
    " - Booleano - False\n",
    " - Float - 145.0\n",
    " - String - \"palavra\"\n",
    " - Lista - [\"elemento1\", 2, 3.0]\n",
    " - Lista contida em variável - primeira lista"
   ]
  },
  {
   "cell_type": "markdown",
   "metadata": {},
   "source": [
    "Para saber o número de elementos de uma lista, podemos usar a função `len()` (do inglês *length*):"
   ]
  },
  {
   "cell_type": "code",
   "execution_count": 25,
   "metadata": {},
   "outputs": [
    {
     "data": {
      "text/plain": [
       "6"
      ]
     },
     "execution_count": 25,
     "metadata": {},
     "output_type": "execute_result"
    }
   ],
   "source": [
    "len(lista_diversa)"
   ]
  },
  {
   "cell_type": "markdown",
   "metadata": {},
   "source": [
    "A `lista_diversa` possui então 6 elementos. Um elemento para cada um dos primitivos e duas listas. Mas essas duas listas possuem 3 elementos cada. Não deveriam então ser $4 + 3 + 3 = 10$ elementos?\n",
    "\n",
    "\n",
    "Não, porque **uma lista dentro de outra lista conta como um único elemento**, independentemente do número de elementos que essa lista interna possua."
   ]
  },
  {
   "cell_type": "markdown",
   "metadata": {},
   "source": [
    "### **Indexação e *slicing***\n",
    "**ou: Como eu Aprendi a Parar de me Preocupar e Começar a Contar do 0**"
   ]
  },
  {
   "cell_type": "markdown",
   "metadata": {},
   "source": [
    "<br>\n",
    "\n",
    "E se nós **precisarmos de apenas um ou alguns elementos de uma lista**? Como podemos acessar só esse(s) elemento(s)?\n",
    "\n",
    "Cada elemento de uma lista é **indexado**, ou seja, possui um valor númerico associado a ele, que o identifica. Esse valor vai de 0 até n-1, sendo n o número de elementos.\n",
    "\n",
    "A imagem abaixo ilustra isso:\n",
    "\n",
    "<br>\n",
    "\n",
    "![Indexação de listas(Fonte: https://realpython.com/python-lists-tuples/)](imagens/list_indexing.webp)"
   ]
  },
  {
   "cell_type": "markdown",
   "metadata": {},
   "source": [
    "Nós podemos acessar elementos indivíduais ou grupos de elementos da lista usando a sintaxe de *slicing* (fatiamento). A sintaxe completa do fatiamento é a seguinte:\n",
    "\n",
    "       lista[ <inicio> : <fim> : <intervalo> ]\n",
    "       \n",
    "Mas dependendo do caso, podemos omitir `início`, `fim` ou `intervalo`.\n",
    "\n",
    "A melhor maneira de entender o slicing é aplicando-o, então vamos para alguns exemplos:"
   ]
  },
  {
   "cell_type": "markdown",
   "metadata": {},
   "source": [
    "#### Obtendo um único elemento de uma lista"
   ]
  },
  {
   "cell_type": "code",
   "execution_count": 59,
   "metadata": {},
   "outputs": [],
   "source": [
    "# Primeiramente, vamos criar uma nova lista\n",
    "\n",
    "lista_posicoes = [\"primeiro elemento\", \"segundo\", \"terceiro\", \"quarto\", \"quinto\", \"sexto\"]"
   ]
  },
  {
   "cell_type": "code",
   "execution_count": 61,
   "metadata": {},
   "outputs": [
    {
     "name": "stdout",
     "output_type": "stream",
     "text": [
      "primeiro elemento\n",
      "quarto\n",
      "sexto\n"
     ]
    }
   ],
   "source": [
    "# Obtendo um elemento específico de uma lista:\n",
    "\n",
    "# Primeiro elemento (indice 0)\n",
    "print(lista_posicoes[0])\n",
    "\n",
    "# Quarto elemento (índice 3)\n",
    "print(lista_posicoes[3])\n",
    "\n",
    "# Sexto (e último) elemento (índice 5)\n",
    "print(lista_posicoes[5])"
   ]
  },
  {
   "cell_type": "markdown",
   "metadata": {},
   "source": [
    "#### Indexação negativa"
   ]
  },
  {
   "cell_type": "markdown",
   "metadata": {},
   "source": [
    "Suponha que nós queremos pegar o último elemento de uma lista cujo número de elementos desconhecemos. \n",
    "Poderíamos checar o tamanho dela com a função `len()` e obter o elemento usando a notação `lista[ultimo_index]`, mas há uma maneira mais prática de se obter esse valor.\n",
    "\n",
    "**Indexação negativa**: Além da indexação típica (de 0 a n-1), os elementos de uma lista também são indexados na ordem reversa, com índexes negativos (de -1 a -n).\n",
    "\n",
    "A imagem abaixo mostra como se dá essa indexação reversa:\n",
    "\n",
    "<br>\n",
    "\n",
    "![Indexação reversa de listas (Fonte: https://realpython.com/python-lists-tuples/)](imagens/negative_list_indexing.webp)\n",
    "\n",
    "<br>\n",
    "\n",
    "Vamos ver alguns exemplos de indexação negativa:"
   ]
  },
  {
   "cell_type": "code",
   "execution_count": 62,
   "metadata": {},
   "outputs": [
    {
     "name": "stdout",
     "output_type": "stream",
     "text": [
      "sexto\n",
      "quinto\n",
      "quarto\n"
     ]
    }
   ],
   "source": [
    "# Obtendo um elemento com indexação negativa\n",
    "\n",
    "# Último elemento\n",
    "print(lista_posicoes[-1])\n",
    "\n",
    "# Penúltimo elemento\n",
    "print(lista_posicoes[-2])\n",
    "\n",
    "#Antepenúltimo elemento\n",
    "print(lista_posicoes[-3])"
   ]
  },
  {
   "cell_type": "markdown",
   "metadata": {},
   "source": [
    "#### Obtendo mais de um elemento da lista com `:`"
   ]
  },
  {
   "cell_type": "markdown",
   "metadata": {},
   "source": [
    "Se nós usarmos um `:`, podemos **selecionar mais de um elemento da lista**:"
   ]
  },
  {
   "cell_type": "code",
   "execution_count": 63,
   "metadata": {},
   "outputs": [
    {
     "name": "stdout",
     "output_type": "stream",
     "text": [
      "['quarto']\n"
     ]
    }
   ],
   "source": [
    "# Obtendo mais de um elemento\n",
    "\n",
    "# Elementos 4 (índex 3) e 5 (índex 4)\n",
    "print(lista_posicoes[3:4])"
   ]
  },
  {
   "cell_type": "markdown",
   "metadata": {},
   "source": [
    "Opa! Algo deu errado.\n",
    "\n",
    "Repare que, apesar de pedirmos a fatia dos elementos da lista que contenha os elementos 3 e 4, o Python nos deu apenas o elemento inicial (3). Por que isso aconteceu?\n",
    "\n",
    "O slicing [m:n] diz pro Python retornar a porção da lista do índice inicial (m) até o índice final (n) . Entretanto, **o índice final não é incluído na fatia cortada**.\n",
    "\n",
    "Ou seja, o slicing [m:n] diz para o Python:\n",
    "  - **Retorne uma fatia que vá do índice m até o índice n, mas sem incluí-lo.**\n",
    "  \n",
    "Portanto, [3:4] pega a fatia que vai do índice 3 ao 4, mas sem incluir o elemento de índice 4. Então você obtém somente o índice 3. É o mesmo que escrever [3].\n",
    "\n",
    "Então, para obter uma fatia que vá do índice m ao índice n, incluindo o índice n na fatia, devemos usar o slicing [m:n+1]. \n",
    "\n",
    "Reparem que **os valores m e n se referem aos índices, não às posições na lista**. A maior parte da confusão e erros dessa parte da programação acontece quando a gente **esquece que deve começar a contar do 0 em vez do 1**.\n",
    "\n",
    "No caso, em vez de [3:4], precisamos fatiar a lista usando [3:5] para conseguir tanto o elemento 4 (índex 3) quanto o elemento 5 (índice 4):"
   ]
  },
  {
   "cell_type": "code",
   "execution_count": 64,
   "metadata": {},
   "outputs": [
    {
     "name": "stdout",
     "output_type": "stream",
     "text": [
      "['quarto', 'quinto']\n",
      "['segundo', 'terceiro', 'quarto']\n",
      "['segundo', 'terceiro', 'quarto', 'quinto']\n",
      "['primeiro elemento', 'segundo', 'terceiro', 'quarto', 'quinto', 'sexto']\n"
     ]
    }
   ],
   "source": [
    "# Obtendo mais de um elemento\n",
    "\n",
    "# Elementos 4 (índex 3) e 5 (índex 4) - inclusivo\n",
    "print(lista_posicoes[3:5])\n",
    "\n",
    "# Elementos do 2 (índex 1) ao 5 (índex 4) - não inclusivo\n",
    "print(lista_posicoes[1:4])\n",
    "\n",
    "# Elementos do 2 (índex 1) ao 5 (índex 4) - inclusivo\n",
    "print(lista_posicoes[1:5])\n",
    "\n",
    "# Elementos do índex 0 ao índex 5 - inclusivo\n",
    "print(lista_posicoes[0:6])"
   ]
  },
  {
   "cell_type": "code",
   "execution_count": 67,
   "metadata": {},
   "outputs": [
    {
     "name": "stdout",
     "output_type": "stream",
     "text": [
      "['terceiro', 'quarto', 'quinto']\n",
      "['primeiro elemento', 'segundo', 'terceiro', 'quarto']\n"
     ]
    }
   ],
   "source": [
    "# Também podemos usar a indexação negativa\n",
    "\n",
    "# Elemento de índice 2 até o penúltimo (índice -2) - não inclusivo\n",
    "print(lista_posicoes[2:-1])\n",
    "\n",
    "# Elemento de índice 0 até o antepenúltimo (índice -3) - inclusivo\n",
    "print(lista_posicoes[0:-2])\n"
   ]
  },
  {
   "cell_type": "markdown",
   "metadata": {},
   "source": [
    "Também podemos **usar a notação com `:` sem estabelecer um início e/ou final da fatia** para obter todos os elementos até um ponto específico:"
   ]
  },
  {
   "cell_type": "code",
   "execution_count": 72,
   "metadata": {},
   "outputs": [
    {
     "name": "stdout",
     "output_type": "stream",
     "text": [
      "['primeiro elemento', 'segundo', 'terceiro', 'quarto', 'quinto', 'sexto']\n",
      "['primeiro elemento', 'segundo', 'terceiro', 'quarto', 'quinto']\n",
      "['quarto', 'quinto', 'sexto']\n",
      "['quarto', 'quinto']\n",
      "['primeiro elemento', 'segundo', 'terceiro', 'quarto', 'quinto', 'sexto']\n"
     ]
    }
   ],
   "source": [
    "# Obtendo todos os valores até um certo ponto\n",
    "\n",
    "# Do primeiro elemento (índice 0) ao elemento de índice 5 - inclusivo\n",
    "print(lista_posicoes[:6])\n",
    "\n",
    "# Do primeiro elemento ao índice 5 - não inclusivo\n",
    "print(lista_posicoes[:5])\n",
    "\n",
    "# Do elemento de índice 3 ao último elemento - inclusivo\n",
    "print(lista_posicoes[3:])\n",
    "\n",
    "# Do elemento de índice 3 ao último elemento - não inclusivo\n",
    "print(lista_posições[3:-1]) # A omissão do final da fatia é sempre inclusiva\n",
    "\n",
    "# Todos os elementos da lista\n",
    "print(lista_posicoes[:])"
   ]
  },
  {
   "cell_type": "markdown",
   "metadata": {},
   "source": [
    "#### Obtendo elementos não adjacentes usando um `intervalo`"
   ]
  },
  {
   "cell_type": "markdown",
   "metadata": {},
   "source": [
    "Também podemos definir um `intervalo` que estabele a frequência na qual elementos serão selecionados. Por exemplo:\n",
    "  - Se o intervalo for 1 - Todos os elementos serão selecionados (padrão)\n",
    "  - Se o intervalo for 2 - Um em cada dois elementos serão selecionados\n",
    "  - Se o intervalo for 3 - Um em cada três elementos serão selecionados\n",
    "  - Se o intervalo for -1 - Retorna a lista invertida\n",
    "  \n",
    "Vamos ver isso na prática:  "
   ]
  },
  {
   "cell_type": "code",
   "execution_count": 78,
   "metadata": {},
   "outputs": [
    {
     "name": "stdout",
     "output_type": "stream",
     "text": [
      "['primeiro elemento', 'segundo', 'terceiro', 'quarto', 'quinto', 'sexto']\n",
      "['primeiro elemento', 'terceiro', 'quinto']\n",
      "['primeiro elemento', 'quarto']\n",
      "['sexto', 'quinto', 'quarto', 'terceiro', 'segundo', 'primeiro elemento']\n",
      "['sexto', 'quarto', 'segundo']\n"
     ]
    }
   ],
   "source": [
    "# Pegue todos os elementos, intervalo 1\n",
    "print(lista_posicoes[::1]) # Igual a lista_posicoes[:]\n",
    "\n",
    "# Pegue todos os elementos, intervalo 2 \n",
    "print(lista_posicoes[::2])\n",
    "\n",
    "# Pegue todos os elementos, intervalo 3\n",
    "print(lista_posicoes[::3])\n",
    "\n",
    "# Pegue todos os elementos, intervalo 1\n",
    "print(lista_posicoes[::-1])\n",
    "\n",
    "# Pegue todos os elementos, intervalo 1\n",
    "print(lista_posicoes[::-2])\n"
   ]
  },
  {
   "cell_type": "markdown",
   "metadata": {},
   "source": [
    "Claro que podemos determinar `início`, `término` e `intervalo` ao mesmo tempo para refinar nossa seleção de elementos:"
   ]
  },
  {
   "cell_type": "code",
   "execution_count": 84,
   "metadata": {},
   "outputs": [
    {
     "name": "stdout",
     "output_type": "stream",
     "text": [
      "['segundo', 'quarto', 'sexto']\n",
      "['terceiro', 'quinto']\n",
      "['terceiro', 'sexto']\n",
      "['primeiro elemento', 'sexto']\n"
     ]
    }
   ],
   "source": [
    "# Pegue todos os elementos das posições pares \n",
    "print(lista_posicoes[1::2])\n",
    "\n",
    "# Pegue todos os elementos com índices pares\n",
    "print(lista_posicoes[2::2]) # 0 não é par\n",
    "\n",
    "# Pegue apenas o terceiro (índice 2) e o sexto elemento (índice 5)\n",
    "print(lista_posicoes[2:6:3])\n",
    "\n",
    "# Pegue apenas o primeiro e o último elementos\n",
    "print(lista_posicoes[::len(lista_posicoes) - 1])"
   ]
  },
  {
   "cell_type": "markdown",
   "metadata": {},
   "source": [
    "#### Obtendo elementos em listas aninhadas"
   ]
  },
  {
   "cell_type": "code",
   "execution_count": 103,
   "metadata": {},
   "outputs": [
    {
     "name": "stdout",
     "output_type": "stream",
     "text": [
      "[0, False, 145.0, 'palavra', ['elemento1', 2, 3.0], [1, 2, 3]]\n"
     ]
    }
   ],
   "source": [
    "# Imprimir lista com listas internas\n",
    "print(lista_diversa)"
   ]
  },
  {
   "cell_type": "code",
   "execution_count": 104,
   "metadata": {},
   "outputs": [
    {
     "name": "stdout",
     "output_type": "stream",
     "text": [
      "['elemento1', 2, 3.0]\n",
      "[1, 2, 3]\n"
     ]
    }
   ],
   "source": [
    "# Imprimir listas internas:\n",
    "print(lista_diversa[4])\n",
    "print(lista_diversa[5])"
   ]
  },
  {
   "cell_type": "markdown",
   "metadata": {},
   "source": [
    "No caso de listas aninhadas (ou seja, listas dentro de outras listas), como fazemos para acessar os valores individuais das listas internas?\n",
    "\n",
    "Basta fazer um \"fatiamento duplo\":"
   ]
  },
  {
   "cell_type": "code",
   "execution_count": 108,
   "metadata": {},
   "outputs": [
    {
     "name": "stdout",
     "output_type": "stream",
     "text": [
      "3.0\n",
      "[2, 3]\n"
     ]
    }
   ],
   "source": [
    "# Selecionando o segundo elemento da lista no índex 4 de `lista_diversa`\n",
    "print(lista_diversa[4][2])\n",
    "\n",
    "# Selecionando todos os elementos a partir do segundo elemento\n",
    "# da lista no índex 5 de `lista_diversa`\n",
    "print(lista_diversa[5][1:])"
   ]
  },
  {
   "cell_type": "markdown",
   "metadata": {},
   "source": [
    "O fatiamento de listas é uma *feature* do Python que a princípio dá bastante dor de cabeça para aprender. Entretanto, é uma ferramenta poderosíssima para se selecionar elementos de uma lista."
   ]
  },
  {
   "cell_type": "markdown",
   "metadata": {},
   "source": [
    "### *in* keyword"
   ]
  },
  {
   "cell_type": "markdown",
   "metadata": {},
   "source": [
    "A palavra-chave `in` checa se uma lista (ou qualquer outra coleção) contém um elemento. Essa checagem retorna um **valor booleano**.\n",
    "\n",
    "Sintaxe:\n",
    "   \n",
    "    valor in lista"
   ]
  },
  {
   "cell_type": "code",
   "execution_count": 11,
   "metadata": {},
   "outputs": [],
   "source": [
    "# Criando lista\n",
    "lista_nomes = ['gabriel', 'agata', 'francisco', 'ana',\n",
    "               'joao', 'fabiana', 'flavia', 'leonardo']"
   ]
  },
  {
   "cell_type": "code",
   "execution_count": 14,
   "metadata": {},
   "outputs": [
    {
     "data": {
      "text/plain": [
       "True"
      ]
     },
     "execution_count": 14,
     "metadata": {},
     "output_type": "execute_result"
    }
   ],
   "source": [
    "# Exemplo de sintaxe - in keyword - nome da lista\n",
    "\"joao\" in lista_nomes"
   ]
  },
  {
   "cell_type": "code",
   "execution_count": 15,
   "metadata": {},
   "outputs": [
    {
     "data": {
      "text/plain": [
       "False"
      ]
     },
     "execution_count": 15,
     "metadata": {},
     "output_type": "execute_result"
    }
   ],
   "source": [
    "# Nome que não está na lista\n",
    "\"pedro\" in lista_nomes"
   ]
  },
  {
   "cell_type": "code",
   "execution_count": 16,
   "metadata": {},
   "outputs": [
    {
     "name": "stdout",
     "output_type": "stream",
     "text": [
      "gabriel: True\n",
      "claudia: False\n",
      "ana: True\n",
      "agata: True\n",
      "leon: False\n"
     ]
    }
   ],
   "source": [
    "# Testando se diferentes nomes estão na lista:\n",
    "\n",
    "print(\"gabriel:\",\"gabriel\" in lista_nomes)\n",
    "print(\"claudia:\",\"claudia\" in lista_nomes)\n",
    "print(\"ana:\",\"ana\" in lista_nomes)\n",
    "print(\"agata:\",\"agata\" in lista_nomes)\n",
    "print(\"leon:\",\"leon\" in lista_nomes)"
   ]
  },
  {
   "cell_type": "markdown",
   "metadata": {},
   "source": [
    "A palavra chave `not` inverte o valor de um booleano.\n",
    "  - True se torna False\n",
    "  - False se torna True\n",
    "\n",
    "Logo, se quisermos checar se um nome **não está** presente na lista, temos que usar `not in`:"
   ]
  },
  {
   "cell_type": "code",
   "execution_count": 17,
   "metadata": {},
   "outputs": [
    {
     "name": "stdout",
     "output_type": "stream",
     "text": [
      "gabriel: False\n",
      "claudia: True\n",
      "ana: False\n",
      "agata: False\n",
      "leon: True\n"
     ]
    }
   ],
   "source": [
    "# Testando se diferentes nomes NÃO estão na lista:\n",
    "\n",
    "print(\"gabriel:\",\"gabriel\" not in lista_nomes)\n",
    "print(\"claudia:\",\"claudia\" not in lista_nomes)\n",
    "print(\"ana:\",\"ana\" not in lista_nomes)\n",
    "print(\"agata:\",\"agata\" not in lista_nomes)\n",
    "print(\"leon:\",\"leon\" not in lista_nomes)"
   ]
  },
  {
   "cell_type": "markdown",
   "metadata": {},
   "source": [
    "Na célula acima, **os nomes que NÃO estão na lista retornam True**. \n",
    "\n",
    "Isso pode parecer inútil no momento, mas é extremamente importante no uso de **condicionais**.\n",
    "\n",
    "Como veremos em uma aula posterior, **condicionais só são executadas se forem verdadeiras**."
   ]
  },
  {
   "cell_type": "markdown",
   "metadata": {},
   "source": [
    "OBS: `in` também é muito usado em **loops** para se \"visitar\" cada um dos elementos em uma coleção."
   ]
  },
  {
   "cell_type": "code",
   "execution_count": 19,
   "metadata": {},
   "outputs": [
    {
     "name": "stdout",
     "output_type": "stream",
     "text": [
      "Vida longa e próspera, gabriel!\n",
      "Vida longa e próspera, agata!\n",
      "Vida longa e próspera, francisco!\n",
      "Vida longa e próspera, ana!\n",
      "Vida longa e próspera, joao!\n",
      "Vida longa e próspera, fabiana!\n",
      "Vida longa e próspera, flavia!\n",
      "Vida longa e próspera, leonardo!\n"
     ]
    }
   ],
   "source": [
    "# Imprimindo saudação para cada um dos nomes da lista:\n",
    "for nome in lista_nomes:\n",
    "    print(\"Vida longa e próspera, {}!\".format(nome))"
   ]
  },
  {
   "cell_type": "markdown",
   "metadata": {},
   "source": [
    "Teremos uma aula dedicada a loops posteriormente."
   ]
  },
  {
   "cell_type": "markdown",
   "metadata": {},
   "source": [
    "### Manipulação de listas"
   ]
  },
  {
   "cell_type": "markdown",
   "metadata": {},
   "source": [
    "Listas são mutáveis, o que significa que nós podemos adicionar ou remover elementos da forma que quisermos.\n",
    "\n",
    "Nós podemos, por exemplo, usar `+` para concatenar listas, exatamente da mesma forma que fazemos com strings:"
   ]
  },
  {
   "cell_type": "code",
   "execution_count": 88,
   "metadata": {},
   "outputs": [
    {
     "name": "stdout",
     "output_type": "stream",
     "text": [
      "[1, 2, 3, 3, 4, 5, 5, 6, 7]\n"
     ]
    }
   ],
   "source": [
    "lista1 = [1, 2, 3]\n",
    "lista2 = [3, 4, 5]\n",
    "print(lista1 + lista2 + [5, 6, 7]) #Obs: isso não muda as listas originais"
   ]
  },
  {
   "cell_type": "code",
   "execution_count": 91,
   "metadata": {},
   "outputs": [
    {
     "name": "stdout",
     "output_type": "stream",
     "text": [
      "[1, 2, 3]\n",
      "[3, 4, 5]\n"
     ]
    }
   ],
   "source": [
    "print(lista1)\n",
    "print(lista2) # A soma da célula anterior não muda as listas"
   ]
  },
  {
   "cell_type": "markdown",
   "metadata": {},
   "source": [
    "Para mudar o valor de uma lista, podemos fazer uma **reatribuição**:"
   ]
  },
  {
   "cell_type": "code",
   "execution_count": 93,
   "metadata": {},
   "outputs": [
    {
     "name": "stdout",
     "output_type": "stream",
     "text": [
      "[1, 2, 3, 3, 4, 5, 3, 4, 5]\n",
      "[3, 4, 5]\n"
     ]
    }
   ],
   "source": [
    "lista1 = lista1 + lista2 # Altera lista1 mas não a lista2\n",
    "print(lista1)\n",
    "print(lista2)"
   ]
  },
  {
   "cell_type": "markdown",
   "metadata": {},
   "source": [
    "Também podemos usar `*` para duplicar os elementos da lista. Mais uma vez, similar às strings:"
   ]
  },
  {
   "cell_type": "code",
   "execution_count": 94,
   "metadata": {},
   "outputs": [
    {
     "data": {
      "text/plain": [
       "[3, 4, 5, 3, 4, 5, 3, 4, 5]"
      ]
     },
     "execution_count": 94,
     "metadata": {},
     "output_type": "execute_result"
    }
   ],
   "source": [
    "lista2 * 3"
   ]
  },
  {
   "cell_type": "markdown",
   "metadata": {},
   "source": [
    "Essas similaridades entre listas e strings não são aleatórias.\n",
    "\n",
    "Tanto strings quanto listas são um coleção de elementos indexados. No caso da string, esses elementos são os caracteres:"
   ]
  },
  {
   "cell_type": "code",
   "execution_count": 100,
   "metadata": {},
   "outputs": [
    {
     "name": "stdout",
     "output_type": "stream",
     "text": [
      "0 b\n",
      "1 o\n",
      "2 m\n",
      "3  \n",
      "4 d\n",
      "5 i\n",
      "6 a\n"
     ]
    }
   ],
   "source": [
    "for letra in 'bom dia':\n",
    "    print('bom dia'.index(letra), letra)"
   ]
  },
  {
   "cell_type": "markdown",
   "metadata": {},
   "source": [
    "Mas nos aprofundaremos nisso na aula de manipulação de strings. Por ora, vamos nos focar nas listas."
   ]
  },
  {
   "cell_type": "markdown",
   "metadata": {},
   "source": [
    "As listas são mutáveis, então não só podemos adicionar elementos, como também removê-los e/ou mudar seus valores."
   ]
  },
  {
   "cell_type": "code",
   "execution_count": 122,
   "metadata": {},
   "outputs": [
    {
     "data": {
      "text/plain": [
       "[]"
      ]
     },
     "execution_count": 122,
     "metadata": {},
     "output_type": "execute_result"
    }
   ],
   "source": [
    "# Criando nova lista vazia:\n",
    "lista = []\n",
    "lista"
   ]
  },
  {
   "cell_type": "code",
   "execution_count": 123,
   "metadata": {},
   "outputs": [
    {
     "data": {
      "text/plain": [
       "[1, 2, 3, 4, 5]"
      ]
     },
     "execution_count": 123,
     "metadata": {},
     "output_type": "execute_result"
    }
   ],
   "source": [
    "# Adicionando valores:\n",
    "lista = lista + [1, 2, 3, 4, 5]\n",
    "lista"
   ]
  },
  {
   "cell_type": "code",
   "execution_count": 124,
   "metadata": {},
   "outputs": [
    {
     "data": {
      "text/plain": [
       "['primeiro', 2, 'terceiro', 'quarto', 5]"
      ]
     },
     "execution_count": 124,
     "metadata": {},
     "output_type": "execute_result"
    }
   ],
   "source": [
    "# Modificando valores - seleção por índice e reatribuição:\n",
    "lista[0] = \"primeiro\"\n",
    "lista[2:4] = [\"terceiro\", \"quarto\"]\n",
    "lista"
   ]
  },
  {
   "cell_type": "code",
   "execution_count": 125,
   "metadata": {},
   "outputs": [
    {
     "data": {
      "text/plain": [
       "['terceiro', 'quarto', 5]"
      ]
     },
     "execution_count": 125,
     "metadata": {},
     "output_type": "execute_result"
    }
   ],
   "source": [
    "# Removendo itens usando `del`\n",
    "del lista[:2] # Removendo os dois primeiros elementos\n",
    "lista"
   ]
  },
  {
   "cell_type": "code",
   "execution_count": 130,
   "metadata": {},
   "outputs": [
    {
     "name": "stdout",
     "output_type": "stream",
     "text": [
      "terceiro\n",
      "quarto\n",
      "5\n"
     ]
    }
   ],
   "source": [
    "# Nota: os índices mudam ao se deletar elementos da lista.\n",
    "print(lista[0])\n",
    "print(lista[1])\n",
    "print(lista[2])"
   ]
  },
  {
   "cell_type": "code",
   "execution_count": 131,
   "metadata": {},
   "outputs": [
    {
     "data": {
      "text/plain": [
       "['terceiro', 'quarto']"
      ]
     },
     "execution_count": 131,
     "metadata": {},
     "output_type": "execute_result"
    }
   ],
   "source": [
    "# Removendo itens por reatribuição\n",
    "lista = lista[:-1] # Removendo o último elemento\n",
    "lista"
   ]
  },
  {
   "cell_type": "markdown",
   "metadata": {},
   "source": [
    "### Métodos de listas "
   ]
  },
  {
   "cell_type": "markdown",
   "metadata": {},
   "source": [
    "Vamos dar uma olhada em quais métodos uma lista possui:"
   ]
  },
  {
   "cell_type": "code",
   "execution_count": 149,
   "metadata": {},
   "outputs": [
    {
     "name": "stdout",
     "output_type": "stream",
     "text": [
      "['__add__', '__class__', '__contains__', '__delattr__', '__delitem__', '__dir__', '__doc__', '__eq__', '__format__', '__ge__', '__getattribute__', '__getitem__', '__gt__', '__hash__', '__iadd__', '__imul__', '__init__', '__init_subclass__', '__iter__', '__le__', '__len__', '__lt__', '__mul__', '__ne__', '__new__', '__reduce__', '__reduce_ex__', '__repr__', '__reversed__', '__rmul__', '__setattr__', '__setitem__', '__sizeof__', '__str__', '__subclasshook__', 'append', 'clear', 'copy', 'count', 'extend', 'index', 'insert', 'pop', 'remove', 'reverse', 'sort']\n"
     ]
    }
   ],
   "source": [
    "# Criando nova lista:\n",
    "lista = [3, 1, 5, 7, 9, 6, 4, 2, 10, 8]\n",
    "\n",
    "print(dir(lista))"
   ]
  },
  {
   "cell_type": "markdown",
   "metadata": {},
   "source": [
    "Como podemos ver, há vários métodos para a classe `list`. Não iremos demonstrar todos."
   ]
  },
  {
   "cell_type": "markdown",
   "metadata": {},
   "source": [
    "#### list.sort()\n",
    "\n",
    "Organiza a lista:\n",
    " - Alfabeticamente (listas alfanuméricas)\n",
    " - Sentido crescente (números)"
   ]
  },
  {
   "cell_type": "code",
   "execution_count": 150,
   "metadata": {},
   "outputs": [
    {
     "name": "stdout",
     "output_type": "stream",
     "text": [
      "Antes de organizar: [3, 1, 5, 7, 9, 6, 4, 2, 10, 8]\n",
      "Depois de organizar: [1, 2, 3, 4, 5, 6, 7, 8, 9, 10]\n"
     ]
    }
   ],
   "source": [
    "print(\"Antes de organizar: {}\".format(lista))\n",
    "lista.sort()\n",
    "print(\"Depois de organizar: {}\".format(lista))"
   ]
  },
  {
   "cell_type": "markdown",
   "metadata": {},
   "source": [
    "#### list.append()\n",
    "\n",
    "Adiciona um item ao fim de uma lista:"
   ]
  },
  {
   "cell_type": "code",
   "execution_count": 151,
   "metadata": {},
   "outputs": [
    {
     "data": {
      "text/plain": [
       "[1, 2, 3, 4, 5, 6, 7, 8, 9, 10, 'onze']"
      ]
     },
     "execution_count": 151,
     "metadata": {},
     "output_type": "execute_result"
    }
   ],
   "source": [
    "# Removendo a string \"onze\" \n",
    "lista.append(\"onze\")\n",
    "lista"
   ]
  },
  {
   "cell_type": "markdown",
   "metadata": {},
   "source": [
    "#### list.remove()\n",
    "\n",
    "Remove um objeto da lista."
   ]
  },
  {
   "cell_type": "code",
   "execution_count": 152,
   "metadata": {},
   "outputs": [
    {
     "data": {
      "text/plain": [
       "[1, 2, 3, 4, 5, 6, 7, 8, 9, 10]"
      ]
     },
     "execution_count": 152,
     "metadata": {},
     "output_type": "execute_result"
    }
   ],
   "source": [
    "# Removendo a string \"onze\" \n",
    "lista.remove(\"onze\")\n",
    "lista"
   ]
  },
  {
   "cell_type": "markdown",
   "metadata": {},
   "source": [
    "#### list.pop()\n",
    "\n",
    "Remove um elemento pelo index."
   ]
  },
  {
   "cell_type": "code",
   "execution_count": 153,
   "metadata": {},
   "outputs": [
    {
     "name": "stdout",
     "output_type": "stream",
     "text": [
      "6\n"
     ]
    },
    {
     "data": {
      "text/plain": [
       "[1, 2, 3, 4, 5, 7, 8, 9, 10]"
      ]
     },
     "execution_count": 153,
     "metadata": {},
     "output_type": "execute_result"
    }
   ],
   "source": [
    "# Removendo o número 6 (índex 5)\n",
    "print(lista.pop(5)) # Retorna o número retirado\n",
    "lista"
   ]
  },
  {
   "cell_type": "markdown",
   "metadata": {},
   "source": [
    "#### list.insert()\n",
    "\n",
    "Insere um elemento à lista no índice especificado. Sintaxe:\n",
    "\n",
    "    list.insert(i, elem)"
   ]
  },
  {
   "cell_type": "code",
   "execution_count": 154,
   "metadata": {},
   "outputs": [
    {
     "data": {
      "text/plain": [
       "[1, 2, 3, 4, 5, 6, 7, 8, 9, 10]"
      ]
     },
     "execution_count": 154,
     "metadata": {},
     "output_type": "execute_result"
    }
   ],
   "source": [
    "# Adicionando o número 6 no índice 5\n",
    "lista.insert(5, 6)\n",
    "lista"
   ]
  },
  {
   "cell_type": "markdown",
   "metadata": {},
   "source": [
    "#### list.reverse()\n",
    "\n",
    "Inverte a ordem dos elementos.\n",
    "\n",
    "Nota: Ao contrário do fatiamento list[::-1], que só imprime a lista invertida na tela, o método `list.reverse()` altera a lista."
   ]
  },
  {
   "cell_type": "code",
   "execution_count": 155,
   "metadata": {},
   "outputs": [
    {
     "data": {
      "text/plain": [
       "[10, 9, 8, 7, 6, 5, 4, 3, 2, 1]"
      ]
     },
     "execution_count": 155,
     "metadata": {},
     "output_type": "execute_result"
    }
   ],
   "source": [
    "lista.reverse()\n",
    "lista"
   ]
  },
  {
   "cell_type": "markdown",
   "metadata": {},
   "source": [
    "### Slicing ou métodos?\n",
    "\n",
    "Como vocês podem ter percebido, o slicing pode ser usado para fazer praticamente tudo que os métodos fazem.\n",
    "\n",
    "Então, o que usar? Métodos ou slicing?\n",
    "\n",
    "Apesar do slicing ser mais versátil, ele perde em um quesito para os métodos: **legibilidade**.\n",
    "\n",
    "Afinal, é muito mais simples e intuitivo entender a função de `list.reverse()` do que de `list[::-1]`, concordam?\n",
    "\n",
    "Então, sempre que possível, dê preferência aos métodos."
   ]
  },
  {
   "cell_type": "markdown",
   "metadata": {},
   "source": [
    "E isso é tudo que precisamos saber sobre listas.\n",
    "\n",
    "Lembre-se que, apesar de extremamente versáteis, elas são apenas um dos vários tipos de estruturas de dados que existem.\n",
    "\n",
    "Outras estruturas de dados, como **dicionários** e **tuplas** são extremamente úteis no desenvolvimento de programas mais complexos, então pode ser interessante estudá-las caso se interessem pela área.\n",
    "\n",
    "Forte abraço e até a próxima aula ;)"
   ]
  }
 ],
 "metadata": {
  "kernelspec": {
   "display_name": "Python 3",
   "language": "python",
   "name": "python3"
  },
  "language_info": {
   "codemirror_mode": {
    "name": "ipython",
    "version": 3
   },
   "file_extension": ".py",
   "mimetype": "text/x-python",
   "name": "python",
   "nbconvert_exporter": "python",
   "pygments_lexer": "ipython3",
   "version": "3.8.3"
  }
 },
 "nbformat": 4,
 "nbformat_minor": 4
}
