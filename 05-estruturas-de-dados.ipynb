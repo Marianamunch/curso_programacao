{
 "cells": [
  {
   "cell_type": "markdown",
   "metadata": {},
   "source": [
    "# Estruturas de dados"
   ]
  },
  {
   "cell_type": "markdown",
   "metadata": {},
   "source": [
    "Como vimos na primeira aula, o Python possui 4 tipos de dados básicos ou **primitivos**:\n",
    "   - `str`\n",
    "   - `int`\n",
    "   - `float`\n",
    "   - `bool`\n",
    "\n",
    "Mas há outros tipos de dados derivados desses primitivos, e novos são criados com frequência.\n",
    "\n",
    "Dentre esses outros tipos, nós temos alguns bem importantes que já vem incorporados ao Python:\n",
    "   - list (classe `list`)\n",
    "   - dicionário (classe `dict`)\n",
    "   - conjunto (classe `set`)\n",
    "   - tupla (classe `tuple`)\n",
    "   \n",
    "Esses tipos são usados para guardar uma coleção de valores em vez de um único valor. Como esses tipos são estruturas que mantêm alguns dados juntos, eles são comumente chamados de ***data structures***."
   ]
  },
  {
   "cell_type": "markdown",
   "metadata": {},
   "source": [
    "Nesse curso, nos focaremos apenas nas **listas**. Elas são mais simples de usar e compreender, e geralmente são o bastante para resolver a maior parte dos problemas que envolvam guardar e fazer opeações sobre um conjunto de valores."
   ]
  },
  {
   "cell_type": "markdown",
   "metadata": {},
   "source": [
    "## Listas"
   ]
  },
  {
   "cell_type": "markdown",
   "metadata": {},
   "source": [
    "### Criando listas"
   ]
  },
  {
   "cell_type": "markdown",
   "metadata": {},
   "source": [
    "Listas podem ser criadas usando:\n",
    "   - Colchetes, que delimitam a lista\n",
    "   - Vírgulas, que separam cada um dos elementos da listas\n",
    "\n",
    "Vamos ver isso na prática:"
   ]
  },
  {
   "cell_type": "code",
   "execution_count": 22,
   "metadata": {},
   "outputs": [],
   "source": [
    "# Criando lista com colchetes e vírgulas e atribuindo à variável 'minha_lista'\n",
    "primeira_lista = [1, 2, 3]"
   ]
  },
  {
   "cell_type": "code",
   "execution_count": 20,
   "metadata": {},
   "outputs": [
    {
     "name": "stdout",
     "output_type": "stream",
     "text": [
      "[1, 2, 3]\n",
      "<class 'list'>\n"
     ]
    }
   ],
   "source": [
    "# Imprimindo lista...\n",
    "print(primeira_lista)\n",
    "# ..e a sua classe\n",
    "print(type(primeira_lista))"
   ]
  },
  {
   "cell_type": "markdown",
   "metadata": {},
   "source": [
    "Uma lista pode reunir elementos de diferentes tipos: str, int, bool, outras listas, etc.\n",
    "\n",
    "Por exemplo:"
   ]
  },
  {
   "cell_type": "code",
   "execution_count": 24,
   "metadata": {},
   "outputs": [
    {
     "data": {
      "text/plain": [
       "[0, False, 145.0, 'palavra', ['elemento1', 2], [1, 2, 3]]"
      ]
     },
     "execution_count": 24,
     "metadata": {},
     "output_type": "execute_result"
    }
   ],
   "source": [
    "lista_diversa = [0, False, 145.0, \"palavra\", [\"elemento1\", 2, 3.0], primeira_lista]\n",
    "lista_diversa"
   ]
  },
  {
   "cell_type": "markdown",
   "metadata": {},
   "source": [
    "A variável `lista_diversa` possui elementos de diferentes tipos:\n",
    " - Integer - 0\n",
    " - Booleano - False\n",
    " - Float - 145.0\n",
    " - String - \"palavra\"\n",
    " - Lista - [\"elemento1\", 2, 3.0]\n",
    " - Lista contida em variável - primeira lista"
   ]
  },
  {
   "cell_type": "markdown",
   "metadata": {},
   "source": [
    "Para saber o número de elementos de uma lista, podemos usar a função `len()` (do inglês *length*):"
   ]
  },
  {
   "cell_type": "code",
   "execution_count": 25,
   "metadata": {},
   "outputs": [
    {
     "data": {
      "text/plain": [
       "6"
      ]
     },
     "execution_count": 25,
     "metadata": {},
     "output_type": "execute_result"
    }
   ],
   "source": [
    "len(lista_diversa)"
   ]
  },
  {
   "cell_type": "markdown",
   "metadata": {},
   "source": [
    "A `lista_diversa` possui então 6 elementos. Um elemento para cada um dos primitivos e duas listas. Mas essas duas listas possuem 3 elementos cada. Não deveriam então ser $4 + 3 + 3 = 10$ elementos?\n",
    "\n",
    "\n",
    "Não, porque **uma lista dentro de outra lista conta como um único elemento**, independentemente do número de elementos que essa lista interna possua."
   ]
  },
  {
   "cell_type": "markdown",
   "metadata": {},
   "source": [
    "### Indexação e *slicing*"
   ]
  },
  {
   "cell_type": "markdown",
   "metadata": {},
   "source": [
    "E se nós **precisarmos de apenas um ou alguns elementos de uma lista**? Como podemos acessar só esse(s) elemento(s)?\n",
    "\n",
    "Cada elemento de uma lista é **indexado**, ou seja, possui um valor númerico associado a ele, que o identifica. Esse valor vai de 0 até n-1, sendo n o número de elementos.\n",
    "\n",
    "A imagem abaixo ilustra isso:\n",
    "\n",
    "<br>\n",
    "\n",
    "![Indexação de listas (Fonte: https://realpython.com/python-lists-tuples/](imagens/list_indexing.webp)"
   ]
  },
  {
   "cell_type": "markdown",
   "metadata": {},
   "source": [
    "Nós podemos acessar elementos indivíduais ou grupos de elementos da lista usando a sintaxe de *slicing* (fatiamento). A sintaxe completa do fatiamento é a seguinte:\n",
    "\n",
    "       lista[ <inicio> : <fim> : <intervalo> ]\n",
    "       \n",
    "Mas dependendo do caso, podemos omitir `início`, `fim` ou `intervalo`.\n",
    "\n",
    "A melhor maneira de entender o slicing é aplicando-o, então vamos para alguns exemplos:"
   ]
  },
  {
   "cell_type": "code",
   "execution_count": 27,
   "metadata": {},
   "outputs": [
    {
     "name": "stdout",
     "output_type": "stream",
     "text": [
      "0\n",
      "palavra\n",
      "[1, 2, 3]\n"
     ]
    }
   ],
   "source": [
    "# Obtendo um elemento específico de uma lista:\n",
    "\n",
    "# Primeiro elemento (indice 0)\n",
    "print(lista_diversa[0])\n",
    "\n",
    "# Quarto elemento (índice 3)\n",
    "print(lista_diversa[3])\n",
    "\n",
    "# Sexto (e último) elemento (índice 5)\n",
    "print(lista_diversa[5])"
   ]
  },
  {
   "cell_type": "code",
   "execution_count": null,
   "metadata": {},
   "outputs": [],
   "source": [
    "# Obtendo vários elementos sequenciais"
   ]
  },
  {
   "cell_type": "code",
   "execution_count": 28,
   "metadata": {},
   "outputs": [],
   "source": [
    "# Obtendo vários elementos em não-sequenciais (em intervalo regular)"
   ]
  },
  {
   "cell_type": "code",
   "execution_count": null,
   "metadata": {},
   "outputs": [],
   "source": []
  },
  {
   "cell_type": "code",
   "execution_count": null,
   "metadata": {},
   "outputs": [],
   "source": []
  },
  {
   "cell_type": "code",
   "execution_count": null,
   "metadata": {},
   "outputs": [],
   "source": []
  },
  {
   "cell_type": "code",
   "execution_count": null,
   "metadata": {},
   "outputs": [],
   "source": []
  },
  {
   "cell_type": "markdown",
   "metadata": {},
   "source": [
    "A imagem abaixo mostra como se dá essa indexação reversa:\n",
    "\n",
    "<br>\n",
    "\n",
    "![Indexação reversa de listas (Fonte: https://realpython.com/python-lists-tuples/](imagens/negative_list_indexing.webp)"
   ]
  },
  {
   "cell_type": "code",
   "execution_count": null,
   "metadata": {},
   "outputs": [],
   "source": []
  }
 ],
 "metadata": {
  "kernelspec": {
   "display_name": "Python 3",
   "language": "python",
   "name": "python3"
  },
  "language_info": {
   "codemirror_mode": {
    "name": "ipython",
    "version": 3
   },
   "file_extension": ".py",
   "mimetype": "text/x-python",
   "name": "python",
   "nbconvert_exporter": "python",
   "pygments_lexer": "ipython3",
   "version": "3.8.3"
  }
 },
 "nbformat": 4,
 "nbformat_minor": 4
}
