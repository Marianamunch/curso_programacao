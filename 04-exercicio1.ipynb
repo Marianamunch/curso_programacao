{
  "nbformat": 4,
  "nbformat_minor": 0,
  "metadata": {
    "kernelspec": {
      "display_name": "Python 3",
      "language": "python",
      "name": "python3"
    },
    "language_info": {
      "codemirror_mode": {
        "name": "ipython",
        "version": 3
      },
      "file_extension": ".py",
      "mimetype": "text/x-python",
      "name": "python",
      "nbconvert_exporter": "python",
      "pygments_lexer": "ipython3",
      "version": "3.8.3"
    },
    "colab": {
      "name": "04-exercicio1.ipynb",
      "provenance": []
    }
  },
  "cells": [
    {
      "cell_type": "markdown",
      "metadata": {
        "id": "_45z8e6wmpIx",
        "colab_type": "text"
      },
      "source": [
        "# Exercícios"
      ]
    },
    {
      "cell_type": "markdown",
      "metadata": {
        "id": "LMzUTATkmpI8",
        "colab_type": "text"
      },
      "source": [
        "## 1\n",
        "Escreva um programa que imprima \"Hello World!\" na tela ao ser executado."
      ]
    },
    {
      "cell_type": "code",
      "metadata": {
        "id": "soJ1k1NempJA",
        "colab_type": "code",
        "colab": {}
      },
      "source": [
        ""
      ],
      "execution_count": null,
      "outputs": []
    },
    {
      "cell_type": "markdown",
      "metadata": {
        "id": "YXFN3VulmpJc",
        "colab_type": "text"
      },
      "source": [
        "## 2\n",
        "Escreva uma função que receba três números. Ela deve:\n",
        "- Somar o primeiro com o quadrado do segundo\n",
        "- Dividir essa soma pelo terceiro\n",
        "- Retornar o número resultante"
      ]
    },
    {
      "cell_type": "code",
      "metadata": {
        "id": "HsfJvttTmpJf",
        "colab_type": "code",
        "colab": {}
      },
      "source": [
        ""
      ],
      "execution_count": null,
      "outputs": []
    },
    {
      "cell_type": "markdown",
      "metadata": {
        "id": "Ch5D20gzmpJx",
        "colab_type": "text"
      },
      "source": [
        "## 3\n",
        "Escreva as funções descritas abaixo:\n",
        "- Dica: Lembre que os valores que variam devem ser sempre passados para a função como argumentos."
      ]
    },
    {
      "cell_type": "markdown",
      "metadata": {
        "id": "4G-0vmyGmpJz",
        "colab_type": "text"
      },
      "source": [
        "Função que retorne a área de um quadrilátero:"
      ]
    },
    {
      "cell_type": "code",
      "metadata": {
        "id": "yKXDA4OxmpJ3",
        "colab_type": "code",
        "colab": {}
      },
      "source": [
        ""
      ],
      "execution_count": null,
      "outputs": []
    },
    {
      "cell_type": "markdown",
      "metadata": {
        "id": "lWVQryDympKT",
        "colab_type": "text"
      },
      "source": [
        "Função que retorne o volume de uma caixa:"
      ]
    },
    {
      "cell_type": "code",
      "metadata": {
        "id": "cJWDsJHUmpKu",
        "colab_type": "code",
        "colab": {}
      },
      "source": [
        ""
      ],
      "execution_count": null,
      "outputs": []
    },
    {
      "cell_type": "markdown",
      "metadata": {
        "id": "CGbNF38EmpLH",
        "colab_type": "text"
      },
      "source": [
        "Função que retorne o comprimento de uma circunferência:"
      ]
    },
    {
      "cell_type": "code",
      "metadata": {
        "id": "PdaEw3wDmpLN",
        "colab_type": "code",
        "colab": {}
      },
      "source": [
        ""
      ],
      "execution_count": null,
      "outputs": []
    },
    {
      "cell_type": "markdown",
      "metadata": {
        "id": "DLnkUxD4mpLl",
        "colab_type": "text"
      },
      "source": [
        "Função que retorne a área de um círculo:"
      ]
    },
    {
      "cell_type": "code",
      "metadata": {
        "id": "cPUwWMKYmpLn",
        "colab_type": "code",
        "colab": {}
      },
      "source": [
        ""
      ],
      "execution_count": null,
      "outputs": []
    },
    {
      "cell_type": "markdown",
      "metadata": {
        "id": "bD8VpqBHmpMF",
        "colab_type": "text"
      },
      "source": [
        "Função que retorne o volume de uma esfera:"
      ]
    },
    {
      "cell_type": "code",
      "metadata": {
        "id": "d1cWfWvtmpMH",
        "colab_type": "code",
        "colab": {}
      },
      "source": [
        ""
      ],
      "execution_count": null,
      "outputs": []
    },
    {
      "cell_type": "markdown",
      "metadata": {
        "id": "aIPOTwJZmpMW",
        "colab_type": "text"
      },
      "source": [
        "Função que calcule e retorne juros simples:"
      ]
    },
    {
      "cell_type": "code",
      "metadata": {
        "id": "s4MgvtrdmpMY",
        "colab_type": "code",
        "colab": {}
      },
      "source": [
        ""
      ],
      "execution_count": null,
      "outputs": []
    },
    {
      "cell_type": "markdown",
      "metadata": {
        "id": "tDJ1vDYompMo",
        "colab_type": "text"
      },
      "source": [
        "Função que calcule e retorne juros compostos:"
      ]
    },
    {
      "cell_type": "code",
      "metadata": {
        "id": "4_IElJyompMq",
        "colab_type": "code",
        "colab": {}
      },
      "source": [
        ""
      ],
      "execution_count": null,
      "outputs": []
    },
    {
      "cell_type": "markdown",
      "metadata": {
        "id": "1GG0uamRmpM6",
        "colab_type": "text"
      },
      "source": [
        "Função que retorne o seno de um ângulo:"
      ]
    },
    {
      "cell_type": "code",
      "metadata": {
        "id": "rRQLB5-ZmpM-",
        "colab_type": "code",
        "colab": {}
      },
      "source": [
        ""
      ],
      "execution_count": null,
      "outputs": []
    },
    {
      "cell_type": "markdown",
      "metadata": {
        "id": "V9Xq-g_0mpNK",
        "colab_type": "text"
      },
      "source": [
        "Função que retorne o cosseno de um ângulo:"
      ]
    },
    {
      "cell_type": "code",
      "metadata": {
        "id": "SJgm5zqDmpNM",
        "colab_type": "code",
        "colab": {}
      },
      "source": [
        ""
      ],
      "execution_count": null,
      "outputs": []
    },
    {
      "cell_type": "markdown",
      "metadata": {
        "id": "GVs6yVpnmpNw",
        "colab_type": "text"
      },
      "source": [
        "Função que retorne a tangente de um ângulo:"
      ]
    },
    {
      "cell_type": "code",
      "metadata": {
        "id": "UpYq27ZbmpN0",
        "colab_type": "code",
        "colab": {}
      },
      "source": [
        ""
      ],
      "execution_count": null,
      "outputs": []
    },
    {
      "cell_type": "markdown",
      "metadata": {
        "id": "Uaif1hlOmpOE",
        "colab_type": "text"
      },
      "source": [
        "Função que converta temperatura em Celsius para Fahrenheit:"
      ]
    },
    {
      "cell_type": "code",
      "metadata": {
        "id": "12F0nDEImpOI",
        "colab_type": "code",
        "colab": {}
      },
      "source": [
        ""
      ],
      "execution_count": null,
      "outputs": []
    },
    {
      "cell_type": "markdown",
      "metadata": {
        "id": "VQYARum-mpOa",
        "colab_type": "text"
      },
      "source": [
        "Esses são só alguns exemplos de cálculos que podem ser automatizados. Se tivermos um ou mais cálculos/procedimentos que iremos repetir com frequência, automatizar os mesmos pode economizar muito tempo (e paciência). Um excelente livro sobre isso é o [Automate the Boring Stuff with Python](https://automatetheboringstuff.com/) (em inglês)."
      ]
    },
    {
      "cell_type": "markdown",
      "metadata": {
        "id": "usScIGu9mvvR",
        "colab_type": "text"
      },
      "source": [
        "Até a próxima aula!"
      ]
    }
  ]
}