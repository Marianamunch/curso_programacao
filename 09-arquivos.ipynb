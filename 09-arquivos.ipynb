{
 "cells": [
  {
   "cell_type": "code",
   "execution_count": 83,
   "metadata": {},
   "outputs": [],
   "source": [
    "## Não se preocupem com essa célula. Ela é só pra essa aula funcionar no Google Colab\n",
    "## Se estiver rodando isso no Colab, Descomente e rode o código abaixo:\n",
    "\n",
    "#!git clone https://github.com/gavieira/curso_programacao\n",
    "\n",
    "#import os\n",
    "#os.chdir('/content/curso_programacao')"
   ]
  },
  {
   "cell_type": "markdown",
   "metadata": {},
   "source": [
    "# Manipulação de arquivos"
   ]
  },
  {
   "cell_type": "markdown",
   "metadata": {},
   "source": [
    "Muitas vezes, precisamos transferir o arquivo para \"dentro\" do nosso programa para que seu conteúdo seja manipulado.\n",
    "\n",
    "A forma mais comum de se trabalhar com arquivos em Python é usar a função `open()`. Sua sintaxe é:\n",
    "\n",
    "     open(arquivo, modo)\n",
    "\n",
    "- **arquivo**: caminho/nome do arquivo que se quer abrir\n",
    "- **modo**: string definindo o modo de abertura do arquivo\n",
    "  - **\"r\"** - Read (Padrão) - Abre arquivo para leitura. Erro se o aqruivo não existir.\n",
    "  - **\"a\"** - Append - Abre arquivo para *appending* (adicionar conteúdo a partir da última linha). Cria arquivo se o mesmo não existir.\n",
    "  - **\"w\"** - Write - Abre arquivo para escrita. Sobrescreve arquivo já existente. Cria novo arquivo se o mesmo não existir.\n",
    "  - **\"x\"** - Create - Cria o arquivo. Erro se o arquivo existir\n",
    "- Além desses 4 modos, é possível especificar se o arquivo aberto será em formato binário ou de texto (**não será tão útil aqui**):\n",
    "  - **\"t\"** - Text (Padrão) - Arquivos de texto (.txt, .fasta, .genbank, .html, .ipynb)\n",
    "  - **\"b\"** - Binário - Imagens, por exemplo."
   ]
  },
  {
   "cell_type": "markdown",
   "metadata": {},
   "source": [
    "A função `open()` retorna um objeto (chamado *file object*), que possui vários métodos associados à leitura do conteúdo do arquivo:"
   ]
  },
  {
   "cell_type": "code",
   "execution_count": 3,
   "metadata": {},
   "outputs": [
    {
     "data": {
      "text/plain": [
       "<_io.TextIOWrapper name='arquivos/arquivo_texto.txt' mode='r' encoding='UTF-8'>"
      ]
     },
     "execution_count": 3,
     "metadata": {},
     "output_type": "execute_result"
    }
   ],
   "source": [
    "# Criando file object\n",
    "open('arquivos/arquivo_texto.txt') # Default mode: 'r'"
   ]
  },
  {
   "cell_type": "markdown",
   "metadata": {},
   "source": [
    "Não especificamos o modo para mostrar que o valor padrão é `r` (`rt`, para ser mais exato), mas passaremos a declarar explicitamente o modo daqui pra frente por ser uma boa prática."
   ]
  },
  {
   "cell_type": "code",
   "execution_count": 4,
   "metadata": {},
   "outputs": [
    {
     "data": {
      "text/plain": [
       "_io.TextIOWrapper"
      ]
     },
     "execution_count": 4,
     "metadata": {},
     "output_type": "execute_result"
    }
   ],
   "source": [
    "type(open('arquivos/arquivo_texto.txt', 'r'))"
   ]
  },
  {
   "cell_type": "markdown",
   "metadata": {},
   "source": [
    "## Métodos do *file object*"
   ]
  },
  {
   "cell_type": "code",
   "execution_count": 8,
   "metadata": {},
   "outputs": [
    {
     "name": "stdout",
     "output_type": "stream",
     "text": [
      "['_CHUNK_SIZE', '__class__', '__del__', '__delattr__', '__dict__', '__dir__', '__doc__', '__enter__', '__eq__', '__exit__', '__format__', '__ge__', '__getattribute__', '__gt__', '__hash__', '__init__', '__init_subclass__', '__iter__', '__le__', '__lt__', '__ne__', '__new__', '__next__', '__reduce__', '__reduce_ex__', '__repr__', '__setattr__', '__sizeof__', '__str__', '__subclasshook__', '_checkClosed', '_checkReadable', '_checkSeekable', '_checkWritable', '_finalizing', 'buffer', 'close', 'closed', 'detach', 'encoding', 'errors', 'fileno', 'flush', 'isatty', 'line_buffering', 'mode', 'name', 'newlines', 'read', 'readable', 'readline', 'readlines', 'reconfigure', 'seek', 'seekable', 'tell', 'truncate', 'writable', 'write', 'write_through', 'writelines']\n"
     ]
    }
   ],
   "source": [
    "# Métodos associados ao file object\n",
    "print(dir(open('arquivos/arquivo_texto.txt', 'r')))"
   ]
  },
  {
   "cell_type": "markdown",
   "metadata": {},
   "source": [
    "### `read()` e `seek()`\n",
    "\n",
    "Agora, vamos passar a salvar o *file object* em variáveis para começar a brincar com ele.\n",
    "\n",
    "Primeiramente, iremos ler todo o conteúdo do arquivo com o método `read()`:"
   ]
  },
  {
   "cell_type": "code",
   "execution_count": 24,
   "metadata": {},
   "outputs": [
    {
     "name": "stdout",
     "output_type": "stream",
     "text": [
      "Olá!\n",
      "Esse é um arquivo de texto para o curso de programação em Python.\n",
      "Ele tem só algumas linhas.\n",
      "Que vão ser mostradas na aula sobre manipulação de arquivos.\n"
     ]
    }
   ],
   "source": [
    "# Botando file object em variável\n",
    "arquivo_texto = open('arquivos/arquivo_texto.txt', 'r')\n",
    "\n",
    "#Imprimindo linhas do arquivo\n",
    "print(arquivo_texto.read())"
   ]
  },
  {
   "cell_type": "markdown",
   "metadata": {},
   "source": [
    "Se tentarmos imprimir novamente o conteúdo do arquivo com o método `read()`, nada será impresso:"
   ]
  },
  {
   "cell_type": "code",
   "execution_count": 25,
   "metadata": {},
   "outputs": [
    {
     "name": "stdout",
     "output_type": "stream",
     "text": [
      "\n"
     ]
    }
   ],
   "source": [
    "print(arquivo_texto.read())"
   ]
  },
  {
   "cell_type": "markdown",
   "metadata": {},
   "source": [
    "Isso acontece porque há um contador em *file objects* que indicam até onde nós lemos o seu conteúdo. Esse contador não é resetado ao chegar no fim do arquivo. É comum dizer nesse caso que o objeto foi **exaurido**.\n",
    "\n",
    "Para resolver isso, podemos:\n",
    "  - Recriar o objeto\n",
    "  - Resetar a posição do contador com o método seek()\n",
    "  - Salvando o conteúdo de `arquivo_texto.read()` em uma variável, que pode ser acessada quantas vezes se quiser (mas gasta mais memória)."
   ]
  },
  {
   "cell_type": "code",
   "execution_count": 26,
   "metadata": {},
   "outputs": [
    {
     "name": "stdout",
     "output_type": "stream",
     "text": [
      "Olá!\n",
      "Esse é um arquivo de texto para o curso de programação em Python.\n",
      "Ele tem só algumas linhas.\n",
      "Que vão ser mostradas na aula sobre manipulação de arquivos.\n"
     ]
    }
   ],
   "source": [
    "# Recriando o objeto e imprimindo conteúdo\n",
    "arquivo_texto = open('arquivos/arquivo_texto.txt', 'r')\n",
    "print(arquivo_texto.read())"
   ]
  },
  {
   "cell_type": "code",
   "execution_count": 36,
   "metadata": {},
   "outputs": [
    {
     "name": "stdout",
     "output_type": "stream",
     "text": [
      "Antes de resetar contador:\n",
      " \n",
      "Depois de resetar contador:\n",
      " Olá!\n",
      "Esse é um arquivo de texto para o curso de programação em Python.\n",
      "Ele tem só algumas linhas.\n",
      "Que vão ser mostradas na aula sobre manipulação de arquivos.\n"
     ]
    }
   ],
   "source": [
    "print(\"Antes de resetar contador:\\n\", arquivo_texto.read()) # Não vai imprimir nada\n",
    "\n",
    "# Usando método seek() para resetar a posição de leitura do objeto\n",
    "\n",
    "arquivo_texto.seek(0) # Voltando pra posição 0 (início do arquivo)\n",
    "print(\"Depois de resetar contador:\\n\", arquivo_texto.read())"
   ]
  },
  {
   "cell_type": "code",
   "execution_count": 40,
   "metadata": {},
   "outputs": [
    {
     "name": "stdout",
     "output_type": "stream",
     "text": [
      "Olá!\n",
      "Esse é um arquivo de texto para o curso de programação em Python.\n",
      "Ele tem só algumas linhas.\n",
      "Que vão ser mostradas na aula sobre manipulação de arquivos.\n",
      "\n",
      "Olá!\n",
      "Esse é um arquivo de texto para o curso de programação em Python.\n",
      "Ele tem só algumas linhas.\n",
      "Que vão ser mostradas na aula sobre manipulação de arquivos.\n",
      "\n",
      "Olá!\n",
      "Esse é um arquivo de texto para o curso de programação em Python.\n",
      "Ele tem só algumas linhas.\n",
      "Que vão ser mostradas na aula sobre manipulação de arquivos.\n",
      "\n",
      "Olá!\n",
      "Esse é um arquivo de texto para o curso de programação em Python.\n",
      "Ele tem só algumas linhas.\n",
      "Que vão ser mostradas na aula sobre manipulação de arquivos.\n",
      "\n",
      "Olá!\n",
      "Esse é um arquivo de texto para o curso de programação em Python.\n",
      "Ele tem só algumas linhas.\n",
      "Que vão ser mostradas na aula sobre manipulação de arquivos.\n",
      "\n",
      "Olá!\n",
      "Esse é um arquivo de texto para o curso de programação em Python.\n",
      "Ele tem só algumas linhas.\n",
      "Que vão ser mostradas na aula sobre manipulação de arquivos.\n",
      "\n",
      "Olá!\n",
      "Esse é um arquivo de texto para o curso de programação em Python.\n",
      "Ele tem só algumas linhas.\n",
      "Que vão ser mostradas na aula sobre manipulação de arquivos.\n",
      "\n",
      "Olá!\n",
      "Esse é um arquivo de texto para o curso de programação em Python.\n",
      "Ele tem só algumas linhas.\n",
      "Que vão ser mostradas na aula sobre manipulação de arquivos.\n",
      "\n"
     ]
    }
   ],
   "source": [
    "# Salvando conteúdo do arquivo em variável\n",
    "# Cuidado! Gasta mais memória. Não recomendável para arquivos grandes\n",
    "\n",
    "arquivo_texto.seek(0)\n",
    "conteúdo = arquivo_texto.read()\n",
    "\n",
    "print(conteúdo + '\\n')\n",
    "print(conteúdo + '\\n')\n",
    "print(conteúdo + '\\n')\n",
    "print(conteúdo + '\\n')\n",
    "print(conteúdo + '\\n')\n",
    "print(conteúdo + '\\n')\n",
    "print(conteúdo + '\\n')\n",
    "print(conteúdo + '\\n')"
   ]
  },
  {
   "cell_type": "markdown",
   "metadata": {},
   "source": [
    "Essa característica do `file object` de possuir um contador que não é resetado automaticamente e eventualmente acabar exaurido é muito comum em uma classe de iteráveis chamados de *generators*.\n",
    "\n",
    "Esses objetos infelizmente não serão abordados aqui, mas são muito importantes em momentos nos quais precisamos iterar sobre objetos muito grandes e ao mesmo tempo otimizar o consumo de RAM."
   ]
  },
  {
   "cell_type": "markdown",
   "metadata": {},
   "source": [
    "Voltando aos métodos de `file objects`, temos que o método `read()` pode receber um parâmetro numérico que especifica quantos caracteres devem ser retornados:"
   ]
  },
  {
   "cell_type": "code",
   "execution_count": 41,
   "metadata": {},
   "outputs": [
    {
     "name": "stdout",
     "output_type": "stream",
     "text": [
      "Olá!\n",
      "Esse é um arqui\n",
      "vo de\n"
     ]
    }
   ],
   "source": [
    "# Resetando a posição do objeto:\n",
    "arquivo_texto.seek(0)\n",
    "\n",
    "# Retornando os primeiros 20 caracteres:\n",
    "print(arquivo_texto.read(20))\n",
    "\n",
    "# Retornando os próximos 5 caracteres:\n",
    "print(arquivo_texto.read(5))"
   ]
  },
  {
   "cell_type": "markdown",
   "metadata": {},
   "source": [
    "### `readline()`\n",
    "\n",
    "Se quisermos ler uma única linha do arquivo de texto, podemos usar o método `readline()`:"
   ]
  },
  {
   "cell_type": "code",
   "execution_count": 59,
   "metadata": {},
   "outputs": [],
   "source": [
    "arquivo_texto = open('arquivos/arquivo_texto.txt', 'r')"
   ]
  },
  {
   "cell_type": "code",
   "execution_count": 60,
   "metadata": {},
   "outputs": [
    {
     "name": "stdout",
     "output_type": "stream",
     "text": [
      "Olá!\n",
      "\n"
     ]
    }
   ],
   "source": [
    "# Rode essa célula múltiplas vezes\n",
    "# Eventualmente, o objeto será exaurido\n",
    "\n",
    "print(arquivo_texto.readline())"
   ]
  },
  {
   "cell_type": "markdown",
   "metadata": {},
   "source": [
    "#### OBS: `for` loop para ler linhas em arquivo\n",
    "\n",
    "Também é possível usar um **for loop** para ler o arquivo inteiro, linha por linha:"
   ]
  },
  {
   "cell_type": "code",
   "execution_count": 62,
   "metadata": {},
   "outputs": [
    {
     "name": "stdout",
     "output_type": "stream",
     "text": [
      "Olá!\n",
      "\n",
      "Esse é um arquivo de texto para o curso de programação em Python.\n",
      "\n",
      "Ele tem só algumas linhas.\n",
      "\n",
      "Que vão ser mostradas na aula sobre manipulação de arquivos.\n"
     ]
    }
   ],
   "source": [
    "arquivo_texto = open('arquivos/arquivo_texto.txt', 'r')\n",
    "for linha in arquivo_texto:\n",
    "    print(linha)"
   ]
  },
  {
   "cell_type": "markdown",
   "metadata": {},
   "source": [
    "### `write()`\n",
    "\n",
    "Como o nome dá a entender, o método `write()` recebe um parâmetro que é escrito em um arquivo que foi previamente aberto (no modo 'w' ou 'a'):"
   ]
  },
  {
   "cell_type": "code",
   "execution_count": 82,
   "metadata": {},
   "outputs": [],
   "source": [
    "arquivo_novo = open(\"arquivos/arquivo_novo.txt\", \"w\")\n",
    "for num in range(10):\n",
    "    arquivo_novo.write(\"Linha {}\\n\".format(num))\n",
    "\n",
    "# Checar se arquivo saiu como o esperado...\n",
    "\n",
    "# ...e se descomentar a linha abaixo? Funciona?\n",
    "#arquivo_texto.close() # Spoilers do próximo método..."
   ]
  },
  {
   "cell_type": "markdown",
   "metadata": {},
   "source": [
    "### `close()` "
   ]
  },
  {
   "cell_type": "markdown",
   "metadata": {},
   "source": [
    "É considerada boa prática **fechar** o arquivo aberto pela função `open()` após terminar de manuseá-lo. Para isso, basta usar o método `close()`.\n",
    "\n",
    "As mudanças em um arquivo só aparecerão no mesmo após seu fechamento. Logo, esquecer de fechar um arquivo é particularmente ruim para arquivos que estamos querendo modificar.\n",
    "\n",
    "Mas, por via das dúvidas, **SEMPRE** feche o arquivo."
   ]
  },
  {
   "cell_type": "code",
   "execution_count": 68,
   "metadata": {},
   "outputs": [
    {
     "name": "stdout",
     "output_type": "stream",
     "text": [
      "Olá!\n",
      "\n",
      "Esse é um arquivo de texto para o curso de programação em Python.\n",
      "\n",
      "Ele tem só algumas linhas.\n",
      "\n",
      "Que vão ser mostradas na aula sobre manipulação de arquivos.\n"
     ]
    }
   ],
   "source": [
    "arquivo_texto = open('arquivos/arquivo_texto.txt', 'r')\n",
    "for linha in arquivo_texto:\n",
    "    print(linha)\n",
    "arquivo_texto.close() # SEMPRE fechar o arquivo. Mudanças no mesmo só aparecerão após fechá-lo."
   ]
  },
  {
   "cell_type": "markdown",
   "metadata": {},
   "source": [
    "### Usando `with` em conjunto com `open()`\n",
    "\n",
    "Uma maneira de evitar a burocracia de gerenciar a abertura e fechamento de arquivos, salvar `file objects` em variáveis e afins  a palavra-chave `with`. Com ela, a sintaxe para abrir um arquivo muda um pouco:\n",
    "\n",
    "        with open(arquivo, modo) as nome_de_variável:\n",
    "            bloco_de_codigo_manipulando_arquivo\n",
    "            \n",
    "Com isso, já definimos o nome da variável que vai receber o objeto. Também é possível abrir mais de um objeto de uma vez assim. Mas talvez o mais importante seja que, após a execução do bloco de código, o arquivo será fechado automaticamente. Logo, **não precisamos nos preocupar com o fechamento de arquivos**."
   ]
  },
  {
   "cell_type": "code",
   "execution_count": 71,
   "metadata": {},
   "outputs": [
    {
     "name": "stdout",
     "output_type": "stream",
     "text": [
      "Linha lida: Olá!\n",
      "\n",
      "Linha lida: Esse é um arquivo de texto para o curso de programação em Python.\n",
      "\n",
      "Linha lida: Ele tem só algumas linhas.\n",
      "\n",
      "Linha lida: Que vão ser mostradas na aula sobre manipulação de arquivos.\n",
      "\n",
      "Eu não precisarei fechar esse arquivo!\n"
     ]
    }
   ],
   "source": [
    "with open(\"arquivos/arquivo_texto.txt\", \"r\") as arquivo_texto:\n",
    "    for linha in arquivo_texto:\n",
    "        print(\"Linha lida: {}\".format(linha))\n",
    "    print(\"\\nEu não precisarei fechar esse arquivo!\")"
   ]
  },
  {
   "cell_type": "markdown",
   "metadata": {},
   "source": [
    "## Brincando com arquivos de sequência (fasta)\n",
    "\n",
    "Os arquivos fasta possuem a seguinte estrutura:\n",
    "\n",
    "- Cabeçalho: Linha sempre iniciada por '>'. Identifica a sequência.\n",
    "- Sequência: Linhas com a sequência (de nucleotídeos ou aminoácidos).\n",
    "\n",
    "Um arquivo com extensão .fasta ou .fa pode conter uma ou múltiplas sequências. No segundo caso, o arquivo é chamado de **multifasta**.\n",
    "\n",
    "Vamos ver alguns exemplos:"
   ]
  },
  {
   "cell_type": "code",
   "execution_count": 87,
   "metadata": {},
   "outputs": [
    {
     "name": "stdout",
     "output_type": "stream",
     "text": [
      ">seq1\n",
      "ATGTTGAGTCTTCAGATCTGATTTAAGCCT\n",
      "AGTTCAGCTACGATCCGACTACGACTCGAA\n",
      "TCGACTCGATCAGCCATACGACTCGCAGAG\n",
      "TGCGTCGATCGGTCTTTAGCGTCAGCTACT\n",
      "GCTACGATCAGCTACGACGTACACGATAAA\n",
      "TCAGCTACA"
     ]
    }
   ],
   "source": [
    "with open(\"arquivos/seq1.fasta\", \"r\") as fasta:\n",
    "    for linha in fasta:\n",
    "        print(linha, end=\"\") # Parâmetro 'end' usado para evitar newlines"
   ]
  },
  {
   "cell_type": "code",
   "execution_count": 88,
   "metadata": {},
   "outputs": [
    {
     "name": "stdout",
     "output_type": "stream",
     "text": [
      ">seq1\n",
      "ATGTTGAGTCTTCAGATCTGATTTAAGCCT\n",
      "AGTTCAGCTACGATCCGACTACGACTCGAA\n",
      "TCGACTCGATCAGCCATACGACTCGCAGAG\n",
      "TGCGTCGATCGGTCTTTAGCGTCAGCTACT\n",
      "GCTACGATCAGCTACGACGTACACGATAAA\n",
      "TCAGCTACA\n",
      ">seq2\n",
      "ATGGATCGATCAGCTACGACTACGACTACA\n",
      "TCAGCTACGACTAGCACTCAGCATCATCAG\n",
      "TCAGCTACGACGATCCGATCACGATCAGAT\n",
      "CTACGACATCGCATCACGACTACTCAGCAA\n",
      "TCAGCAACTCAGCATCAGCATCAGCACATG\n",
      "TCAGCTACGCATCGCATCAGACCTACGATT\n",
      "TCAGCCTAAGCCGATCATCACATCATCAGG\n",
      "TCACGACATCAGCATCAGACTCAGCAGACG\n",
      "CACACHACYACTCAGCCAGCATCAGTAGCA\n",
      "GTCAGCTACGCATCAGCACTACAGCATCAA\n",
      "AAACTCAGCTCACGACATCACAGACTCAGT\n",
      "CTACAGCATCAGGACCTACAGCATCAGCAT\n",
      "CTACGCATCAGACCTACATCACAGTTAAAT\n",
      "TCG\n",
      ">seq3\n",
      "GCTAGCATCTAGCATGCTAGCTACGTACGT\n",
      "TCAGCATCAGCATCAGCATCAGCAACTCAG\n",
      "ACACACTATACGTACGCATCAGACTCAGTC\n",
      "GAGCTACGATCAGCATACTACGACCATCAT\n",
      "TACGCT"
     ]
    }
   ],
   "source": [
    "with open(\"arquivos/multifasta.fasta\", \"r\") as multifasta:\n",
    "    for linha in multifasta:\n",
    "        print(linha, end=\"\")"
   ]
  },
  {
   "cell_type": "markdown",
   "metadata": {},
   "source": [
    "Vamos criar uma função que converta sequências de DNA em RNA, ou seja, substitua T (timina) por U (uracila):"
   ]
  },
  {
   "cell_type": "code",
   "execution_count": 89,
   "metadata": {},
   "outputs": [],
   "source": [
    "def dna_para_rna(arquivo_fasta):\n",
    "    conteudo = ''\n",
    "    with open(arquivo_fasta, 'r') as fasta:\n",
    "        for linha in fasta:\n",
    "            if linha.startswith('>'):\n",
    "                conteudo = conteudo + linha\n",
    "            else:\n",
    "                conteudo = conteudo + linha.replace(\"T\", \"U\")\n",
    "        return conteudo"
   ]
  },
  {
   "cell_type": "code",
   "execution_count": null,
   "metadata": {},
   "outputs": [],
   "source": []
  }
 ],
 "metadata": {
  "kernelspec": {
   "display_name": "Python 3",
   "language": "python",
   "name": "python3"
  },
  "language_info": {
   "codemirror_mode": {
    "name": "ipython",
    "version": 3
   },
   "file_extension": ".py",
   "mimetype": "text/x-python",
   "name": "python",
   "nbconvert_exporter": "python",
   "pygments_lexer": "ipython3",
   "version": "3.8.3"
  }
 },
 "nbformat": 4,
 "nbformat_minor": 4
}
