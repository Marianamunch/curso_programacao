{
 "cells": [
  {
   "cell_type": "code",
   "execution_count": 3,
   "metadata": {},
   "outputs": [],
   "source": [
    "## Não se preocupem com essa célula. Ela é só pra essa aula funcionar no Google Colab\n",
    "## Se estiver rodando isso no Colab, Descomente e rode o código abaixo:\n",
    "\n",
    "#!git clone https://github.com/gavieira/curso_programacao\n",
    "\n",
    "#import os\n",
    "#os.chdir('/content/curso_programacao')\n",
    "#!git pull"
   ]
  },
  {
   "cell_type": "markdown",
   "metadata": {},
   "source": [
    "# Exercícios"
   ]
  },
  {
   "cell_type": "markdown",
   "metadata": {},
   "source": [
    "## 1\n",
    "Escreva uma função que retorne o comprimento de uma string:"
   ]
  },
  {
   "cell_type": "code",
   "execution_count": null,
   "metadata": {},
   "outputs": [],
   "source": []
  },
  {
   "cell_type": "markdown",
   "metadata": {},
   "source": [
    "## 2\n",
    "Crie uma função que:\n",
    "- Receba uma string como argumento\n",
    "- Retorne uma string que consista na junção das 2 primeiras e 2 últimas letras\n",
    "- Retorne uma string vazia se o argumento tiver menos do que duas letras"
   ]
  },
  {
   "cell_type": "code",
   "execution_count": null,
   "metadata": {},
   "outputs": [],
   "source": []
  },
  {
   "cell_type": "markdown",
   "metadata": {},
   "source": [
    "## 3\n",
    "Escreva uma função que:\n",
    "- Receba uma string como argumento\n",
    "- Substitua todas as ocorrências do primeiro caracter por '\\$', exceto pelo próprio primeiro caracter.\n",
    "- Retorne essa string com as substituições.\n",
    "\n",
    "```\n",
    "Ex. de entrada: 'rearranjo'\n",
    "Ex. de saída: 'rea$$anjo'\n",
    "```"
   ]
  },
  {
   "cell_type": "code",
   "execution_count": null,
   "metadata": {},
   "outputs": [],
   "source": []
  },
  {
   "cell_type": "markdown",
   "metadata": {},
   "source": [
    "## 4\n",
    "Escreva uma função que:\n",
    "- Retorne uma string que seja a fusão de duas outras strings, separadas pro espaço e com as primeiras letras trocadas entre si\n",
    "\n",
    "Exemplo:\n",
    "```\n",
    "Entrada: 'abc','xyz'\n",
    "Saída: 'xbc ayz'\n",
    "```"
   ]
  },
  {
   "cell_type": "code",
   "execution_count": null,
   "metadata": {},
   "outputs": [],
   "source": []
  },
  {
   "cell_type": "markdown",
   "metadata": {},
   "source": [
    "## 5\n",
    "Escreva uma função que:\n",
    "- Substitua a última letra de uma palavra por 'asso' \n",
    "- Se a palavra já terminar com 'asso', substituir 'asso' por 'issimo'\n",
    "- Se a palavra já terminar com 'íssimo', substituir 'íssimo' por 'érrimo'\n",
    "- Se a palavra tiver 3 caracteres ou mesmo, não alterar a palavra.\n",
    "- Por último, retorne a string gerada\n",
    "\n",
    "Exemplo:\n",
    "\n",
    "```\n",
    "Entrada 1: \"cansado\"\n",
    "Saída 1: \"cansadasso\"\n",
    "\n",
    "Entrada 1: \"cansadasso\"\n",
    "Saída 1: \"cansadíssimo\"\n",
    "\n",
    "Entrada 1: \"cansadíssimo\"\n",
    "Saída 1: \"cansadérrimo\"\n",
    "\n",
    "Entrada 1: \"olá\"\n",
    "Saída 1: \"olá\"\n"
   ]
  },
  {
   "cell_type": "code",
   "execution_count": null,
   "metadata": {},
   "outputs": [],
   "source": []
  },
  {
   "cell_type": "markdown",
   "metadata": {},
   "source": [
    "## 6\n",
    "Escreva uma função que receba uma string e retorne a mesma string com o primeiro e último caracteres trocados:"
   ]
  },
  {
   "cell_type": "code",
   "execution_count": null,
   "metadata": {},
   "outputs": [],
   "source": []
  },
  {
   "cell_type": "markdown",
   "metadata": {},
   "source": [
    "## 7\n",
    "Esreva uma função que remova os caracteres com índice ímpar de uma string:"
   ]
  },
  {
   "cell_type": "code",
   "execution_count": null,
   "metadata": {},
   "outputs": [],
   "source": []
  },
  {
   "cell_type": "markdown",
   "metadata": {},
   "source": [
    "## 8\n",
    "Escreva duas funções:\n",
    "- uma que retorne uma string totalmente convertida em maiúsculas\n",
    "- outra que retorne uma string totalmente convertida em minúsculas"
   ]
  },
  {
   "cell_type": "code",
   "execution_count": null,
   "metadata": {},
   "outputs": [],
   "source": []
  },
  {
   "cell_type": "markdown",
   "metadata": {},
   "source": [
    "## 9\n",
    "Escreva uma função que remova os espaços de uma string:"
   ]
  },
  {
   "cell_type": "code",
   "execution_count": null,
   "metadata": {},
   "outputs": [],
   "source": []
  },
  {
   "cell_type": "markdown",
   "metadata": {},
   "source": [
    "**OBS**: Para os próximos exercícios, use os arquivos de texto presentes na pasta \"arquivos\""
   ]
  },
  {
   "cell_type": "markdown",
   "metadata": {},
   "source": [
    "## 10\n",
    "Escreva um script que receba uma string com o caminho para um arquivo de texto e retorne todo o seu conteúdo:"
   ]
  },
  {
   "cell_type": "code",
   "execution_count": null,
   "metadata": {},
   "outputs": [],
   "source": []
  },
  {
   "cell_type": "markdown",
   "metadata": {},
   "source": [
    "## 11\n",
    "Escreva um script que receba leia um arquivo de texto e criei outro arquivo (chamado 'linhas_numeradas.txt') com o número da linha antes do texto original, separados por tabulação:\n",
    "\n",
    "Exemplo de arquivo original:\n",
    "```\n",
    "Oi!\n",
    "Esse é um arquivo de texto.\n",
    "Está aqui só pra preencher espaço\n",
    "```\n",
    "\n",
    "Exemplo de novo arquivo:\n",
    "```\n",
    "1    Oi!\n",
    "2    Esse é um arquivo de texto.\n",
    "3    Está aqui só pra preencher espaço\n",
    "```"
   ]
  },
  {
   "cell_type": "code",
   "execution_count": null,
   "metadata": {},
   "outputs": [],
   "source": []
  },
  {
   "cell_type": "markdown",
   "metadata": {},
   "source": [
    "## 12\n",
    "Escreva uma função que conte quantas sequências há em um arquivo multifasta (use o arquivo em 'arquivos/multifasta.fasta'):"
   ]
  },
  {
   "cell_type": "code",
   "execution_count": null,
   "metadata": {},
   "outputs": [],
   "source": []
  },
  {
   "cell_type": "markdown",
   "metadata": {},
   "source": [
    "## 13\n",
    "Escreva uma função que conte quantos nucleotídeos há em um arquivo fasta com uma única sequência (use o arquivo em 'arquivos/seq1.fasta'):"
   ]
  },
  {
   "cell_type": "code",
   "execution_count": null,
   "metadata": {},
   "outputs": [],
   "source": []
  }
 ],
 "metadata": {
  "kernelspec": {
   "display_name": "Python 3",
   "language": "python",
   "name": "python3"
  },
  "language_info": {
   "codemirror_mode": {
    "name": "ipython",
    "version": 3
   },
   "file_extension": ".py",
   "mimetype": "text/x-python",
   "name": "python",
   "nbconvert_exporter": "python",
   "pygments_lexer": "ipython3",
   "version": "3.8.3"
  }
 },
 "nbformat": 4,
 "nbformat_minor": 4
}
