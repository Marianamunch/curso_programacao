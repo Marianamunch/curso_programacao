{
 "cells": [
  {
   "cell_type": "markdown",
   "metadata": {},
   "source": [
    "# Exercício:"
   ]
  },
  {
   "cell_type": "markdown",
   "metadata": {},
   "source": [
    "Para uma equação de segundo grau $ax^2 + bx + c$, o número de raízes reais é definido pelo valor de delta <nobr>($ \\Delta = b^2 -4ac $).</nobr>\n",
    "\n",
    "- Se $ \\Delta > 0 $ : Duas raízes\n",
    "- Se $ \\Delta = 0 $ : Uma raíz\n",
    "- Se $ \\Delta < 0 $ : Nenhuma raíz\n",
    "\n",
    "Assim sendo, escreva um script que receba os coeficientes da equação de 2º grau e, com base nesses coeficientes, te diga automaticamente quantas raízes essa equação possui."
   ]
  },
  {
   "cell_type": "code",
   "execution_count": null,
   "metadata": {},
   "outputs": [],
   "source": []
  },
  {
   "cell_type": "markdown",
   "metadata": {},
   "source": [
    "## Desafio:\n",
    "\n",
    "Crie um script que retorne o valor das raízes de uma equação de 2º grau.\n",
    "\n",
    "Lembre-se que a resolução das raízes se dá usando a ** Fórmula de Bhaskara **:\n",
    "\n",
    "<p style=\"font-size:16pt; text-align:center\"> $ x = \\frac{-b \\pm\\sqrt{b^2 - 4ac}}{2a} $</p>"
   ]
  },
  {
   "cell_type": "code",
   "execution_count": null,
   "metadata": {},
   "outputs": [],
   "source": []
  }
 ],
 "metadata": {
  "kernelspec": {
   "display_name": "Python 3",
   "language": "python",
   "name": "python3"
  },
  "language_info": {
   "codemirror_mode": {
    "name": "ipython",
    "version": 3
   },
   "file_extension": ".py",
   "mimetype": "text/x-python",
   "name": "python",
   "nbconvert_exporter": "python",
   "pygments_lexer": "ipython3",
   "version": "3.7.4"
  }
 },
 "nbformat": 4,
 "nbformat_minor": 4
}
